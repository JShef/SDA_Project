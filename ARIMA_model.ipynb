{
 "cells": [
  {
   "cell_type": "code",
   "execution_count": 1,
   "id": "6efa8906-cd49-4af1-9254-e4d4566c4c6d",
   "metadata": {},
   "outputs": [],
   "source": [
    "import numpy as np\n",
    "import pandas as pd\n",
    "import pandas_datareader.data as web\n",
    "from scipy import stats\n",
    "import yfinance as yf\n",
    "import matplotlib.pyplot as plt\n",
    "%matplotlib inline\n",
    "from arch import arch_model"
   ]
  },
  {
   "cell_type": "markdown",
   "id": "95b7e452-2311-4353-8549-9ff059e97351",
   "metadata": {},
   "source": [
    "## 1. Loading in datasets"
   ]
  },
  {
   "cell_type": "markdown",
   "id": "2fecbc7b-da8e-47a0-bc6a-375934cfa6bf",
   "metadata": {},
   "source": [
    "#### (a) Dataset for Credit Default Swap spreads"
   ]
  },
  {
   "cell_type": "code",
   "execution_count": 2,
   "id": "b247fb87-984d-4b1f-813d-77408fb20f19",
   "metadata": {},
   "outputs": [
    {
     "data": {
      "text/html": [
       "<div>\n",
       "<style scoped>\n",
       "    .dataframe tbody tr th:only-of-type {\n",
       "        vertical-align: middle;\n",
       "    }\n",
       "\n",
       "    .dataframe tbody tr th {\n",
       "        vertical-align: top;\n",
       "    }\n",
       "\n",
       "    .dataframe thead th {\n",
       "        text-align: right;\n",
       "    }\n",
       "</style>\n",
       "<table border=\"1\" class=\"dataframe\">\n",
       "  <thead>\n",
       "    <tr style=\"text-align: right;\">\n",
       "      <th></th>\n",
       "      <th>Date</th>\n",
       "      <th>Ticker</th>\n",
       "      <th>Company</th>\n",
       "      <th>PX1</th>\n",
       "      <th>PX2</th>\n",
       "      <th>PX3</th>\n",
       "      <th>PX4</th>\n",
       "      <th>PX5</th>\n",
       "      <th>PX6</th>\n",
       "      <th>PX7</th>\n",
       "      <th>PX8</th>\n",
       "      <th>PX9</th>\n",
       "      <th>PX10</th>\n",
       "    </tr>\n",
       "  </thead>\n",
       "  <tbody>\n",
       "    <tr>\n",
       "      <th>0</th>\n",
       "      <td>2015-01-01</td>\n",
       "      <td>A</td>\n",
       "      <td>Agilent Technologies Inc</td>\n",
       "      <td>14.850</td>\n",
       "      <td>25.05</td>\n",
       "      <td>39.055</td>\n",
       "      <td>73.715</td>\n",
       "      <td>86.30</td>\n",
       "      <td>111.305</td>\n",
       "      <td>125.905</td>\n",
       "      <td>144.300</td>\n",
       "      <td>158.600</td>\n",
       "      <td>168.195</td>\n",
       "    </tr>\n",
       "    <tr>\n",
       "      <th>1</th>\n",
       "      <td>2015-01-02</td>\n",
       "      <td>A</td>\n",
       "      <td>Agilent Technologies Inc</td>\n",
       "      <td>14.855</td>\n",
       "      <td>25.15</td>\n",
       "      <td>39.160</td>\n",
       "      <td>73.600</td>\n",
       "      <td>86.40</td>\n",
       "      <td>111.510</td>\n",
       "      <td>126.100</td>\n",
       "      <td>144.375</td>\n",
       "      <td>158.775</td>\n",
       "      <td>168.375</td>\n",
       "    </tr>\n",
       "    <tr>\n",
       "      <th>2</th>\n",
       "      <td>2015-01-05</td>\n",
       "      <td>A</td>\n",
       "      <td>Agilent Technologies Inc</td>\n",
       "      <td>13.455</td>\n",
       "      <td>24.96</td>\n",
       "      <td>39.310</td>\n",
       "      <td>70.200</td>\n",
       "      <td>88.26</td>\n",
       "      <td>111.970</td>\n",
       "      <td>125.060</td>\n",
       "      <td>143.165</td>\n",
       "      <td>157.385</td>\n",
       "      <td>166.825</td>\n",
       "    </tr>\n",
       "    <tr>\n",
       "      <th>3</th>\n",
       "      <td>2015-01-06</td>\n",
       "      <td>A</td>\n",
       "      <td>Agilent Technologies Inc</td>\n",
       "      <td>15.535</td>\n",
       "      <td>24.88</td>\n",
       "      <td>39.300</td>\n",
       "      <td>72.680</td>\n",
       "      <td>91.10</td>\n",
       "      <td>116.610</td>\n",
       "      <td>130.890</td>\n",
       "      <td>150.365</td>\n",
       "      <td>165.655</td>\n",
       "      <td>175.885</td>\n",
       "    </tr>\n",
       "    <tr>\n",
       "      <th>4</th>\n",
       "      <td>2015-01-07</td>\n",
       "      <td>A</td>\n",
       "      <td>Agilent Technologies Inc</td>\n",
       "      <td>15.215</td>\n",
       "      <td>25.50</td>\n",
       "      <td>40.270</td>\n",
       "      <td>73.880</td>\n",
       "      <td>92.50</td>\n",
       "      <td>117.780</td>\n",
       "      <td>131.940</td>\n",
       "      <td>151.145</td>\n",
       "      <td>166.215</td>\n",
       "      <td>176.295</td>\n",
       "    </tr>\n",
       "  </tbody>\n",
       "</table>\n",
       "</div>"
      ],
      "text/plain": [
       "        Date Ticker                   Company     PX1    PX2     PX3     PX4  \\\n",
       "0 2015-01-01      A  Agilent Technologies Inc  14.850  25.05  39.055  73.715   \n",
       "1 2015-01-02      A  Agilent Technologies Inc  14.855  25.15  39.160  73.600   \n",
       "2 2015-01-05      A  Agilent Technologies Inc  13.455  24.96  39.310  70.200   \n",
       "3 2015-01-06      A  Agilent Technologies Inc  15.535  24.88  39.300  72.680   \n",
       "4 2015-01-07      A  Agilent Technologies Inc  15.215  25.50  40.270  73.880   \n",
       "\n",
       "     PX5      PX6      PX7      PX8      PX9     PX10  \n",
       "0  86.30  111.305  125.905  144.300  158.600  168.195  \n",
       "1  86.40  111.510  126.100  144.375  158.775  168.375  \n",
       "2  88.26  111.970  125.060  143.165  157.385  166.825  \n",
       "3  91.10  116.610  130.890  150.365  165.655  175.885  \n",
       "4  92.50  117.780  131.940  151.145  166.215  176.295  "
      ]
     },
     "execution_count": 2,
     "metadata": {},
     "output_type": "execute_result"
    }
   ],
   "source": [
    "cds_DF = pd.read_csv(\"datasets/cds.csv\", parse_dates=['Date'])\n",
    "cds_DF.head()"
   ]
  },
  {
   "cell_type": "markdown",
   "id": "b2ffb2ca-6722-41eb-9de6-5bcf92ebda4f",
   "metadata": {},
   "source": [
    "#### (b) Dataset for equities of different companies"
   ]
  },
  {
   "cell_type": "code",
   "execution_count": 3,
   "id": "d48f8b5d-40da-4bb4-a2cc-b47817771370",
   "metadata": {},
   "outputs": [
    {
     "data": {
      "text/html": [
       "<div>\n",
       "<style scoped>\n",
       "    .dataframe tbody tr th:only-of-type {\n",
       "        vertical-align: middle;\n",
       "    }\n",
       "\n",
       "    .dataframe tbody tr th {\n",
       "        vertical-align: top;\n",
       "    }\n",
       "\n",
       "    .dataframe thead th {\n",
       "        text-align: right;\n",
       "    }\n",
       "</style>\n",
       "<table border=\"1\" class=\"dataframe\">\n",
       "  <thead>\n",
       "    <tr style=\"text-align: right;\">\n",
       "      <th></th>\n",
       "      <th>A</th>\n",
       "      <th>AAPL</th>\n",
       "      <th>ABBV</th>\n",
       "      <th>ABT</th>\n",
       "      <th>ADM</th>\n",
       "      <th>ADP</th>\n",
       "      <th>AES</th>\n",
       "      <th>AFG</th>\n",
       "      <th>AGR</th>\n",
       "      <th>AIG</th>\n",
       "      <th>...</th>\n",
       "      <th>WEC</th>\n",
       "      <th>WELL</th>\n",
       "      <th>WFC</th>\n",
       "      <th>WHR</th>\n",
       "      <th>WM</th>\n",
       "      <th>WMB</th>\n",
       "      <th>WMT</th>\n",
       "      <th>WU</th>\n",
       "      <th>WY</th>\n",
       "      <th>XOM</th>\n",
       "    </tr>\n",
       "    <tr>\n",
       "      <th>Date</th>\n",
       "      <th></th>\n",
       "      <th></th>\n",
       "      <th></th>\n",
       "      <th></th>\n",
       "      <th></th>\n",
       "      <th></th>\n",
       "      <th></th>\n",
       "      <th></th>\n",
       "      <th></th>\n",
       "      <th></th>\n",
       "      <th></th>\n",
       "      <th></th>\n",
       "      <th></th>\n",
       "      <th></th>\n",
       "      <th></th>\n",
       "      <th></th>\n",
       "      <th></th>\n",
       "      <th></th>\n",
       "      <th></th>\n",
       "      <th></th>\n",
       "      <th></th>\n",
       "    </tr>\n",
       "  </thead>\n",
       "  <tbody>\n",
       "    <tr>\n",
       "      <th>2015-01-02</th>\n",
       "      <td>37.422062</td>\n",
       "      <td>24.347172</td>\n",
       "      <td>43.563179</td>\n",
       "      <td>37.108746</td>\n",
       "      <td>39.133045</td>\n",
       "      <td>67.362991</td>\n",
       "      <td>9.684173</td>\n",
       "      <td>30.017288</td>\n",
       "      <td>NaN</td>\n",
       "      <td>44.253033</td>\n",
       "      <td>...</td>\n",
       "      <td>38.417412</td>\n",
       "      <td>51.027782</td>\n",
       "      <td>41.032391</td>\n",
       "      <td>135.059799</td>\n",
       "      <td>42.477646</td>\n",
       "      <td>25.322723</td>\n",
       "      <td>23.493425</td>\n",
       "      <td>11.352100</td>\n",
       "      <td>24.284630</td>\n",
       "      <td>60.042534</td>\n",
       "    </tr>\n",
       "    <tr>\n",
       "      <th>2015-01-05</th>\n",
       "      <td>36.720852</td>\n",
       "      <td>23.661274</td>\n",
       "      <td>42.743362</td>\n",
       "      <td>37.117004</td>\n",
       "      <td>37.778957</td>\n",
       "      <td>67.314476</td>\n",
       "      <td>9.408492</td>\n",
       "      <td>29.623707</td>\n",
       "      <td>NaN</td>\n",
       "      <td>43.377602</td>\n",
       "      <td>...</td>\n",
       "      <td>37.947937</td>\n",
       "      <td>51.657738</td>\n",
       "      <td>39.907192</td>\n",
       "      <td>132.274841</td>\n",
       "      <td>42.050804</td>\n",
       "      <td>24.320345</td>\n",
       "      <td>23.425055</td>\n",
       "      <td>11.244470</td>\n",
       "      <td>24.284630</td>\n",
       "      <td>58.399651</td>\n",
       "    </tr>\n",
       "    <tr>\n",
       "      <th>2015-01-06</th>\n",
       "      <td>36.148819</td>\n",
       "      <td>23.663500</td>\n",
       "      <td>42.531784</td>\n",
       "      <td>36.695503</td>\n",
       "      <td>37.034214</td>\n",
       "      <td>66.756416</td>\n",
       "      <td>9.196430</td>\n",
       "      <td>29.454308</td>\n",
       "      <td>NaN</td>\n",
       "      <td>42.762428</td>\n",
       "      <td>...</td>\n",
       "      <td>38.049053</td>\n",
       "      <td>52.393814</td>\n",
       "      <td>39.074547</td>\n",
       "      <td>131.183243</td>\n",
       "      <td>42.083641</td>\n",
       "      <td>23.989943</td>\n",
       "      <td>23.605558</td>\n",
       "      <td>11.225472</td>\n",
       "      <td>24.257740</td>\n",
       "      <td>58.089199</td>\n",
       "    </tr>\n",
       "    <tr>\n",
       "      <th>2015-01-07</th>\n",
       "      <td>36.628582</td>\n",
       "      <td>23.995317</td>\n",
       "      <td>44.250786</td>\n",
       "      <td>36.993034</td>\n",
       "      <td>37.590893</td>\n",
       "      <td>67.338745</td>\n",
       "      <td>9.210567</td>\n",
       "      <td>29.648619</td>\n",
       "      <td>NaN</td>\n",
       "      <td>42.967476</td>\n",
       "      <td>...</td>\n",
       "      <td>38.518543</td>\n",
       "      <td>52.877903</td>\n",
       "      <td>39.307091</td>\n",
       "      <td>134.269150</td>\n",
       "      <td>42.116470</td>\n",
       "      <td>23.861147</td>\n",
       "      <td>24.231873</td>\n",
       "      <td>11.117839</td>\n",
       "      <td>24.331717</td>\n",
       "      <td>58.677792</td>\n",
       "    </tr>\n",
       "    <tr>\n",
       "      <th>2015-01-08</th>\n",
       "      <td>37.726505</td>\n",
       "      <td>24.917271</td>\n",
       "      <td>44.713577</td>\n",
       "      <td>37.753399</td>\n",
       "      <td>37.041733</td>\n",
       "      <td>68.883507</td>\n",
       "      <td>9.351940</td>\n",
       "      <td>30.186687</td>\n",
       "      <td>NaN</td>\n",
       "      <td>42.778191</td>\n",
       "      <td>...</td>\n",
       "      <td>38.944660</td>\n",
       "      <td>52.659077</td>\n",
       "      <td>40.177235</td>\n",
       "      <td>137.732925</td>\n",
       "      <td>42.600754</td>\n",
       "      <td>24.090736</td>\n",
       "      <td>24.743311</td>\n",
       "      <td>11.339439</td>\n",
       "      <td>24.593996</td>\n",
       "      <td>59.654469</td>\n",
       "    </tr>\n",
       "  </tbody>\n",
       "</table>\n",
       "<p>5 rows × 251 columns</p>\n",
       "</div>"
      ],
      "text/plain": [
       "                    A       AAPL       ABBV        ABT        ADM        ADP  \\\n",
       "Date                                                                           \n",
       "2015-01-02  37.422062  24.347172  43.563179  37.108746  39.133045  67.362991   \n",
       "2015-01-05  36.720852  23.661274  42.743362  37.117004  37.778957  67.314476   \n",
       "2015-01-06  36.148819  23.663500  42.531784  36.695503  37.034214  66.756416   \n",
       "2015-01-07  36.628582  23.995317  44.250786  36.993034  37.590893  67.338745   \n",
       "2015-01-08  37.726505  24.917271  44.713577  37.753399  37.041733  68.883507   \n",
       "\n",
       "                 AES        AFG  AGR        AIG  ...        WEC       WELL  \\\n",
       "Date                                             ...                         \n",
       "2015-01-02  9.684173  30.017288  NaN  44.253033  ...  38.417412  51.027782   \n",
       "2015-01-05  9.408492  29.623707  NaN  43.377602  ...  37.947937  51.657738   \n",
       "2015-01-06  9.196430  29.454308  NaN  42.762428  ...  38.049053  52.393814   \n",
       "2015-01-07  9.210567  29.648619  NaN  42.967476  ...  38.518543  52.877903   \n",
       "2015-01-08  9.351940  30.186687  NaN  42.778191  ...  38.944660  52.659077   \n",
       "\n",
       "                  WFC         WHR         WM        WMB        WMT         WU  \\\n",
       "Date                                                                            \n",
       "2015-01-02  41.032391  135.059799  42.477646  25.322723  23.493425  11.352100   \n",
       "2015-01-05  39.907192  132.274841  42.050804  24.320345  23.425055  11.244470   \n",
       "2015-01-06  39.074547  131.183243  42.083641  23.989943  23.605558  11.225472   \n",
       "2015-01-07  39.307091  134.269150  42.116470  23.861147  24.231873  11.117839   \n",
       "2015-01-08  40.177235  137.732925  42.600754  24.090736  24.743311  11.339439   \n",
       "\n",
       "                   WY        XOM  \n",
       "Date                              \n",
       "2015-01-02  24.284630  60.042534  \n",
       "2015-01-05  24.284630  58.399651  \n",
       "2015-01-06  24.257740  58.089199  \n",
       "2015-01-07  24.331717  58.677792  \n",
       "2015-01-08  24.593996  59.654469  \n",
       "\n",
       "[5 rows x 251 columns]"
      ]
     },
     "execution_count": 3,
     "metadata": {},
     "output_type": "execute_result"
    }
   ],
   "source": [
    "comp_stocks_DF = pd.read_csv(\"datasets/company_stock_data.csv\", index_col='Date', parse_dates=True)\n",
    "comp_stocks_DF.head()"
   ]
  },
  {
   "cell_type": "markdown",
   "id": "c7507a76-00e7-448b-9ea5-214cb4dcb1c3",
   "metadata": {},
   "source": [
    "#### (c) Dataset for total asset value and total debt vale of companies"
   ]
  },
  {
   "cell_type": "code",
   "execution_count": 4,
   "id": "c7b891d5-cc53-4352-a6e6-6cc6069704c5",
   "metadata": {},
   "outputs": [
    {
     "data": {
      "text/html": [
       "<div>\n",
       "<style scoped>\n",
       "    .dataframe tbody tr th:only-of-type {\n",
       "        vertical-align: middle;\n",
       "    }\n",
       "\n",
       "    .dataframe tbody tr th {\n",
       "        vertical-align: top;\n",
       "    }\n",
       "\n",
       "    .dataframe thead th {\n",
       "        text-align: right;\n",
       "    }\n",
       "</style>\n",
       "<table border=\"1\" class=\"dataframe\">\n",
       "  <thead>\n",
       "    <tr style=\"text-align: right;\">\n",
       "      <th></th>\n",
       "      <th>gvkey</th>\n",
       "      <th>datadate</th>\n",
       "      <th>fyearq</th>\n",
       "      <th>fqtr</th>\n",
       "      <th>indfmt</th>\n",
       "      <th>consol</th>\n",
       "      <th>popsrc</th>\n",
       "      <th>datafmt</th>\n",
       "      <th>tic</th>\n",
       "      <th>cusip</th>\n",
       "      <th>...</th>\n",
       "      <th>costat</th>\n",
       "      <th>dvpspq</th>\n",
       "      <th>dvpsxq</th>\n",
       "      <th>mkvaltq</th>\n",
       "      <th>gind</th>\n",
       "      <th>gsector</th>\n",
       "      <th>gsubind</th>\n",
       "      <th>idbflag</th>\n",
       "      <th>naics</th>\n",
       "      <th>spcsrc</th>\n",
       "    </tr>\n",
       "  </thead>\n",
       "  <tbody>\n",
       "    <tr>\n",
       "      <th>0</th>\n",
       "      <td>1078</td>\n",
       "      <td>2014-12-31</td>\n",
       "      <td>2014</td>\n",
       "      <td>4.0</td>\n",
       "      <td>INDL</td>\n",
       "      <td>C</td>\n",
       "      <td>D</td>\n",
       "      <td>STD</td>\n",
       "      <td>ABT</td>\n",
       "      <td>002824100</td>\n",
       "      <td>...</td>\n",
       "      <td>A</td>\n",
       "      <td>0.22</td>\n",
       "      <td>0.22</td>\n",
       "      <td>67891.7357</td>\n",
       "      <td>351010.0</td>\n",
       "      <td>35.0</td>\n",
       "      <td>35101010.0</td>\n",
       "      <td>B</td>\n",
       "      <td>334510</td>\n",
       "      <td>B+</td>\n",
       "    </tr>\n",
       "    <tr>\n",
       "      <th>1</th>\n",
       "      <td>1078</td>\n",
       "      <td>2015-03-31</td>\n",
       "      <td>2015</td>\n",
       "      <td>1.0</td>\n",
       "      <td>INDL</td>\n",
       "      <td>C</td>\n",
       "      <td>D</td>\n",
       "      <td>STD</td>\n",
       "      <td>ABT</td>\n",
       "      <td>002824100</td>\n",
       "      <td>...</td>\n",
       "      <td>A</td>\n",
       "      <td>0.24</td>\n",
       "      <td>0.24</td>\n",
       "      <td>68974.1118</td>\n",
       "      <td>351010.0</td>\n",
       "      <td>35.0</td>\n",
       "      <td>35101010.0</td>\n",
       "      <td>B</td>\n",
       "      <td>334510</td>\n",
       "      <td>B+</td>\n",
       "    </tr>\n",
       "    <tr>\n",
       "      <th>2</th>\n",
       "      <td>1078</td>\n",
       "      <td>2015-06-30</td>\n",
       "      <td>2015</td>\n",
       "      <td>2.0</td>\n",
       "      <td>INDL</td>\n",
       "      <td>C</td>\n",
       "      <td>D</td>\n",
       "      <td>STD</td>\n",
       "      <td>ABT</td>\n",
       "      <td>002824100</td>\n",
       "      <td>...</td>\n",
       "      <td>A</td>\n",
       "      <td>0.24</td>\n",
       "      <td>0.24</td>\n",
       "      <td>73150.8443</td>\n",
       "      <td>351010.0</td>\n",
       "      <td>35.0</td>\n",
       "      <td>35101010.0</td>\n",
       "      <td>B</td>\n",
       "      <td>334510</td>\n",
       "      <td>B+</td>\n",
       "    </tr>\n",
       "    <tr>\n",
       "      <th>3</th>\n",
       "      <td>1078</td>\n",
       "      <td>2015-09-30</td>\n",
       "      <td>2015</td>\n",
       "      <td>3.0</td>\n",
       "      <td>INDL</td>\n",
       "      <td>C</td>\n",
       "      <td>D</td>\n",
       "      <td>STD</td>\n",
       "      <td>ABT</td>\n",
       "      <td>002824100</td>\n",
       "      <td>...</td>\n",
       "      <td>A</td>\n",
       "      <td>0.24</td>\n",
       "      <td>0.24</td>\n",
       "      <td>59996.9784</td>\n",
       "      <td>351010.0</td>\n",
       "      <td>35.0</td>\n",
       "      <td>35101010.0</td>\n",
       "      <td>B</td>\n",
       "      <td>334510</td>\n",
       "      <td>B+</td>\n",
       "    </tr>\n",
       "    <tr>\n",
       "      <th>4</th>\n",
       "      <td>1078</td>\n",
       "      <td>2015-12-31</td>\n",
       "      <td>2015</td>\n",
       "      <td>4.0</td>\n",
       "      <td>INDL</td>\n",
       "      <td>C</td>\n",
       "      <td>D</td>\n",
       "      <td>STD</td>\n",
       "      <td>ABT</td>\n",
       "      <td>002824100</td>\n",
       "      <td>...</td>\n",
       "      <td>A</td>\n",
       "      <td>0.24</td>\n",
       "      <td>0.24</td>\n",
       "      <td>66137.3852</td>\n",
       "      <td>351010.0</td>\n",
       "      <td>35.0</td>\n",
       "      <td>35101010.0</td>\n",
       "      <td>B</td>\n",
       "      <td>334510</td>\n",
       "      <td>B+</td>\n",
       "    </tr>\n",
       "  </tbody>\n",
       "</table>\n",
       "<p>5 rows × 42 columns</p>\n",
       "</div>"
      ],
      "text/plain": [
       "   gvkey   datadate  fyearq  fqtr indfmt consol popsrc datafmt  tic  \\\n",
       "0   1078 2014-12-31    2014   4.0   INDL      C      D     STD  ABT   \n",
       "1   1078 2015-03-31    2015   1.0   INDL      C      D     STD  ABT   \n",
       "2   1078 2015-06-30    2015   2.0   INDL      C      D     STD  ABT   \n",
       "3   1078 2015-09-30    2015   3.0   INDL      C      D     STD  ABT   \n",
       "4   1078 2015-12-31    2015   4.0   INDL      C      D     STD  ABT   \n",
       "\n",
       "       cusip  ... costat dvpspq dvpsxq     mkvaltq      gind  gsector  \\\n",
       "0  002824100  ...      A   0.22   0.22  67891.7357  351010.0     35.0   \n",
       "1  002824100  ...      A   0.24   0.24  68974.1118  351010.0     35.0   \n",
       "2  002824100  ...      A   0.24   0.24  73150.8443  351010.0     35.0   \n",
       "3  002824100  ...      A   0.24   0.24  59996.9784  351010.0     35.0   \n",
       "4  002824100  ...      A   0.24   0.24  66137.3852  351010.0     35.0   \n",
       "\n",
       "      gsubind  idbflag   naics  spcsrc  \n",
       "0  35101010.0        B  334510      B+  \n",
       "1  35101010.0        B  334510      B+  \n",
       "2  35101010.0        B  334510      B+  \n",
       "3  35101010.0        B  334510      B+  \n",
       "4  35101010.0        B  334510      B+  \n",
       "\n",
       "[5 rows x 42 columns]"
      ]
     },
     "execution_count": 4,
     "metadata": {},
     "output_type": "execute_result"
    }
   ],
   "source": [
    "quarterly_DF = pd.read_csv(\"datasets/quarterly_company_data.csv\", parse_dates=['datadate'])\n",
    "quarterly_DF.head()"
   ]
  },
  {
   "cell_type": "markdown",
   "id": "8bf4c74a-ad5c-4661-9531-a9e98d643e5a",
   "metadata": {},
   "source": [
    "#### (d) risk free rate series"
   ]
  },
  {
   "cell_type": "code",
   "execution_count": 5,
   "id": "c849a1f6-1cfb-4f3e-88e3-b62968963d93",
   "metadata": {},
   "outputs": [],
   "source": [
    "risk_free_rate_S = web.DataReader('TB3MS', 'fred', start=quarterly_DF['datadate'].min().strftime('%Y-%m-%d'), \n",
    "                                  end=quarterly_DF['datadate'].max().strftime('%Y-%m-%d'))"
   ]
  },
  {
   "cell_type": "markdown",
   "id": "2eede561-feea-48b2-aac7-c46aebad84c8",
   "metadata": {},
   "source": [
    "## 2. Processing data"
   ]
  },
  {
   "cell_type": "code",
   "execution_count": 6,
   "id": "888900c3-a5ae-4ab1-b36a-9565a4a8e115",
   "metadata": {},
   "outputs": [],
   "source": [
    "#load all used ticker names in a list.\n",
    "with open('datasets/tickers.txt', 'r') as ticks:\n",
    "    tickers = ticks.read().split('\\n')[:-1]"
   ]
  },
  {
   "cell_type": "code",
   "execution_count": 35,
   "id": "600e2e5e-8ded-46cb-bfb2-2388db84650e",
   "metadata": {},
   "outputs": [],
   "source": [
    "#create a dictionary with ticker names and corresponding dataframe created by create_correct_dataframe()\n",
    "ticks_DF_dict = {}\n",
    "for tick in cds_DF.groupby('Ticker').size()[cds_DF.groupby('Ticker').size() >= 1747].index:\n",
    "    if len(cds_DF[cds_DF['Ticker'] == tick]['PX1'].unique()) > 1000:\n",
    "        ticks_DF_dict[tick] = cds_DF[cds_DF['Ticker'] == tick].set_index(\"Date\")"
   ]
  },
  {
   "cell_type": "markdown",
   "id": "9a96f738-ff8d-43e4-b7b3-73680831427d",
   "metadata": {},
   "source": [
    "## 3. Testing for stationarity"
   ]
  },
  {
   "cell_type": "code",
   "execution_count": 37,
   "id": "8f4d0fb9-5fe2-449a-9dd3-96fc9ff48db9",
   "metadata": {},
   "outputs": [],
   "source": [
    "from statsmodels.tsa.stattools import adfuller"
   ]
  },
  {
   "cell_type": "code",
   "execution_count": 38,
   "id": "10a5a399-9758-481b-9125-0c9a5cd3ee22",
   "metadata": {
    "scrolled": true
   },
   "outputs": [
    {
     "name": "stdout",
     "output_type": "stream",
     "text": [
      "A, t-stat:-2.26, p-val:0.18518\n",
      "AALLN, t-stat:-3.2599, p-val:0.016771\n",
      "AAPL, t-stat:-2.5887, p-val:0.095346\n",
      "ABC, t-stat:-2.1598, p-val:0.22115\n",
      "ABESM, t-stat:-3.2437, p-val:0.017592\n",
      "ABIBB, t-stat:-3.8794, p-val:0.0021917\n",
      "ABT, t-stat:-3.6921, p-val:0.0042254\n",
      "ABXCN, t-stat:-2.6265, p-val:0.08765\n",
      "ACAFP, t-stat:-3.121, p-val:0.02504\n",
      "ACEIM, t-stat:-1.6213, p-val:0.47207\n",
      "ACFP, t-stat:-1.7437, p-val:0.40875\n",
      "ADENVX, t-stat:-2.27, p-val:0.18183\n",
      "ADM, t-stat:-2.936, p-val:0.041321\n",
      "ADNA, t-stat:-3.8225, p-val:0.0026849\n",
      "ADP, t-stat:-1.9643, p-val:0.30243\n",
      "ADSGR, t-stat:-1.6207, p-val:0.47235\n",
      "AEGON, t-stat:-3.0901, p-val:0.027292\n",
      "AES, t-stat:-2.6733, p-val:0.078775\n",
      "AET, t-stat:-2.7918, p-val:0.059461\n",
      "AFG, t-stat:-1.1872, p-val:0.67906\n",
      "AGSBB, t-stat:-3.1247, p-val:0.024779\n",
      "AIFP, t-stat:-2.8043, p-val:0.057661\n",
      "AIG, t-stat:-4.511, p-val:0.0001878\n",
      "AIRFP, t-stat:-2.6184, p-val:0.089263\n",
      "AKZANA, t-stat:-3.9824, p-val:0.0015054\n",
      "ALL, t-stat:-3.4435, p-val:0.0095639\n",
      "ALLRNV, t-stat:-1.8654, p-val:0.34849\n",
      "ALLY, t-stat:-2.6873, p-val:0.076256\n",
      "ALOFP, t-stat:-2.1517, p-val:0.22423\n",
      "ALVGR, t-stat:-3.6126, p-val:0.0055245\n",
      "AMAT, t-stat:-3.7754, p-val:0.0031696\n",
      "AMGN, t-stat:-4.1049, p-val:0.00095045\n",
      "AMT, t-stat:-3.0926, p-val:0.027104\n",
      "AMXLMM, t-stat:-2.9281, p-val:0.042171\n",
      "AN, t-stat:-0.19887, p-val:0.93866\n",
      "ANGSJ, t-stat:-2.4467, p-val:0.129\n",
      "ANTM, t-stat:-4.6926, p-val:8.6872e-05\n",
      "ANZ, t-stat:-2.496, p-val:0.11644\n",
      "APD, t-stat:-2.3918, p-val:0.14407\n",
      "ARW, t-stat:-3.2641, p-val:0.016559\n",
      "ASSABS, t-stat:-3.1247, p-val:0.024782\n",
      "ASSGEN, t-stat:-3.6368, p-val:0.0050959\n",
      "ATCOA, t-stat:-2.5854, p-val:0.096059\n",
      "ATLIM, t-stat:-2.4936, p-val:0.11704\n",
      "AUCHAN, t-stat:-2.2968, p-val:0.17299\n",
      "AVB, t-stat:-5.3369, p-val:4.5909e-06\n",
      "AVLN, t-stat:-3.465, p-val:0.0089318\n",
      "AVT, t-stat:-3.0652, p-val:0.029238\n",
      "AVY, t-stat:-3.7001, p-val:0.0041124\n",
      "AXASA, t-stat:-3.9058, p-val:0.0019923\n",
      "AXP, t-stat:-4.624, p-val:0.00011665\n",
      "AZN, t-stat:-3.2928, p-val:0.015202\n",
      "AZO, t-stat:-3.0827, p-val:0.027863\n",
      "BA, t-stat:-2.46, p-val:0.12553\n",
      "BAC, t-stat:-4.1149, p-val:0.00091491\n",
      "BACRED, t-stat:-3.2793, p-val:0.015828\n",
      "BALN, t-stat:-4.1729, p-val:0.00073204\n",
      "BAMACN, t-stat:-2.6471, p-val:0.08365\n",
      "BASGR, t-stat:-3.9246, p-val:0.0018609\n",
      "BATSLN, t-stat:-3.5339, p-val:0.0071578\n",
      "BAX, t-stat:-5.9291, p-val:2.404e-07\n",
      "BAYNGR, t-stat:-3.9818, p-val:0.0015087\n",
      "BBDBCN, t-stat:-2.2295, p-val:0.19571\n",
      "BBVAR, t-stat:-2.0722, p-val:0.25585\n",
      "BBVASM, t-stat:-2.0722, p-val:0.25585\n",
      "BBY, t-stat:-3.1543, p-val:0.022787\n",
      "BCECN, t-stat:-1.6855, p-val:0.4386\n",
      "BCHINA, t-stat:-2.9055, p-val:0.044711\n",
      "BCJAF, t-stat:-2.8499, p-val:0.051489\n",
      "BCPPL, t-stat:-1.3319, p-val:0.61444\n",
      "BDX, t-stat:-1.472, p-val:0.54729\n",
      "BERTEL, t-stat:-3.6496, p-val:0.0048813\n",
      "BFCM, t-stat:-1.8006, p-val:0.38019\n",
      "BHI, t-stat:-2.6527, p-val:0.082578\n",
      "BK, t-stat:-2.8273, p-val:0.054485\n",
      "BKIASM, t-stat:-2.3188, p-val:0.16599\n",
      "BKIR, t-stat:-1.8476, p-val:0.35712\n",
      "BKTSM, t-stat:-1.7047, p-val:0.42871\n",
      "BLL, t-stat:-3.7319, p-val:0.0036864\n",
      "BMW, t-stat:-3.0538, p-val:0.030169\n",
      "BMY, t-stat:-4.2187, p-val:0.0006125\n",
      "BNFP, t-stat:-4.127, p-val:0.00087357\n",
      "BNFPL, t-stat:-1.7892, p-val:0.38585\n",
      "BNKEA, t-stat:-1.8924, p-val:0.33563\n",
      "BNP, t-stat:-3.0562, p-val:0.029966\n",
      "BPLN, t-stat:-3.1977, p-val:0.020117\n",
      "BRK, t-stat:-1.9579, p-val:0.30532\n",
      "BSX, t-stat:-4.2891, p-val:0.000464\n",
      "BWA, t-stat:-4.2639, p-val:0.00051269\n",
      "BYLAN, t-stat:-2.4353, p-val:0.13203\n",
      "C, t-stat:-3.6848, p-val:0.0043315\n",
      "CAFP, t-stat:-4.4887, p-val:0.00020608\n",
      "CAG, t-stat:-3.5647, p-val:0.0064732\n",
      "CAH, t-stat:-1.8921, p-val:0.33577\n",
      "CAPFP, t-stat:-2.565, p-val:0.10046\n",
      "CAR, t-stat:-2.9283, p-val:0.042151\n",
      "CARGIL, t-stat:-4.0717, p-val:0.0010784\n",
      "CAT, t-stat:-2.7818, p-val:0.060921\n",
      "CB, t-stat:-4.9089, p-val:3.3508e-05\n",
      "CBAAU, t-stat:-2.268, p-val:0.1825\n",
      "CCI, t-stat:-5.6965, p-val:7.8533e-07\n",
      "CDBLFD, t-stat:-1.979, p-val:0.29586\n",
      "CDEL, t-stat:-3.4449, p-val:0.0095217\n",
      "CECGR, t-stat:-3.3392, p-val:0.013214\n",
      "CHMFRU, t-stat:-2.4491, p-val:0.12835\n",
      "CI, t-stat:-3.4082, p-val:0.010681\n",
      "CITNAT, t-stat:-2.8372, p-val:0.053157\n",
      "CITOH, t-stat:-3.3948, p-val:0.011138\n",
      "CL, t-stat:-2.3768, p-val:0.14839\n",
      "CLX, t-stat:-5.1369, p-val:1.1809e-05\n",
      "CMACG, t-stat:-2.6623, p-val:0.080793\n",
      "CMCSA, t-stat:-3.0343, p-val:0.031813\n",
      "CMI, t-stat:-3.1139, p-val:0.025542\n",
      "CMZB, t-stat:-2.432, p-val:0.13291\n",
      "CNALN, t-stat:-3.5441, p-val:0.0069234\n",
      "CNHI, t-stat:-1.9813, p-val:0.29484\n",
      "CNOOC, t-stat:-2.3723, p-val:0.1497\n",
      "CNP, t-stat:-2.4937, p-val:0.11701\n",
      "CNQCN, t-stat:-3.2119, p-val:0.019306\n",
      "CNRCN, t-stat:-1.8007, p-val:0.38012\n",
      "CNUNZ, t-stat:-3.2226, p-val:0.018711\n",
      "COF, t-stat:-3.6427, p-val:0.0049944\n",
      "COFP, t-stat:-3.0885, p-val:0.027415\n",
      "COMQAT, t-stat:-4.0853, p-val:0.0010242\n",
      "CONGR, t-stat:-3.3154, p-val:0.014206\n",
      "COP, t-stat:-3.4996, p-val:0.0079978\n",
      "COST, t-stat:-3.4281, p-val:0.010039\n",
      "COXENT, t-stat:-3.4537, p-val:0.009258\n",
      "CPB, t-stat:-2.0293, p-val:0.27387\n",
      "CPGLN, t-stat:-3.4431, p-val:0.0095746\n",
      "CPT, t-stat:-2.6897, p-val:0.07584\n",
      "CS, t-stat:-2.2163, p-val:0.20037\n",
      "CSCO, t-stat:-4.7094, p-val:8.0787e-05\n",
      "CSX, t-stat:-5.3325, p-val:4.687e-06\n",
      "CTVA, t-stat:-3.3769, p-val:0.011771\n",
      "CVS, t-stat:-2.7594, p-val:0.064309\n",
      "CVX, t-stat:-2.2124, p-val:0.20178\n",
      "CXGD, t-stat:-1.154, p-val:0.69308\n",
      "D, t-stat:-3.2831, p-val:0.015649\n",
      "DAIGR, t-stat:-3.3646, p-val:0.012227\n",
      "DAIWA, t-stat:-1.957, p-val:0.30572\n",
      "DAL, t-stat:-2.2625, p-val:0.18434\n",
      "DANBNK, t-stat:-3.0002, p-val:0.034876\n",
      "DB, t-stat:-2.963, p-val:0.038501\n",
      "DBOERS, t-stat:-1.3466, p-val:0.6076\n",
      "DE, t-stat:-4.6123, p-val:0.00012262\n",
      "DEPFA, t-stat:-1.8622, p-val:0.35007\n",
      "DEVOBA, t-stat:-1.6039, p-val:0.48163\n",
      "DGELN, t-stat:-2.9598, p-val:0.038823\n",
      "DGFP, t-stat:-4.5102, p-val:0.00018847\n",
      "DGX, t-stat:-2.8514, p-val:0.051303\n",
      "DHI, t-stat:-3.2614, p-val:0.016694\n",
      "DHR, t-stat:-2.3089, p-val:0.16911\n",
      "DOV, t-stat:-3.2952, p-val:0.015096\n",
      "DOW, t-stat:-3.3424, p-val:0.013087\n",
      "DPWDU, t-stat:-3.9901, p-val:0.0014631\n",
      "DPWGR, t-stat:-3.2163, p-val:0.019061\n",
      "DRI, t-stat:-3.8951, p-val:0.0020712\n",
      "DSM, t-stat:-3.7002, p-val:0.0041102\n",
      "DT, t-stat:-4.0016, p-val:0.0014021\n",
      "DVN, t-stat:-3.4344, p-val:0.0098411\n",
      "DXC, t-stat:-1.8915, p-val:0.33608\n",
      "DZBK, t-stat:-4.4692, p-val:0.00022345\n",
      "EBIUH, t-stat:-3.8181, p-val:0.0027271\n",
      "ED, t-stat:-3.2048, p-val:0.019711\n",
      "EDF, t-stat:-4.2183, p-val:0.00061353\n",
      "EDPPL, t-stat:-2.05, p-val:0.26509\n",
      "EIBKOR, t-stat:-3.1208, p-val:0.025052\n",
      "EMN, t-stat:-4.4493, p-val:0.00024252\n",
      "ENBCN, t-stat:-2.6528, p-val:0.082572\n",
      "ENBW, t-stat:-2.5996, p-val:0.093083\n",
      "ENELIM, t-stat:-2.9267, p-val:0.042329\n",
      "ENFP, t-stat:-3.2803, p-val:0.015784\n",
      "ENGALL, t-stat:-2.0849, p-val:0.25062\n",
      "ENGIFP, t-stat:-2.7487, p-val:0.065985\n",
      "ENIIM, t-stat:-3.7008, p-val:0.0041023\n",
      "EOANGR, t-stat:-1.9036, p-val:0.33036\n",
      "EOG, t-stat:-2.1604, p-val:0.22094\n",
      "EQNR, t-stat:-2.9018, p-val:0.045143\n",
      "ERICB, t-stat:-3.1186, p-val:0.025204\n",
      "ERSTBK, t-stat:-3.196, p-val:0.020218\n",
      "ETEGA, t-stat:-2.9048, p-val:0.044795\n",
      "ETN, t-stat:-4.2097, p-val:0.0006345\n",
      "ETR, t-stat:-2.5956, p-val:0.093908\n",
      "EVKGR, t-stat:-1.738, p-val:0.41162\n",
      "EWE, t-stat:-2.3085, p-val:0.16925\n",
      "EXPE, t-stat:-2.5328, p-val:0.10768\n",
      "F, t-stat:-3.3418, p-val:0.013111\n",
      "FABUH, t-stat:-4.2671, p-val:0.00050632\n",
      "FCAIM, t-stat:-3.0035, p-val:0.034567\n",
      "FDX, t-stat:-2.9134, p-val:0.043811\n",
      "FFHCN, t-stat:-5.0737, p-val:1.5833e-05\n",
      "FREGR, t-stat:-2.9497, p-val:0.039866\n",
      "FRFP, t-stat:-3.2928, p-val:0.015204\n",
      "FRT, t-stat:-3.339, p-val:0.013224\n",
      "FTI, t-stat:-2.1664, p-val:0.21867\n",
      "FUMVFH, t-stat:-4.7465, p-val:6.8751e-05\n",
      "GALPPL, t-stat:-2.8715, p-val:0.048761\n",
      "GAZPRU, t-stat:-6.0786, p-val:1.1059e-07\n",
      "GD, t-stat:-1.132, p-val:0.70214\n",
      "GE, t-stat:-2.8492, p-val:0.051584\n",
      "GFCFP, t-stat:-3.7083, p-val:0.0039974\n",
      "GIS, t-stat:-2.8743, p-val:0.048415\n",
      "GLW, t-stat:-2.5551, p-val:0.10263\n",
      "GM, t-stat:-3.7754, p-val:0.0031698\n",
      "GMGAU, t-stat:-1.6248, p-val:0.4702\n",
      "GMT, t-stat:-2.5925, p-val:0.094548\n",
      "GP, t-stat:-3.6366, p-val:0.005098\n",
      "GS, t-stat:-3.9926, p-val:0.0014498\n",
      "GSK, t-stat:-3.1504, p-val:0.02304\n",
      "GT, t-stat:-3.1384, p-val:0.02384\n",
      "HAL, t-stat:-4.621, p-val:0.00011815\n",
      "HAS, t-stat:-2.2956, p-val:0.1734\n",
      "HCOB, t-stat:-1.5097, p-val:0.5287\n",
      "HD, t-stat:-4.2614, p-val:0.0005177\n",
      "HEIANA, t-stat:-3.0207, p-val:0.033002\n",
      "HEIGR, t-stat:-3.1365, p-val:0.023967\n",
      "HENKEL, t-stat:-3.9146, p-val:0.0019297\n",
      "HES, t-stat:-4.086, p-val:0.0010213\n",
      "HESLAN, t-stat:-2.7085, p-val:0.072574\n",
      "HIG, t-stat:-2.752, p-val:0.065472\n",
      "HMSOLN, t-stat:-1.6115, p-val:0.47718\n",
      "HNDA, t-stat:-4.3895, p-val:0.0003098\n",
      "HOFP, t-stat:-3.1908, p-val:0.020521\n",
      "HON, t-stat:-5.1551, p-val:1.0848e-05\n",
      "HOTGR, t-stat:-3.2275, p-val:0.018445\n",
      "HPQ, t-stat:-2.2195, p-val:0.19923\n",
      "HSBC, t-stat:-2.8032, p-val:0.057815\n",
      "HSECN, t-stat:-2.2354, p-val:0.19365\n",
      "HSY, t-stat:-3.0199, p-val:0.033081\n",
      "HTOGA, t-stat:-2.5036, p-val:0.11461\n",
      "HUM, t-stat:-4.4552, p-val:0.0002367\n",
      "HYNMTR, t-stat:-1.7636, p-val:0.39867\n",
      "HYSAN, t-stat:-2.2978, p-val:0.17269\n",
      "HYUELE, t-stat:-1.0842, p-val:0.72135\n",
      "IAGLN, t-stat:-1.7612, p-val:0.39989\n",
      "IBESM, t-stat:-3.0937, p-val:0.02702\n",
      "IBM, t-stat:-4.3373, p-val:0.00038259\n",
      "ICICI, t-stat:-3.4668, p-val:0.0088825\n",
      "IMBLN, t-stat:-2.8385, p-val:0.052976\n",
      "INDKOR, t-stat:-2.5116, p-val:0.11267\n",
      "INEGRP, t-stat:-3.1122, p-val:0.025663\n",
      "INTC, t-stat:-3.215, p-val:0.019132\n",
      "INTNED, t-stat:-3.2312, p-val:0.018249\n",
      "INTU, t-stat:-2.9721, p-val:0.037586\n",
      "INVSA, t-stat:-2.7467, p-val:0.066305\n",
      "IP, t-stat:-4.8448, p-val:4.4606e-05\n",
      "IPG, t-stat:-4.499, p-val:0.00019749\n",
      "ISPIM, t-stat:-3.5708, p-val:0.0063447\n",
      "ISRELE, t-stat:-3.5095, p-val:0.0077476\n",
      "ISSDC, t-stat:-2.4202, p-val:0.13613\n",
      "ITVLN, t-stat:-3.6998, p-val:0.0041166\n",
      "ITW, t-stat:-3.0824, p-val:0.027885\n",
      "JAPTOB, t-stat:-4.8359, p-val:4.6412e-05\n",
      "JCI, t-stat:-3.966, p-val:0.0015995\n",
      "JNJ, t-stat:-3.5631, p-val:0.0065078\n",
      "JNPR, t-stat:-2.8902, p-val:0.046504\n",
      "JPM, t-stat:-3.7115, p-val:0.0039546\n",
      "JWN, t-stat:-2.0188, p-val:0.27838\n",
      "K, t-stat:-2.6804, p-val:0.077497\n",
      "KANSEL, t-stat:-3.6175, p-val:0.0054357\n",
      "KBCBB, t-stat:-2.4227, p-val:0.13542\n",
      "KERFP, t-stat:-2.3356, p-val:0.16074\n",
      "KIAMTR, t-stat:-1.5503, p-val:0.50848\n",
      "KIM, t-stat:-2.6157, p-val:0.0898\n",
      "KMB, t-stat:-1.5208, p-val:0.52318\n",
      "KMI, t-stat:-2.0006, p-val:0.28632\n",
      "KO, t-stat:-3.1714, p-val:0.021704\n",
      "KORELE, t-stat:-3.1701, p-val:0.021784\n",
      "KPN, t-stat:-3.9027, p-val:0.0020154\n",
      "KR, t-stat:-3.2658, p-val:0.016477\n",
      "KSS, t-stat:-2.4389, p-val:0.13106\n",
      "L, t-stat:-3.7119, p-val:0.0039485\n",
      "LBBW, t-stat:-1.5601, p-val:0.50358\n",
      "LDOIM, t-stat:-2.649, p-val:0.083279\n",
      "LEN, t-stat:-4.1773, p-val:0.00071955\n",
      "LEVI, t-stat:-4.0444, p-val:0.0011953\n",
      "LGEN, t-stat:-2.9317, p-val:0.041781\n",
      "LGFP, t-stat:-3.8966, p-val:0.0020601\n",
      "LH, t-stat:-2.0199, p-val:0.27793\n",
      "LHAGR, t-stat:-1.7654, p-val:0.39778\n",
      "LHNVX, t-stat:-3.8966, p-val:0.0020601\n",
      "LIFP, t-stat:-2.2693, p-val:0.18205\n",
      "LIFUNG, t-stat:-1.313, p-val:0.6232\n",
      "LMT, t-stat:-3.917, p-val:0.001913\n",
      "LNC, t-stat:-2.8366, p-val:0.053238\n",
      "LOUDRE, t-stat:-3.3876, p-val:0.011387\n",
      "LOW, t-stat:-3.6015, p-val:0.0057333\n",
      "LRFP, t-stat:-5.193, p-val:9.0878e-06\n",
      "LUKOIL, t-stat:-7.2251, p-val:2.0628e-10\n",
      "LUV, t-stat:-2.3508, p-val:0.15612\n",
      "LXSGR, t-stat:-4.4608, p-val:0.00023137\n",
      "MAR, t-stat:-3.1174, p-val:0.02529\n",
      "MARUB, t-stat:-4.2388, p-val:0.00056612\n",
      "MAS, t-stat:-2.0075, p-val:0.28329\n",
      "MASQUH, t-stat:-2.7707, p-val:0.06258\n",
      "MATSEL, t-stat:-3.9827, p-val:0.0015037\n",
      "MCD, t-stat:-4.1504, p-val:0.00079859\n",
      "MCFP, t-stat:-3.4494, p-val:0.0093848\n",
      "MCK, t-stat:-3.7755, p-val:0.0031681\n",
      "MDC, t-stat:-3.8807, p-val:0.0021818\n",
      "MDLZ, t-stat:-3.9915, p-val:0.0014555\n",
      "MET, t-stat:-2.0778, p-val:0.25352\n",
      "METSO, t-stat:-2.6125, p-val:0.090439\n",
      "MHK, t-stat:-1.954, p-val:0.30712\n",
      "MITCO, t-stat:-3.443, p-val:0.0095782\n",
      "MLM, t-stat:-3.9795, p-val:0.0015217\n",
      "MMBFP, t-stat:-2.0855, p-val:0.25037\n",
      "MMC, t-stat:-3.3348, p-val:0.013393\n",
      "MMM, t-stat:-2.9958, p-val:0.035288\n",
      "MMP, t-stat:-3.2185, p-val:0.018938\n",
      "MO, t-stat:-2.7437, p-val:0.06678\n",
      "MONTE, t-stat:-2.7475, p-val:0.066166\n",
      "MOS, t-stat:-3.5802, p-val:0.0061516\n",
      "MQGAU, t-stat:-1.8291, p-val:0.36613\n",
      "MRK, t-stat:-2.8709, p-val:0.048844\n",
      "MRKGR, t-stat:-2.5677, p-val:0.099852\n",
      "MRO, t-stat:-2.3305, p-val:0.16233\n",
      "MS, t-stat:-4.1291, p-val:0.00086658\n",
      "MSFT, t-stat:-3.6054, p-val:0.0056579\n",
      "MSI, t-stat:-2.6457, p-val:0.083913\n",
      "MTNA, t-stat:-3.3816, p-val:0.011601\n",
      "MUBAUH, t-stat:-3.1323, p-val:0.024255\n",
      "MUV2.DE, t-stat:-3.4984, p-val:0.0080282\n",
      "MWDP, t-stat:-3.6052, p-val:0.0056619\n",
      "NAB, t-stat:-2.819, p-val:0.05561\n",
      "NBL, t-stat:-3.6929, p-val:0.0042146\n",
      "NDASS, t-stat:-2.4541, p-val:0.12704\n",
      "NDB, t-stat:-2.404, p-val:0.14062\n",
      "NEE, t-stat:-1.9849, p-val:0.29325\n",
      "NEM, t-stat:-2.5615, p-val:0.10123\n",
      "NESNVX, t-stat:-4.667, p-val:9.7002e-05\n",
      "NGGLN, t-stat:-4.8639, p-val:4.0971e-05\n",
      "NKE, t-stat:-3.3977, p-val:0.011037\n",
      "NNGRNV, t-stat:-4.2707, p-val:0.00049907\n",
      "NOC, t-stat:-4.0694, p-val:0.0010877\n",
      "NOKIA, t-stat:-3.3832, p-val:0.011544\n",
      "NOMURA, t-stat:-3.9001, p-val:0.0020342\n",
      "NOVBNC, t-stat:-2.7682, p-val:0.062955\n",
      "NOVNVX, t-stat:-3.0106, p-val:0.033919\n",
      "NRG, t-stat:-1.9452, p-val:0.31112\n",
      "NRUC, t-stat:-3.624, p-val:0.0053184\n",
      "NSANY, t-stat:-3.0648, p-val:0.029269\n",
      "NSC, t-stat:-4.8073, p-val:5.2664e-05\n",
      "NTGYSM, t-stat:-2.4882, p-val:0.11838\n",
      "NUE, t-stat:-2.8301, p-val:0.054102\n",
      "NVFVES, t-stat:-2.0022, p-val:0.28561\n",
      "NVR, t-stat:-3.2936, p-val:0.015165\n",
      "NWG, t-stat:-2.6779, p-val:0.077945\n",
      "NWIDE, t-stat:-1.6197, p-val:0.4729\n",
      "OC, t-stat:-2.0728, p-val:0.25559\n",
      "ODGR, t-stat:-2.5341, p-val:0.1074\n",
      "OKE, t-stat:-2.4385, p-val:0.13115\n",
      "OMC, t-stat:-2.5904, p-val:0.09499\n",
      "ORAFP, t-stat:-3.1406, p-val:0.023691\n",
      "ORCL, t-stat:-2.0508, p-val:0.26475\n",
      "ORIX, t-stat:-2.7787, p-val:0.061388\n",
      "ORSTED, t-stat:-2.4881, p-val:0.11839\n",
      "PAA, t-stat:-2.7091, p-val:0.072485\n",
      "PEAK, t-stat:-2.2199, p-val:0.19911\n",
      "PEMEX, t-stat:-4.4487, p-val:0.00024313\n",
      "PEP, t-stat:-3.2675, p-val:0.016397\n",
      "PETBRA, t-stat:-3.0302, p-val:0.032172\n",
      "PETMK, t-stat:-2.426, p-val:0.13454\n",
      "PEUGOT, t-stat:-2.9002, p-val:0.045326\n",
      "PFE, t-stat:-4.1419, p-val:0.00082512\n",
      "PG, t-stat:-4.1492, p-val:0.0008021\n",
      "PGR, t-stat:-3.6814, p-val:0.0043831\n",
      "PHIANA, t-stat:-2.6801, p-val:0.077543\n",
      "PHM, t-stat:-4.0074, p-val:0.0013724\n",
      "PKG, t-stat:-2.8275, p-val:0.054457\n",
      "PM, t-stat:-2.7942, p-val:0.059113\n",
      "PNC, t-stat:-2.1675, p-val:0.21826\n",
      "POHANG, t-stat:-2.8619, p-val:0.049967\n",
      "PPG, t-stat:-3.0698, p-val:0.02887\n",
      "PROXBB, t-stat:-1.2341, p-val:0.65875\n",
      "PRU, t-stat:-3.0034, p-val:0.03458\n",
      "PRUFIN, t-stat:-3.0034, p-val:0.03458\n",
      "PSMGR, t-stat:-2.4337, p-val:0.13245\n",
      "PUBFP, t-stat:-3.1585, p-val:0.022513\n",
      "PXD, t-stat:-2.8864, p-val:0.046955\n",
      "QBEAU, t-stat:-2.4535, p-val:0.1272\n",
      "R, t-stat:-3.3778, p-val:0.011738\n",
      "RABOBK, t-stat:-2.6012, p-val:0.09274\n",
      "RBIAV, t-stat:-4.2794, p-val:0.00048222\n",
      "RBOSGR, t-stat:-2.1871, p-val:0.21096\n",
      "RCICN, t-stat:-4.1738, p-val:0.00072945\n",
      "RDSALN, t-stat:-3.2747, p-val:0.016049\n",
      "REESM, t-stat:-2.3018, p-val:0.1714\n",
      "REG, t-stat:-1.9027, p-val:0.33081\n",
      "RELLN, t-stat:-2.4743, p-val:0.12184\n",
      "RENAUL, t-stat:-2.1699, p-val:0.21734\n",
      "REPSM, t-stat:-2.9386, p-val:0.041038\n",
      "RIFP, t-stat:-2.2146, p-val:0.20098\n",
      "RILIN, t-stat:-2.7005, p-val:0.073952\n",
      "RL, t-stat:-1.7658, p-val:0.39758\n",
      "ROSNRM, t-stat:-5.5634, p-val:1.5238e-06\n",
      "RSG, t-stat:-2.0271, p-val:0.27481\n",
      "RTOLN, t-stat:-3.0241, p-val:0.0327\n",
      "RTX, t-stat:-4.0968, p-val:0.00098037\n",
      "RWE, t-stat:-1.5776, p-val:0.49485\n",
      "RXLFP, t-stat:-2.7717, p-val:0.062437\n",
      "SABIC, t-stat:-2.3495, p-val:0.15651\n",
      "SABSM, t-stat:-2.5263, p-val:0.1092\n",
      "SAMBA, t-stat:-2.4551, p-val:0.12678\n",
      "SANFP, t-stat:-2.9091, p-val:0.044296\n",
      "SANSCF, t-stat:-1.9654, p-val:0.30194\n",
      "SANTAN, t-stat:-1.9654, p-val:0.30194\n",
      "SANUK, t-stat:-1.9654, p-val:0.30194\n",
      "SANUSA, t-stat:-1.9654, p-val:0.30194\n",
      "SAPSJ, t-stat:-4.1165, p-val:0.00090944\n",
      "SBERRU, t-stat:-5.0845, p-val:1.5059e-05\n",
      "SBIIN, t-stat:-3.8198, p-val:0.0027112\n",
      "SCANIA, t-stat:-2.9523, p-val:0.039591\n",
      "SCBGER, t-stat:-1.9654, p-val:0.30194\n",
      "SCBNOR, t-stat:-1.9654, p-val:0.30194\n",
      "SCMNVX, t-stat:-2.7075, p-val:0.072742\n",
      "SCOR, t-stat:-2.1538, p-val:0.22343\n",
      "SDFGR, t-stat:-2.4389, p-val:0.13106\n",
      "SEB, t-stat:-2.3054, p-val:0.17022\n",
      "SEE, t-stat:-3.0828, p-val:0.027853\n",
      "SESGFP, t-stat:-2.4415, p-val:0.13038\n",
      "SFD, t-stat:-2.6726, p-val:0.078909\n",
      "SFRFP, t-stat:-5.1015, p-val:1.3921e-05\n",
      "SGOFP, t-stat:-3.5855, p-val:0.006045\n",
      "SGTOPT, t-stat:-2.6343, p-val:0.086115\n",
      "SHBASS, t-stat:-2.268, p-val:0.18249\n",
      "SHIMAO, t-stat:-3.4209, p-val:0.010266\n",
      "SHNHAN, t-stat:-2.3412, p-val:0.15902\n",
      "SHW, t-stat:-3.266, p-val:0.016467\n",
      "SIBNEF, t-stat:-6.3121, p-val:3.2152e-08\n",
      "SIEGR, t-stat:-4.0461, p-val:0.0011876\n",
      "SJNKI, t-stat:-3.2776, p-val:0.015908\n",
      "SKENER, t-stat:-2.1846, p-val:0.21188\n",
      "SKM, t-stat:-1.9478, p-val:0.30993\n",
      "SLB, t-stat:-2.8574, p-val:0.050526\n",
      "SLG, t-stat:-2.2441, p-val:0.19062\n",
      "SMINLN, t-stat:-3.4658, p-val:0.0089089\n",
      "SO, t-stat:-2.9768, p-val:0.03712\n",
      "SOCGEN, t-stat:-3.176, p-val:0.021418\n",
      "SOFTBK, t-stat:-3.2822, p-val:0.015693\n",
      "SOLBBB, t-stat:-3.2877, p-val:0.015436\n",
      "SPGI, t-stat:-2.3842, p-val:0.14625\n",
      "SRE, t-stat:-3.1845, p-val:0.020899\n",
      "SSELN, t-stat:-2.8883, p-val:0.04672\n",
      "STANLN, t-stat:-2.0862, p-val:0.2501\n",
      "STEDIN, t-stat:-3.6466, p-val:0.00493\n",
      "STENA, t-stat:-2.924, p-val:0.042624\n",
      "STERV, t-stat:-3.1404, p-val:0.023707\n",
      "STLA, t-stat:-2.9002, p-val:0.045326\n",
      "STSP, t-stat:-3.9279, p-val:0.0018389\n",
      "STYRO, t-stat:-3.1122, p-val:0.025663\n",
      "STZ, t-stat:-2.2083, p-val:0.20326\n",
      "SUCN, t-stat:-4.0148, p-val:0.0013349\n",
      "SUFP, t-stat:-2.2578, p-val:0.18593\n",
      "SUMI, t-stat:-3.275, p-val:0.016035\n",
      "SUMIFL, t-stat:-2.6395, p-val:0.085105\n",
      "SUNAU, t-stat:-2.4997, p-val:0.11554\n",
      "SUNHUN, t-stat:-2.0538, p-val:0.26349\n",
      "SWEDA, t-stat:-2.2656, p-val:0.18332\n",
      "SWFP, t-stat:-2.7451, p-val:0.066559\n",
      "SWIRE, t-stat:-2.8439, p-val:0.052269\n",
      "SWK, t-stat:-3.7669, p-val:0.0032645\n",
      "SYNNVX, t-stat:-3.14, p-val:0.02373\n",
      "SYY, t-stat:-1.5508, p-val:0.50823\n",
      "SZUGR, t-stat:-3.1136, p-val:0.025562\n",
      "T, t-stat:-3.2497, p-val:0.01728\n",
      "TAP, t-stat:-3.238, p-val:0.017886\n",
      "TCKBCN, t-stat:-1.7864, p-val:0.38723\n",
      "TCN, t-stat:-2.7914, p-val:0.059512\n",
      "TD, t-stat:-2.4718, p-val:0.12248\n",
      "TDCDC, t-stat:-3.6591, p-val:0.0047264\n",
      "TELEFO, t-stat:-2.5341, p-val:0.1074\n",
      "TELIAS, t-stat:-2.6152, p-val:0.089904\n",
      "TELNO, t-stat:-2.274, p-val:0.1805\n",
      "TELVIS, t-stat:-3.181, p-val:0.021109\n",
      "TEVA, t-stat:-2.809, p-val:0.057004\n",
      "TGT, t-stat:-2.7887, p-val:0.059909\n",
      "TITIM, t-stat:-2.8356, p-val:0.053367\n",
      "TJX, t-stat:-3.3336, p-val:0.01344\n",
      "TKAAV, t-stat:-1.7554, p-val:0.40282\n",
      "TKAGR, t-stat:-1.68, p-val:0.44143\n",
      "TLSAU, t-stat:-2.7038, p-val:0.073382\n",
      "TOTAL, t-stat:-3.7855, p-val:0.0030592\n",
      "TOYOTA, t-stat:-4.2912, p-val:0.00046006\n",
      "TRICN, t-stat:-1.4197, p-val:0.5728\n",
      "TRV, t-stat:-2.7744, p-val:0.062027\n",
      "TSCOLN, t-stat:-1.7378, p-val:0.41175\n",
      "TSN, t-stat:-4.0901, p-val:0.0010057\n",
      "TT, t-stat:-2.3448, p-val:0.15794\n",
      "TTEFP, t-stat:-3.7855, p-val:0.0030592\n",
      "TTMTIN, t-stat:-2.8281, p-val:0.054374\n",
      "TXN, t-stat:-1.5716, p-val:0.49785\n",
      "TXT, t-stat:-0.9928, p-val:0.75588\n",
      "UBIIM, t-stat:-2.753, p-val:0.065308\n",
      "UCGIM, t-stat:-2.7944, p-val:0.059074\n",
      "UDR, t-stat:-3.1833, p-val:0.02097\n",
      "UHS, t-stat:-2.802, p-val:0.057994\n",
      "ULFP, t-stat:-2.1303, p-val:0.23253\n",
      "UNBC, t-stat:-3.6679, p-val:0.0045877\n",
      "UNH, t-stat:-5.3975, p-val:3.4284e-06\n",
      "UNIIM, t-stat:-3.5812, p-val:0.0061298\n",
      "UNILAB, t-stat:-4.2778, p-val:0.00048513\n",
      "UNM, t-stat:-2.5793, p-val:0.097354\n",
      "UNP, t-stat:-4.864, p-val:4.0962e-05\n",
      "UPCB, t-stat:-3.6272, p-val:0.0052624\n",
      "UPMFH, t-stat:-3.0485, p-val:0.030605\n",
      "UPS, t-stat:-3.1536, p-val:0.02283\n",
      "URI, t-stat:-3.7353, p-val:0.0036435\n",
      "USB, t-stat:-2.2778, p-val:0.17921\n",
      "UU, t-stat:-3.3794, p-val:0.01168\n",
      "VALEBZ, t-stat:-3.2928, p-val:0.015204\n",
      "VATFAL, t-stat:-2.3744, p-val:0.14908\n",
      "VERAV, t-stat:-2.3988, p-val:0.14208\n",
      "VFC, t-stat:-3.3244, p-val:0.013824\n",
      "VIAC, t-stat:-4.2135, p-val:0.00062503\n",
      "VIEFP, t-stat:-2.9864, p-val:0.036186\n",
      "VIVFP, t-stat:-3.1086, p-val:0.025926\n",
      "VLO, t-stat:-3.313, p-val:0.014308\n",
      "VLVY, t-stat:-2.761, p-val:0.064064\n",
      "VMC, t-stat:-3.0717, p-val:0.028718\n",
      "VOD, t-stat:-3.1763, p-val:0.021398\n",
      "VW, t-stat:-2.5935, p-val:0.094348\n",
      "VZ, t-stat:-3.4178, p-val:0.010367\n",
      "WEC, t-stat:-3.9415, p-val:0.0017499\n",
      "WELL, t-stat:-4.4816, p-val:0.00021225\n",
      "WESAU, t-stat:-2.6463, p-val:0.083802\n",
      "WFC, t-stat:-2.9092, p-val:0.044283\n",
      "WHR, t-stat:-4.6126, p-val:0.00012246\n",
      "WKLNA, t-stat:-3.3356, p-val:0.013361\n",
      "WM, t-stat:-2.1443, p-val:0.22708\n",
      "WMB, t-stat:-2.12, p-val:0.23655\n",
      "WMT, t-stat:-3.3523, p-val:0.012697\n",
      "WOORIB, t-stat:-2.4742, p-val:0.12188\n",
      "WPLAU, t-stat:-1.8696, p-val:0.3465\n",
      "WSTP, t-stat:-2.6573, p-val:0.08173\n",
      "WU, t-stat:-2.8952, p-val:0.045913\n",
      "WY, t-stat:-4.7851, p-val:5.8078e-05\n",
      "XL, t-stat:-1.7791, p-val:0.3909\n",
      "XOM, t-stat:-4.2871, p-val:0.00046771\n"
     ]
    }
   ],
   "source": [
    "for tick, DF in ticks_DF_dict.items():\n",
    "    dickey_test = adfuller(DF['PX1'])\n",
    "    print(f\"{tick}, t-stat:{dickey_test[0]:.5g}, p-val:{dickey_test[1]:.5g}\")"
   ]
  },
  {
   "cell_type": "code",
   "execution_count": 39,
   "id": "af0bc410-ded6-4cda-9637-66a8aaf2e74b",
   "metadata": {},
   "outputs": [
    {
     "data": {
      "image/png": "[encoded data removed]",
      "text/plain": [
       "<Figure size 1200x600 with 9 Axes>"
      ]
     },
     "metadata": {},
     "output_type": "display_data"
    }
   ],
   "source": [
    "from statsmodels.graphics.tsaplots import plot_acf, plot_pacf\n",
    "def plotOSandAC(tDF, dereferences, colname, type=\"BOTH\"):\n",
    "    \"\"\"Plots the (dereferenced) series vs the autocorrelation, to see what amount of dereferencing\n",
    "    is needed before the time-series is stationary.\"\"\"\n",
    "    assert dereferences > 0, \"Amount of dereferences must be greater than 0\"\n",
    "    assert type in ['ACF', 'PACF', 'BOTH'], \"Plot-type must be one of: 'PACF' or 'ACF' 'BOTH'\"\n",
    "    \n",
    "    am_vertical_subplots = min(3, dereferences+1)\n",
    "    am_horizontal_subplots = 2\n",
    "    if type == 'BOTH':\n",
    "        am_horizontal_subplots = 3\n",
    "    \n",
    "    fig, axes = plt.subplots(am_vertical_subplots, am_horizontal_subplots, figsize=(4*am_horizontal_subplots,2*am_vertical_subplots))\n",
    "    for i in range(am_vertical_subplots):\n",
    "        temp_tseries = tDF[colname]\n",
    "        for amount_dereferencing in range(dereferences - (am_vertical_subplots-1-i)):\n",
    "            temp_tseries = temp_tseries.diff().dropna()\n",
    "        axes[i, 0].plot(temp_tseries); axes[i, 0].set_title(f'{dereferences - (am_vertical_subplots-1-i)} dereferences')\n",
    "        if type == \"ACF\":\n",
    "            plot_acf(temp_tseries, ax=axes[i, 1], color='firebrick')\n",
    "        elif type == \"PACF\":\n",
    "            plot_pacf(temp_tseries, ax=axes[i, 1], color='slateblue')\n",
    "        elif type == \"BOTH\":\n",
    "            plot_acf(temp_tseries, ax=axes[i, 1], color='firebrick')\n",
    "            plot_pacf(temp_tseries, ax=axes[i, 2], color='slateblue')\n",
    "    fig.suptitle(f\"Dereferencing and correlation for {tDF.Company.iloc[0]}\")\n",
    "    plt.tight_layout()\n",
    "\n",
    "plotOSandAC(ticks_DF_dict['AAPL'], 2, 'PX1', type=\"BOTH\")"
   ]
  },
  {
   "cell_type": "markdown",
   "id": "079108cb-f282-4408-b4db-cf493bbbb01b",
   "metadata": {},
   "source": [
    "## 4. Fitting model on apple to look at distribution of residuals"
   ]
  },
  {
   "cell_type": "code",
   "execution_count": 41,
   "id": "69e4920d-4da5-40b0-ba47-d0666def5ce8",
   "metadata": {},
   "outputs": [
    {
     "name": "stdout",
     "output_type": "stream",
     "text": [
      "                               SARIMAX Results                                \n",
      "==============================================================================\n",
      "Dep. Variable:                    PX1   No. Observations:                 1747\n",
      "Model:                 ARIMA(1, 1, 1)   Log Likelihood               -1198.268\n",
      "Date:                Sun, 08 Dec 2024   AIC                           2402.536\n",
      "Time:                        13:39:32   BIC                           2418.932\n",
      "Sample:                    01-01-2015   HQIC                          2408.598\n",
      "                         - 09-10-2021                                         \n",
      "Covariance Type:                  opg                                         \n",
      "==============================================================================\n",
      "                 coef    std err          z      P>|z|      [0.025      0.975]\n",
      "------------------------------------------------------------------------------\n",
      "ar.L1          0.4171      0.048      8.671      0.000       0.323       0.511\n",
      "ma.L1         -0.6603      0.044    -15.169      0.000      -0.746      -0.575\n",
      "sigma2         0.2310      0.003     80.846      0.000       0.225       0.237\n",
      "===================================================================================\n",
      "Ljung-Box (L1) (Q):                   0.00   Jarque-Bera (JB):             13405.80\n",
      "Prob(Q):                              0.99   Prob(JB):                         0.00\n",
      "Heteroskedasticity (H):               0.53   Skew:                             0.74\n",
      "Prob(H) (two-sided):                  0.00   Kurtosis:                        16.49\n",
      "===================================================================================\n",
      "\n",
      "Warnings:\n",
      "[1] Covariance matrix calculated using the outer product of gradients (complex-step).\n"
     ]
    }
   ],
   "source": [
    "from statsmodels.tsa.arima.model import ARIMA\n",
    "\n",
    "# 1,1,1 ARIMA Model\n",
    "model = ARIMA(ticks_DF_dict['AAPL']['PX1'].asfreq(freq='B', method='bfill'), order=(1,1,1))\n",
    "model_fit = model.fit()\n",
    "print(model_fit.summary())"
   ]
  },
  {
   "cell_type": "code",
   "execution_count": 42,
   "id": "ad2bae73-d23d-4bb5-a9a2-cfaec414e45c",
   "metadata": {},
   "outputs": [
    {
     "data": {
      "image/png": "[encoded data removed]",
      "text/plain": [
       "<Figure size 1400x500 with 2 Axes>"
      ]
     },
     "metadata": {},
     "output_type": "display_data"
    }
   ],
   "source": [
    "# Plot residual errors\n",
    "residuals = pd.DataFrame(model_fit.resid)\n",
    "fig, ax = plt.subplots(1,2, figsize=(14,5))\n",
    "residuals.plot(title=\"Residuals\", ax=ax[0])\n",
    "residuals.plot(kind='kde', title='Density', ax=ax[1])\n",
    "plt.show()"
   ]
  },
  {
   "cell_type": "code",
   "execution_count": 43,
   "id": "2c57fbc4-787b-42a9-89f4-d89fbe2f4a9e",
   "metadata": {},
   "outputs": [
    {
     "data": {
      "image/png": "[encoded data removed]",
      "text/plain": [
       "<Figure size 1400x500 with 1 Axes>"
      ]
     },
     "metadata": {},
     "output_type": "display_data"
    }
   ],
   "source": [
    "# Actual vs Fitted\n",
    "from statsmodels.graphics.tsaplots import plot_predict\n",
    "plt.figure(figsize=(14,5))\n",
    "plt.plot(model_fit.predict(), alpha=1, linewidth=2)\n",
    "plt.plot(ticks_DF_dict['AAPL']['PX1'], alpha=1, linewidth=2)# Set `dynamic=True` for dynamic forecasts\n",
    "plt.show()"
   ]
  },
  {
   "cell_type": "markdown",
   "id": "402f2380-708f-489f-8557-f2a724eb394d",
   "metadata": {},
   "source": [
    "## 5. Defining functions to perform two simple forecasting methods"
   ]
  },
  {
   "cell_type": "code",
   "execution_count": 48,
   "id": "010b00d5-3272-418b-9211-6d9463f40615",
   "metadata": {},
   "outputs": [
    {
     "data": {
      "image/png": "[encoded data removed]",
      "text/plain": [
       "<Figure size 1200x500 with 1 Axes>"
      ]
     },
     "metadata": {},
     "output_type": "display_data"
    }
   ],
   "source": [
    "def SimpleARIMA(tDF, test_year, colname, plot=True, order=False):\n",
    "    from pmdarima import auto_arima\n",
    "    from statsmodels.tsa.arima.model import ARIMA\n",
    "    train_set = tDF[tDF.index.year < test_year][colname].asfreq(freq='B', method='bfill')\n",
    "    test_set  = tDF[tDF.index.year == test_year][colname].asfreq(freq='B', method='bfill')\n",
    "\n",
    "    if not order: #Select best p, d and q based on AIC fitting\n",
    "        auto_model = auto_arima(train_set, seasonal=False, trace=False)\n",
    "        order = auto_model.order\n",
    "        model_fit = ARIMA(train_set, order=order).fit()\n",
    "    else:\n",
    "        model_fit = ARIMA(train_set, order=order).fit()\n",
    "    \n",
    "    fc = model_fit.get_forecast(len(test_set)) \n",
    "    summary = fc.summary_frame()\n",
    "    summary['actual'] = test_set\n",
    "    \n",
    "    if plot==True:\n",
    "        fig = plt.figure(figsize=(12,5))\n",
    "        plt.plot(train_set, label=\"Train set\")\n",
    "        plt.plot(test_set, color='orange', label=\"Test set\")\n",
    "        plt.plot(fc.predicted_mean.index, fc.predicted_mean, label=f'Forecast, p:{order[0]}, d:{order[1]}, q:{order[2]}', color='firebrick')\n",
    "        \n",
    "        plt.fill_between(\n",
    "            fc.predicted_mean.index,\n",
    "            fc.conf_int(alpha=0.05).iloc[:, 0],\n",
    "            fc.conf_int(alpha=0.05).iloc[:, 1],\n",
    "            color='pink', alpha=0.3, label='95% Confidence Interval'\n",
    "        )\n",
    "    \n",
    "        fig.autofmt_xdate(rotation=45)\n",
    "        plt.xlabel(\"Year\")\n",
    "        plt.ylabel(\"CDS-spread\")\n",
    "        plt.title(f\"ARIMA forecast for {tDF.Company.iloc[0]} for the year {test_year}\")\n",
    "        plt.legend()\n",
    "        plt.show()\n",
    "    return summary\n",
    "\n",
    "frame = SimpleARIMA(ticks_DF_dict['AAPL'], 2020, \"PX1\")"
   ]
  },
  {
   "cell_type": "code",
   "execution_count": 49,
   "id": "354371f9-e607-4bea-bd4e-98d436992014",
   "metadata": {},
   "outputs": [
    {
     "data": {
      "text/html": [
       "<div>\n",
       "<style scoped>\n",
       "    .dataframe tbody tr th:only-of-type {\n",
       "        vertical-align: middle;\n",
       "    }\n",
       "\n",
       "    .dataframe tbody tr th {\n",
       "        vertical-align: top;\n",
       "    }\n",
       "\n",
       "    .dataframe thead th {\n",
       "        text-align: right;\n",
       "    }\n",
       "</style>\n",
       "<table border=\"1\" class=\"dataframe\">\n",
       "  <thead>\n",
       "    <tr style=\"text-align: right;\">\n",
       "      <th>PX1</th>\n",
       "      <th>mean</th>\n",
       "      <th>mean_se</th>\n",
       "      <th>mean_ci_lower</th>\n",
       "      <th>mean_ci_upper</th>\n",
       "      <th>actual</th>\n",
       "    </tr>\n",
       "  </thead>\n",
       "  <tbody>\n",
       "    <tr>\n",
       "      <th>2020-01-01</th>\n",
       "      <td>4.527445</td>\n",
       "      <td>0.472910</td>\n",
       "      <td>3.600557</td>\n",
       "      <td>5.454332</td>\n",
       "      <td>4.4779</td>\n",
       "    </tr>\n",
       "    <tr>\n",
       "      <th>2020-01-02</th>\n",
       "      <td>4.549356</td>\n",
       "      <td>0.589178</td>\n",
       "      <td>3.394588</td>\n",
       "      <td>5.704123</td>\n",
       "      <td>4.4842</td>\n",
       "    </tr>\n",
       "    <tr>\n",
       "      <th>2020-01-03</th>\n",
       "      <td>4.558255</td>\n",
       "      <td>0.662094</td>\n",
       "      <td>3.260576</td>\n",
       "      <td>5.855935</td>\n",
       "      <td>4.4872</td>\n",
       "    </tr>\n",
       "    <tr>\n",
       "      <th>2020-01-06</th>\n",
       "      <td>4.561870</td>\n",
       "      <td>0.719651</td>\n",
       "      <td>3.151380</td>\n",
       "      <td>5.972360</td>\n",
       "      <td>4.5001</td>\n",
       "    </tr>\n",
       "    <tr>\n",
       "      <th>2020-01-07</th>\n",
       "      <td>4.563338</td>\n",
       "      <td>0.770001</td>\n",
       "      <td>3.054164</td>\n",
       "      <td>6.072512</td>\n",
       "      <td>4.4918</td>\n",
       "    </tr>\n",
       "    <tr>\n",
       "      <th>...</th>\n",
       "      <td>...</td>\n",
       "      <td>...</td>\n",
       "      <td>...</td>\n",
       "      <td>...</td>\n",
       "      <td>...</td>\n",
       "    </tr>\n",
       "    <tr>\n",
       "      <th>2020-12-25</th>\n",
       "      <td>4.564342</td>\n",
       "      <td>4.336704</td>\n",
       "      <td>-3.935442</td>\n",
       "      <td>13.064127</td>\n",
       "      <td>8.3362</td>\n",
       "    </tr>\n",
       "    <tr>\n",
       "      <th>2020-12-28</th>\n",
       "      <td>4.564342</td>\n",
       "      <td>4.344996</td>\n",
       "      <td>-3.951693</td>\n",
       "      <td>13.080378</td>\n",
       "      <td>7.1190</td>\n",
       "    </tr>\n",
       "    <tr>\n",
       "      <th>2020-12-29</th>\n",
       "      <td>4.564342</td>\n",
       "      <td>4.353272</td>\n",
       "      <td>-3.967913</td>\n",
       "      <td>13.096598</td>\n",
       "      <td>8.2532</td>\n",
       "    </tr>\n",
       "    <tr>\n",
       "      <th>2020-12-30</th>\n",
       "      <td>4.564342</td>\n",
       "      <td>4.361532</td>\n",
       "      <td>-3.984103</td>\n",
       "      <td>13.112787</td>\n",
       "      <td>8.1845</td>\n",
       "    </tr>\n",
       "    <tr>\n",
       "      <th>2020-12-31</th>\n",
       "      <td>4.564342</td>\n",
       "      <td>4.369776</td>\n",
       "      <td>-4.000261</td>\n",
       "      <td>13.128946</td>\n",
       "      <td>8.2778</td>\n",
       "    </tr>\n",
       "  </tbody>\n",
       "</table>\n",
       "<p>262 rows × 5 columns</p>\n",
       "</div>"
      ],
      "text/plain": [
       "PX1             mean   mean_se  mean_ci_lower  mean_ci_upper  actual\n",
       "2020-01-01  4.527445  0.472910       3.600557       5.454332  4.4779\n",
       "2020-01-02  4.549356  0.589178       3.394588       5.704123  4.4842\n",
       "2020-01-03  4.558255  0.662094       3.260576       5.855935  4.4872\n",
       "2020-01-06  4.561870  0.719651       3.151380       5.972360  4.5001\n",
       "2020-01-07  4.563338  0.770001       3.054164       6.072512  4.4918\n",
       "...              ...       ...            ...            ...     ...\n",
       "2020-12-25  4.564342  4.336704      -3.935442      13.064127  8.3362\n",
       "2020-12-28  4.564342  4.344996      -3.951693      13.080378  7.1190\n",
       "2020-12-29  4.564342  4.353272      -3.967913      13.096598  8.2532\n",
       "2020-12-30  4.564342  4.361532      -3.984103      13.112787  8.1845\n",
       "2020-12-31  4.564342  4.369776      -4.000261      13.128946  8.2778\n",
       "\n",
       "[262 rows x 5 columns]"
      ]
     },
     "metadata": {},
     "output_type": "display_data"
    }
   ],
   "source": [
    "display(frame)"
   ]
  },
  {
   "cell_type": "code",
   "execution_count": 45,
   "id": "2dce3bd5-b424-48d0-ba0e-0a1740f99c7f",
   "metadata": {},
   "outputs": [
    {
     "name": "stdout",
     "output_type": "stream",
     "text": [
      "0, 1, 2, 3, 4, 5, 6, 7, 8, 9, 10, 11, 12, 13, 14, 15, 16, 17, 18, 19, 20, 21, 22, 23, 24, 25, 26, 27, 28, 29, 30, 31, 32, 33, 34, 35, 36, 37, 38, 39, 40, 41, 42, 43, 44, 45, 46, 47, 48, 49, 50, 51, 52, 53, 54, 55, 56, 57, 58, 59, 60, 61, 62, 63, 64, 65, 66, 67, 68, 69, 70, 71, 72, 73, 74, 75, 76, 77, 78, 79, 80, 81, 82, 83, 84, 85, 86, 87, 88, 89, 90, 91, 92, 93, 94, 95, 96, 97, 98, 99, 100, 101, 102, 103, 104, 105, 106, 107, 108, 109, 110, 111, 112, 113, 114, 115, 116, 117, 118, 119, 120, 121, 122, 123, 124, 125, 126, 127, 128, 129, 130, 131, 132, 133, 134, 135, 136, 137, 138, 139, 140, 141, 142, 143, 144, 145, 146, 147, 148, 149, 150, 151, 152, 153, 154, 155, 156, 157, 158, 159, 160, 161, 162, 163, 164, 165, 166, 167, 168, 169, 170, 171, 172, 173, 174, 175, 176, 177, 178, 179, 180, 181, 182, 183, 184, 185, 186, 187, 188, 189, 190, 191, 192, 193, 194, 195, 196, 197, 198, 199, 200, 201, 202, 203, 204, 205, 206, 207, 208, 209, 210, 211, 212, 213, 214, 215, 216, 217, 218, 219, 220, 221, 222, 223, 224, 225, 226, 227, 228, 229, 230, 231, 232, 233, 234, 235, 236, 237, 238, 239, 240, 241, 242, 243, 244, 245, 246, 247, 248, 249, 250, 251, 252, 253, 254, 255, 256, 257, 258, 259, 260, 261, "
     ]
    },
    {
     "data": {
      "image/png": "[encoded data removed]",
      "text/plain": [
       "<Figure size 1200x500 with 1 Axes>"
      ]
     },
     "metadata": {},
     "output_type": "display_data"
    }
   ],
   "source": [
    "def WalkForwardARIMA(tDF, test_year, colname, order=False, plot=True):\n",
    "    from pmdarima import auto_arima\n",
    "    from statsmodels.tsa.arima.model import ARIMA\n",
    "\n",
    "    # Train-test split\n",
    "    train_set = tDF[tDF.index.year < test_year][colname].asfreq(freq='B', method='bfill')\n",
    "    test_set  = tDF[tDF.index.year == test_year][colname].asfreq(freq='B', method='bfill')\n",
    "\n",
    "    if not order: #Select best p, d and q based on AIC fitting\n",
    "        auto_model = auto_arima(train_set, seasonal=False, trace=False)\n",
    "        order = auto_model.order\n",
    "\n",
    "    history = list(train_set)\n",
    "    forecasts = []\n",
    "    \n",
    "    for i in range(len(test_set)):\n",
    "        print(i, end=', ')\n",
    "\n",
    "        model = ARIMA(history, order=order)\n",
    "        model_fitted = model.fit()\n",
    "        \n",
    "        forecasted_value = model_fitted.forecast()[0]\n",
    "        forecasts.append(forecasted_value)\n",
    "        \n",
    "        actual_value = test_set.iloc[i]\n",
    "        history.append(actual_value)\n",
    "    \n",
    "    if plot==True:\n",
    "        fig = plt.figure(figsize=(12,5))\n",
    "        plt.plot(test_set.index, test_set, color='orange', alpha=0.6, label=\"Actual Test Data\")\n",
    "        plt.plot(test_set.index, forecasts, color='red', alpha=0.6, label=\"Forecasted Data\")\n",
    "        fig.autofmt_xdate(rotation=45)\n",
    "        plt.xlabel(\"Year\")\n",
    "        plt.ylabel(\"CDS-spread\")\n",
    "        plt.title(f\"ARIMA Walk-Forward Forecast for {tDF.Company.iloc[0]} in {test_year}\")\n",
    "        plt.legend()\n",
    "        plt.show()\n",
    "    return forecasts, test_set\n",
    "\n",
    "preds, actual = WalkForwardARIMA(ticks_DF_dict['AAPL'], 2020, \"PX1\")\n"
   ]
  },
  {
   "cell_type": "markdown",
   "id": "2154b9bf-f5e7-47b0-a4aa-3eb49f200963",
   "metadata": {},
   "source": [
    "## Metrics:"
   ]
  },
  {
   "cell_type": "code",
   "execution_count": 58,
   "id": "0bdb265b-dee7-479b-a482-0227438ac899",
   "metadata": {},
   "outputs": [],
   "source": [
    "#Utilizing Parallel and delayed, otherwise it would take a very long time.\n",
    "from joblib import Parallel, delayed\n",
    "from pmdarima import auto_arima\n",
    "\n",
    "def find_best_params(tDF, test_year, colname):\n",
    "    train_set = tDF[tDF.index.year < test_year][colname].asfreq(freq='B', method='bfill')\n",
    "    auto_model = auto_arima(train_set, seasonal=False, trace=False, max_p=3, max_d=2, max_q=3)\n",
    "    order = auto_model.order\n",
    "    return order\n",
    "\n",
    "def parallel_fit_arima(ticks_DF_dict, test_year, colname):\n",
    "    \"\"\"Parallelized ARIMA fitting for multiple tickers.\"\"\"\n",
    "    results = Parallel(n_jobs=-1)(\n",
    "        delayed(lambda tick, DF: (tick, find_best_params(DF, test_year, colname))) \n",
    "        (tick, DF)\n",
    "        for tick, DF in ticks_DF_dict.items()\n",
    "    )\n",
    "    return dict(results)\n",
    "\n",
    "# Call the parallel fitting function\n",
    "order_dict = parallel_fit_arima(ticks_DF_dict, 2020, 'PX1')"
   ]
  },
  {
   "cell_type": "code",
   "execution_count": 60,
   "id": "45cf9759-2d99-4c67-8035-18d094b86c4e",
   "metadata": {
    "scrolled": true
   },
   "outputs": [
    {
     "name": "stdout",
     "output_type": "stream",
     "text": [
      "A, AALLN, AAPL, ABC, "
     ]
    },
    {
     "name": "stderr",
     "output_type": "stream",
     "text": [
      "C:\\Users\\david\\anaconda3\\envs\\SDA\\Lib\\site-packages\\statsmodels\\tsa\\statespace\\sarimax.py:966: UserWarning: Non-stationary starting autoregressive parameters found. Using zeros as starting parameters.\n",
      "  warn('Non-stationary starting autoregressive parameters'\n",
      "C:\\Users\\david\\anaconda3\\envs\\SDA\\Lib\\site-packages\\statsmodels\\tsa\\statespace\\sarimax.py:978: UserWarning: Non-invertible starting MA parameters found. Using zeros as starting parameters.\n",
      "  warn('Non-invertible starting MA parameters found.'\n"
     ]
    },
    {
     "name": "stdout",
     "output_type": "stream",
     "text": [
      "ABESM, ABIBB, ABT, ABXCN, ACAFP, "
     ]
    },
    {
     "name": "stderr",
     "output_type": "stream",
     "text": [
      "C:\\Users\\david\\anaconda3\\envs\\SDA\\Lib\\site-packages\\statsmodels\\base\\model.py:607: ConvergenceWarning: Maximum Likelihood optimization failed to converge. Check mle_retvals\n",
      "  warnings.warn(\"Maximum Likelihood optimization failed to \"\n"
     ]
    },
    {
     "name": "stdout",
     "output_type": "stream",
     "text": [
      "ACEIM, ACFP, ADENVX, ADM, ADNA, ADP, ADSGR, AEGON, AES, "
     ]
    },
    {
     "name": "stderr",
     "output_type": "stream",
     "text": [
      "C:\\Users\\david\\anaconda3\\envs\\SDA\\Lib\\site-packages\\statsmodels\\tsa\\statespace\\sarimax.py:966: UserWarning: Non-stationary starting autoregressive parameters found. Using zeros as starting parameters.\n",
      "  warn('Non-stationary starting autoregressive parameters'\n",
      "C:\\Users\\david\\anaconda3\\envs\\SDA\\Lib\\site-packages\\statsmodels\\tsa\\statespace\\sarimax.py:978: UserWarning: Non-invertible starting MA parameters found. Using zeros as starting parameters.\n",
      "  warn('Non-invertible starting MA parameters found.'\n",
      "C:\\Users\\david\\anaconda3\\envs\\SDA\\Lib\\site-packages\\statsmodels\\base\\model.py:607: ConvergenceWarning: Maximum Likelihood optimization failed to converge. Check mle_retvals\n",
      "  warnings.warn(\"Maximum Likelihood optimization failed to \"\n"
     ]
    },
    {
     "name": "stdout",
     "output_type": "stream",
     "text": [
      "AET, AFG, AGSBB, AIFP, AIG, AIRFP, AKZANA, "
     ]
    },
    {
     "name": "stderr",
     "output_type": "stream",
     "text": [
      "C:\\Users\\david\\anaconda3\\envs\\SDA\\Lib\\site-packages\\statsmodels\\tsa\\statespace\\sarimax.py:966: UserWarning: Non-stationary starting autoregressive parameters found. Using zeros as starting parameters.\n",
      "  warn('Non-stationary starting autoregressive parameters'\n",
      "C:\\Users\\david\\anaconda3\\envs\\SDA\\Lib\\site-packages\\statsmodels\\tsa\\statespace\\sarimax.py:978: UserWarning: Non-invertible starting MA parameters found. Using zeros as starting parameters.\n",
      "  warn('Non-invertible starting MA parameters found.'\n"
     ]
    },
    {
     "name": "stdout",
     "output_type": "stream",
     "text": [
      "ALL, ALLRNV, ALLY, ALOFP, ALVGR, AMAT, AMGN, AMT, AMXLMM, AN, ANGSJ, ANTM, ANZ, APD, ARW, ASSABS, ASSGEN, ATCOA, ATLIM, AUCHAN, AVB, AVLN, AVT, "
     ]
    },
    {
     "name": "stderr",
     "output_type": "stream",
     "text": [
      "C:\\Users\\david\\anaconda3\\envs\\SDA\\Lib\\site-packages\\statsmodels\\base\\model.py:607: ConvergenceWarning: Maximum Likelihood optimization failed to converge. Check mle_retvals\n",
      "  warnings.warn(\"Maximum Likelihood optimization failed to \"\n"
     ]
    },
    {
     "name": "stdout",
     "output_type": "stream",
     "text": [
      "AVY, AXASA, AXP, AZN, AZO, BA, BAC, BACRED, "
     ]
    },
    {
     "name": "stderr",
     "output_type": "stream",
     "text": [
      "C:\\Users\\david\\anaconda3\\envs\\SDA\\Lib\\site-packages\\statsmodels\\base\\model.py:607: ConvergenceWarning: Maximum Likelihood optimization failed to converge. Check mle_retvals\n",
      "  warnings.warn(\"Maximum Likelihood optimization failed to \"\n"
     ]
    },
    {
     "name": "stdout",
     "output_type": "stream",
     "text": [
      "BALN, BAMACN, BASGR, BATSLN, BAX, "
     ]
    },
    {
     "name": "stderr",
     "output_type": "stream",
     "text": [
      "C:\\Users\\david\\anaconda3\\envs\\SDA\\Lib\\site-packages\\statsmodels\\base\\model.py:607: ConvergenceWarning: Maximum Likelihood optimization failed to converge. Check mle_retvals\n",
      "  warnings.warn(\"Maximum Likelihood optimization failed to \"\n"
     ]
    },
    {
     "name": "stdout",
     "output_type": "stream",
     "text": [
      "BAYNGR, BBDBCN, BBVAR, BBVASM, BBY, BCECN, BCHINA, BCJAF, "
     ]
    },
    {
     "name": "stderr",
     "output_type": "stream",
     "text": [
      "C:\\Users\\david\\anaconda3\\envs\\SDA\\Lib\\site-packages\\statsmodels\\tsa\\statespace\\sarimax.py:966: UserWarning: Non-stationary starting autoregressive parameters found. Using zeros as starting parameters.\n",
      "  warn('Non-stationary starting autoregressive parameters'\n",
      "C:\\Users\\david\\anaconda3\\envs\\SDA\\Lib\\site-packages\\statsmodels\\tsa\\statespace\\sarimax.py:978: UserWarning: Non-invertible starting MA parameters found. Using zeros as starting parameters.\n",
      "  warn('Non-invertible starting MA parameters found.'\n"
     ]
    },
    {
     "name": "stdout",
     "output_type": "stream",
     "text": [
      "BCPPL, "
     ]
    },
    {
     "name": "stderr",
     "output_type": "stream",
     "text": [
      "C:\\Users\\david\\anaconda3\\envs\\SDA\\Lib\\site-packages\\statsmodels\\base\\model.py:607: ConvergenceWarning: Maximum Likelihood optimization failed to converge. Check mle_retvals\n",
      "  warnings.warn(\"Maximum Likelihood optimization failed to \"\n",
      "C:\\Users\\david\\anaconda3\\envs\\SDA\\Lib\\site-packages\\statsmodels\\tsa\\statespace\\sarimax.py:966: UserWarning: Non-stationary starting autoregressive parameters found. Using zeros as starting parameters.\n",
      "  warn('Non-stationary starting autoregressive parameters'\n",
      "C:\\Users\\david\\anaconda3\\envs\\SDA\\Lib\\site-packages\\statsmodels\\tsa\\statespace\\sarimax.py:978: UserWarning: Non-invertible starting MA parameters found. Using zeros as starting parameters.\n",
      "  warn('Non-invertible starting MA parameters found.'\n"
     ]
    },
    {
     "name": "stdout",
     "output_type": "stream",
     "text": [
      "BDX, BERTEL, BFCM, "
     ]
    },
    {
     "name": "stderr",
     "output_type": "stream",
     "text": [
      "C:\\Users\\david\\anaconda3\\envs\\SDA\\Lib\\site-packages\\statsmodels\\tsa\\statespace\\sarimax.py:966: UserWarning: Non-stationary starting autoregressive parameters found. Using zeros as starting parameters.\n",
      "  warn('Non-stationary starting autoregressive parameters'\n",
      "C:\\Users\\david\\anaconda3\\envs\\SDA\\Lib\\site-packages\\statsmodels\\tsa\\statespace\\sarimax.py:978: UserWarning: Non-invertible starting MA parameters found. Using zeros as starting parameters.\n",
      "  warn('Non-invertible starting MA parameters found.'\n"
     ]
    },
    {
     "name": "stdout",
     "output_type": "stream",
     "text": [
      "BHI, BK, "
     ]
    },
    {
     "name": "stderr",
     "output_type": "stream",
     "text": [
      "C:\\Users\\david\\anaconda3\\envs\\SDA\\Lib\\site-packages\\statsmodels\\base\\model.py:607: ConvergenceWarning: Maximum Likelihood optimization failed to converge. Check mle_retvals\n",
      "  warnings.warn(\"Maximum Likelihood optimization failed to \"\n"
     ]
    },
    {
     "name": "stdout",
     "output_type": "stream",
     "text": [
      "BKIASM, BKIR, "
     ]
    },
    {
     "name": "stderr",
     "output_type": "stream",
     "text": [
      "C:\\Users\\david\\anaconda3\\envs\\SDA\\Lib\\site-packages\\statsmodels\\tsa\\statespace\\sarimax.py:966: UserWarning: Non-stationary starting autoregressive parameters found. Using zeros as starting parameters.\n",
      "  warn('Non-stationary starting autoregressive parameters'\n",
      "C:\\Users\\david\\anaconda3\\envs\\SDA\\Lib\\site-packages\\statsmodels\\tsa\\statespace\\sarimax.py:978: UserWarning: Non-invertible starting MA parameters found. Using zeros as starting parameters.\n",
      "  warn('Non-invertible starting MA parameters found.'\n"
     ]
    },
    {
     "name": "stdout",
     "output_type": "stream",
     "text": [
      "BKTSM, BLL, BMW, BMY, BNFP, BNFPL, BNKEA, BNP, BPLN, "
     ]
    },
    {
     "name": "stderr",
     "output_type": "stream",
     "text": [
      "C:\\Users\\david\\anaconda3\\envs\\SDA\\Lib\\site-packages\\statsmodels\\tsa\\statespace\\sarimax.py:966: UserWarning: Non-stationary starting autoregressive parameters found. Using zeros as starting parameters.\n",
      "  warn('Non-stationary starting autoregressive parameters'\n",
      "C:\\Users\\david\\anaconda3\\envs\\SDA\\Lib\\site-packages\\statsmodels\\tsa\\statespace\\sarimax.py:978: UserWarning: Non-invertible starting MA parameters found. Using zeros as starting parameters.\n",
      "  warn('Non-invertible starting MA parameters found.'\n"
     ]
    },
    {
     "name": "stdout",
     "output_type": "stream",
     "text": [
      "BRK, BSX, BWA, BYLAN, C, "
     ]
    },
    {
     "name": "stderr",
     "output_type": "stream",
     "text": [
      "C:\\Users\\david\\anaconda3\\envs\\SDA\\Lib\\site-packages\\statsmodels\\base\\model.py:607: ConvergenceWarning: Maximum Likelihood optimization failed to converge. Check mle_retvals\n",
      "  warnings.warn(\"Maximum Likelihood optimization failed to \"\n"
     ]
    },
    {
     "name": "stdout",
     "output_type": "stream",
     "text": [
      "CAFP, CAG, CAH, "
     ]
    },
    {
     "name": "stderr",
     "output_type": "stream",
     "text": [
      "C:\\Users\\david\\anaconda3\\envs\\SDA\\Lib\\site-packages\\statsmodels\\base\\model.py:607: ConvergenceWarning: Maximum Likelihood optimization failed to converge. Check mle_retvals\n",
      "  warnings.warn(\"Maximum Likelihood optimization failed to \"\n"
     ]
    },
    {
     "name": "stdout",
     "output_type": "stream",
     "text": [
      "CAPFP, CAR, CARGIL, CAT, CB, CBAAU, "
     ]
    },
    {
     "name": "stderr",
     "output_type": "stream",
     "text": [
      "C:\\Users\\david\\anaconda3\\envs\\SDA\\Lib\\site-packages\\statsmodels\\tsa\\statespace\\sarimax.py:966: UserWarning: Non-stationary starting autoregressive parameters found. Using zeros as starting parameters.\n",
      "  warn('Non-stationary starting autoregressive parameters'\n",
      "C:\\Users\\david\\anaconda3\\envs\\SDA\\Lib\\site-packages\\statsmodels\\tsa\\statespace\\sarimax.py:978: UserWarning: Non-invertible starting MA parameters found. Using zeros as starting parameters.\n",
      "  warn('Non-invertible starting MA parameters found.'\n",
      "C:\\Users\\david\\anaconda3\\envs\\SDA\\Lib\\site-packages\\statsmodels\\base\\model.py:607: ConvergenceWarning: Maximum Likelihood optimization failed to converge. Check mle_retvals\n",
      "  warnings.warn(\"Maximum Likelihood optimization failed to \"\n"
     ]
    },
    {
     "name": "stdout",
     "output_type": "stream",
     "text": [
      "CCI, CDBLFD, CDEL, CECGR, CHMFRU, "
     ]
    },
    {
     "name": "stderr",
     "output_type": "stream",
     "text": [
      "C:\\Users\\david\\anaconda3\\envs\\SDA\\Lib\\site-packages\\statsmodels\\base\\model.py:607: ConvergenceWarning: Maximum Likelihood optimization failed to converge. Check mle_retvals\n",
      "  warnings.warn(\"Maximum Likelihood optimization failed to \"\n",
      "C:\\Users\\david\\anaconda3\\envs\\SDA\\Lib\\site-packages\\statsmodels\\tsa\\statespace\\sarimax.py:966: UserWarning: Non-stationary starting autoregressive parameters found. Using zeros as starting parameters.\n",
      "  warn('Non-stationary starting autoregressive parameters'\n",
      "C:\\Users\\david\\anaconda3\\envs\\SDA\\Lib\\site-packages\\statsmodels\\tsa\\statespace\\sarimax.py:978: UserWarning: Non-invertible starting MA parameters found. Using zeros as starting parameters.\n",
      "  warn('Non-invertible starting MA parameters found.'\n"
     ]
    },
    {
     "name": "stdout",
     "output_type": "stream",
     "text": [
      "CI, "
     ]
    },
    {
     "name": "stderr",
     "output_type": "stream",
     "text": [
      "C:\\Users\\david\\anaconda3\\envs\\SDA\\Lib\\site-packages\\statsmodels\\base\\model.py:607: ConvergenceWarning: Maximum Likelihood optimization failed to converge. Check mle_retvals\n",
      "  warnings.warn(\"Maximum Likelihood optimization failed to \"\n"
     ]
    },
    {
     "name": "stdout",
     "output_type": "stream",
     "text": [
      "CITNAT, CITOH, "
     ]
    },
    {
     "name": "stderr",
     "output_type": "stream",
     "text": [
      "C:\\Users\\david\\anaconda3\\envs\\SDA\\Lib\\site-packages\\statsmodels\\base\\model.py:607: ConvergenceWarning: Maximum Likelihood optimization failed to converge. Check mle_retvals\n",
      "  warnings.warn(\"Maximum Likelihood optimization failed to \"\n"
     ]
    },
    {
     "name": "stdout",
     "output_type": "stream",
     "text": [
      "CL, CLX, CMACG, CMCSA, CMI, CMZB, CNALN, CNHI, CNOOC, CNP, CNQCN, CNRCN, CNUNZ, COF, "
     ]
    },
    {
     "name": "stderr",
     "output_type": "stream",
     "text": [
      "C:\\Users\\david\\anaconda3\\envs\\SDA\\Lib\\site-packages\\statsmodels\\base\\model.py:607: ConvergenceWarning: Maximum Likelihood optimization failed to converge. Check mle_retvals\n",
      "  warnings.warn(\"Maximum Likelihood optimization failed to \"\n"
     ]
    },
    {
     "name": "stdout",
     "output_type": "stream",
     "text": [
      "COFP, COMQAT, CONGR, COP, COST, COXENT, CPB, CPGLN, CPT, CS, CSCO, CSX, CTVA, CVS, CVX, CXGD, D, DAIGR, DAIWA, DAL, DANBNK, DB, DBOERS, DE, DEPFA, DEVOBA, DGELN, DGFP, DGX, DHI, DHR, DOV, DOW, DPWDU, DPWGR, DRI, "
     ]
    },
    {
     "name": "stderr",
     "output_type": "stream",
     "text": [
      "C:\\Users\\david\\anaconda3\\envs\\SDA\\Lib\\site-packages\\statsmodels\\base\\model.py:607: ConvergenceWarning: Maximum Likelihood optimization failed to converge. Check mle_retvals\n",
      "  warnings.warn(\"Maximum Likelihood optimization failed to \"\n"
     ]
    },
    {
     "name": "stdout",
     "output_type": "stream",
     "text": [
      "DSM, DT, DVN, DXC, DZBK, EBIUH, ED, EDF, "
     ]
    },
    {
     "name": "stderr",
     "output_type": "stream",
     "text": [
      "C:\\Users\\david\\anaconda3\\envs\\SDA\\Lib\\site-packages\\statsmodels\\base\\model.py:607: ConvergenceWarning: Maximum Likelihood optimization failed to converge. Check mle_retvals\n",
      "  warnings.warn(\"Maximum Likelihood optimization failed to \"\n"
     ]
    },
    {
     "name": "stdout",
     "output_type": "stream",
     "text": [
      "EDPPL, EIBKOR, EMN, ENBCN, ENBW, ENELIM, "
     ]
    },
    {
     "name": "stderr",
     "output_type": "stream",
     "text": [
      "C:\\Users\\david\\anaconda3\\envs\\SDA\\Lib\\site-packages\\statsmodels\\base\\model.py:607: ConvergenceWarning: Maximum Likelihood optimization failed to converge. Check mle_retvals\n",
      "  warnings.warn(\"Maximum Likelihood optimization failed to \"\n"
     ]
    },
    {
     "name": "stdout",
     "output_type": "stream",
     "text": [
      "ENFP, ENGALL, ENGIFP, ENIIM, EOANGR, EOG, EQNR, ERICB, ERSTBK, ETEGA, "
     ]
    },
    {
     "name": "stderr",
     "output_type": "stream",
     "text": [
      "C:\\Users\\david\\anaconda3\\envs\\SDA\\Lib\\site-packages\\statsmodels\\base\\model.py:607: ConvergenceWarning: Maximum Likelihood optimization failed to converge. Check mle_retvals\n",
      "  warnings.warn(\"Maximum Likelihood optimization failed to \"\n",
      "C:\\Users\\david\\anaconda3\\envs\\SDA\\Lib\\site-packages\\statsmodels\\tsa\\statespace\\sarimax.py:966: UserWarning: Non-stationary starting autoregressive parameters found. Using zeros as starting parameters.\n",
      "  warn('Non-stationary starting autoregressive parameters'\n",
      "C:\\Users\\david\\anaconda3\\envs\\SDA\\Lib\\site-packages\\statsmodels\\tsa\\statespace\\sarimax.py:978: UserWarning: Non-invertible starting MA parameters found. Using zeros as starting parameters.\n",
      "  warn('Non-invertible starting MA parameters found.'\n"
     ]
    },
    {
     "name": "stdout",
     "output_type": "stream",
     "text": [
      "ETN, ETR, EVKGR, EWE, EXPE, F, FABUH, FCAIM, "
     ]
    },
    {
     "name": "stderr",
     "output_type": "stream",
     "text": [
      "C:\\Users\\david\\anaconda3\\envs\\SDA\\Lib\\site-packages\\statsmodels\\base\\model.py:607: ConvergenceWarning: Maximum Likelihood optimization failed to converge. Check mle_retvals\n",
      "  warnings.warn(\"Maximum Likelihood optimization failed to \"\n"
     ]
    },
    {
     "name": "stdout",
     "output_type": "stream",
     "text": [
      "FDX, FFHCN, FREGR, FRFP, FRT, "
     ]
    },
    {
     "name": "stderr",
     "output_type": "stream",
     "text": [
      "C:\\Users\\david\\anaconda3\\envs\\SDA\\Lib\\site-packages\\statsmodels\\base\\model.py:607: ConvergenceWarning: Maximum Likelihood optimization failed to converge. Check mle_retvals\n",
      "  warnings.warn(\"Maximum Likelihood optimization failed to \"\n"
     ]
    },
    {
     "name": "stdout",
     "output_type": "stream",
     "text": [
      "FTI, FUMVFH, GALPPL, GAZPRU, GD, GE, GFCFP, GIS, GLW, GM, GMGAU, GMT, GP, GS, "
     ]
    },
    {
     "name": "stderr",
     "output_type": "stream",
     "text": [
      "C:\\Users\\david\\anaconda3\\envs\\SDA\\Lib\\site-packages\\statsmodels\\tsa\\statespace\\sarimax.py:966: UserWarning: Non-stationary starting autoregressive parameters found. Using zeros as starting parameters.\n",
      "  warn('Non-stationary starting autoregressive parameters'\n",
      "C:\\Users\\david\\anaconda3\\envs\\SDA\\Lib\\site-packages\\statsmodels\\tsa\\statespace\\sarimax.py:978: UserWarning: Non-invertible starting MA parameters found. Using zeros as starting parameters.\n",
      "  warn('Non-invertible starting MA parameters found.'\n"
     ]
    },
    {
     "name": "stdout",
     "output_type": "stream",
     "text": [
      "GSK, GT, HAL, HAS, HCOB, HD, HEIANA, HEIGR, HENKEL, HES, "
     ]
    },
    {
     "name": "stderr",
     "output_type": "stream",
     "text": [
      "C:\\Users\\david\\anaconda3\\envs\\SDA\\Lib\\site-packages\\statsmodels\\tsa\\statespace\\sarimax.py:966: UserWarning: Non-stationary starting autoregressive parameters found. Using zeros as starting parameters.\n",
      "  warn('Non-stationary starting autoregressive parameters'\n",
      "C:\\Users\\david\\anaconda3\\envs\\SDA\\Lib\\site-packages\\statsmodels\\tsa\\statespace\\sarimax.py:978: UserWarning: Non-invertible starting MA parameters found. Using zeros as starting parameters.\n",
      "  warn('Non-invertible starting MA parameters found.'\n",
      "C:\\Users\\david\\anaconda3\\envs\\SDA\\Lib\\site-packages\\statsmodels\\base\\model.py:607: ConvergenceWarning: Maximum Likelihood optimization failed to converge. Check mle_retvals\n",
      "  warnings.warn(\"Maximum Likelihood optimization failed to \"\n"
     ]
    },
    {
     "name": "stdout",
     "output_type": "stream",
     "text": [
      "HESLAN, HIG, HMSOLN, HNDA, HOFP, HON, "
     ]
    },
    {
     "name": "stderr",
     "output_type": "stream",
     "text": [
      "C:\\Users\\david\\anaconda3\\envs\\SDA\\Lib\\site-packages\\statsmodels\\tsa\\statespace\\sarimax.py:978: UserWarning: Non-invertible starting MA parameters found. Using zeros as starting parameters.\n",
      "  warn('Non-invertible starting MA parameters found.'\n",
      "C:\\Users\\david\\anaconda3\\envs\\SDA\\Lib\\site-packages\\statsmodels\\base\\model.py:607: ConvergenceWarning: Maximum Likelihood optimization failed to converge. Check mle_retvals\n",
      "  warnings.warn(\"Maximum Likelihood optimization failed to \"\n",
      "C:\\Users\\david\\anaconda3\\envs\\SDA\\Lib\\site-packages\\statsmodels\\tsa\\statespace\\sarimax.py:966: UserWarning: Non-stationary starting autoregressive parameters found. Using zeros as starting parameters.\n",
      "  warn('Non-stationary starting autoregressive parameters'\n",
      "C:\\Users\\david\\anaconda3\\envs\\SDA\\Lib\\site-packages\\statsmodels\\tsa\\statespace\\sarimax.py:978: UserWarning: Non-invertible starting MA parameters found. Using zeros as starting parameters.\n",
      "  warn('Non-invertible starting MA parameters found.'\n"
     ]
    },
    {
     "name": "stdout",
     "output_type": "stream",
     "text": [
      "HOTGR, HPQ, HSBC, HSECN, HSY, HTOGA, HUM, HYNMTR, "
     ]
    },
    {
     "name": "stderr",
     "output_type": "stream",
     "text": [
      "C:\\Users\\david\\anaconda3\\envs\\SDA\\Lib\\site-packages\\statsmodels\\base\\model.py:607: ConvergenceWarning: Maximum Likelihood optimization failed to converge. Check mle_retvals\n",
      "  warnings.warn(\"Maximum Likelihood optimization failed to \"\n"
     ]
    },
    {
     "name": "stdout",
     "output_type": "stream",
     "text": [
      "HYSAN, HYUELE, IAGLN, IBESM, IBM, "
     ]
    },
    {
     "name": "stderr",
     "output_type": "stream",
     "text": [
      "C:\\Users\\david\\anaconda3\\envs\\SDA\\Lib\\site-packages\\statsmodels\\tsa\\statespace\\sarimax.py:978: UserWarning: Non-invertible starting MA parameters found. Using zeros as starting parameters.\n",
      "  warn('Non-invertible starting MA parameters found.'\n"
     ]
    },
    {
     "name": "stdout",
     "output_type": "stream",
     "text": [
      "ICICI, IMBLN, INDKOR, "
     ]
    },
    {
     "name": "stderr",
     "output_type": "stream",
     "text": [
      "C:\\Users\\david\\anaconda3\\envs\\SDA\\Lib\\site-packages\\statsmodels\\tsa\\statespace\\sarimax.py:966: UserWarning: Non-stationary starting autoregressive parameters found. Using zeros as starting parameters.\n",
      "  warn('Non-stationary starting autoregressive parameters'\n",
      "C:\\Users\\david\\anaconda3\\envs\\SDA\\Lib\\site-packages\\statsmodels\\tsa\\statespace\\sarimax.py:978: UserWarning: Non-invertible starting MA parameters found. Using zeros as starting parameters.\n",
      "  warn('Non-invertible starting MA parameters found.'\n"
     ]
    },
    {
     "name": "stdout",
     "output_type": "stream",
     "text": [
      "INEGRP, INTC, INTNED, INTU, INVSA, IP, IPG, ISPIM, ISRELE, ISSDC, ITVLN, "
     ]
    },
    {
     "name": "stderr",
     "output_type": "stream",
     "text": [
      "C:\\Users\\david\\anaconda3\\envs\\SDA\\Lib\\site-packages\\statsmodels\\tsa\\statespace\\sarimax.py:966: UserWarning: Non-stationary starting autoregressive parameters found. Using zeros as starting parameters.\n",
      "  warn('Non-stationary starting autoregressive parameters'\n",
      "C:\\Users\\david\\anaconda3\\envs\\SDA\\Lib\\site-packages\\statsmodels\\tsa\\statespace\\sarimax.py:978: UserWarning: Non-invertible starting MA parameters found. Using zeros as starting parameters.\n",
      "  warn('Non-invertible starting MA parameters found.'\n"
     ]
    },
    {
     "name": "stdout",
     "output_type": "stream",
     "text": [
      "ITW, "
     ]
    },
    {
     "name": "stderr",
     "output_type": "stream",
     "text": [
      "C:\\Users\\david\\anaconda3\\envs\\SDA\\Lib\\site-packages\\statsmodels\\tsa\\statespace\\sarimax.py:966: UserWarning: Non-stationary starting autoregressive parameters found. Using zeros as starting parameters.\n",
      "  warn('Non-stationary starting autoregressive parameters'\n",
      "C:\\Users\\david\\anaconda3\\envs\\SDA\\Lib\\site-packages\\statsmodels\\tsa\\statespace\\sarimax.py:978: UserWarning: Non-invertible starting MA parameters found. Using zeros as starting parameters.\n",
      "  warn('Non-invertible starting MA parameters found.'\n"
     ]
    },
    {
     "name": "stdout",
     "output_type": "stream",
     "text": [
      "JAPTOB, "
     ]
    },
    {
     "name": "stderr",
     "output_type": "stream",
     "text": [
      "C:\\Users\\david\\anaconda3\\envs\\SDA\\Lib\\site-packages\\statsmodels\\tsa\\statespace\\sarimax.py:966: UserWarning: Non-stationary starting autoregressive parameters found. Using zeros as starting parameters.\n",
      "  warn('Non-stationary starting autoregressive parameters'\n",
      "C:\\Users\\david\\anaconda3\\envs\\SDA\\Lib\\site-packages\\statsmodels\\tsa\\statespace\\sarimax.py:978: UserWarning: Non-invertible starting MA parameters found. Using zeros as starting parameters.\n",
      "  warn('Non-invertible starting MA parameters found.'\n"
     ]
    },
    {
     "name": "stdout",
     "output_type": "stream",
     "text": [
      "JCI, JNJ, JNPR, "
     ]
    },
    {
     "name": "stderr",
     "output_type": "stream",
     "text": [
      "C:\\Users\\david\\anaconda3\\envs\\SDA\\Lib\\site-packages\\statsmodels\\tsa\\statespace\\sarimax.py:966: UserWarning: Non-stationary starting autoregressive parameters found. Using zeros as starting parameters.\n",
      "  warn('Non-stationary starting autoregressive parameters'\n"
     ]
    },
    {
     "name": "stdout",
     "output_type": "stream",
     "text": [
      "JPM, JWN, K, "
     ]
    },
    {
     "name": "stderr",
     "output_type": "stream",
     "text": [
      "C:\\Users\\david\\anaconda3\\envs\\SDA\\Lib\\site-packages\\statsmodels\\base\\model.py:607: ConvergenceWarning: Maximum Likelihood optimization failed to converge. Check mle_retvals\n",
      "  warnings.warn(\"Maximum Likelihood optimization failed to \"\n",
      "C:\\Users\\david\\anaconda3\\envs\\SDA\\Lib\\site-packages\\statsmodels\\tsa\\statespace\\sarimax.py:966: UserWarning: Non-stationary starting autoregressive parameters found. Using zeros as starting parameters.\n",
      "  warn('Non-stationary starting autoregressive parameters'\n",
      "C:\\Users\\david\\anaconda3\\envs\\SDA\\Lib\\site-packages\\statsmodels\\tsa\\statespace\\sarimax.py:978: UserWarning: Non-invertible starting MA parameters found. Using zeros as starting parameters.\n",
      "  warn('Non-invertible starting MA parameters found.'\n"
     ]
    },
    {
     "name": "stdout",
     "output_type": "stream",
     "text": [
      "KANSEL, "
     ]
    },
    {
     "name": "stderr",
     "output_type": "stream",
     "text": [
      "C:\\Users\\david\\anaconda3\\envs\\SDA\\Lib\\site-packages\\statsmodels\\base\\model.py:607: ConvergenceWarning: Maximum Likelihood optimization failed to converge. Check mle_retvals\n",
      "  warnings.warn(\"Maximum Likelihood optimization failed to \"\n"
     ]
    },
    {
     "name": "stdout",
     "output_type": "stream",
     "text": [
      "KBCBB, KERFP, "
     ]
    },
    {
     "name": "stderr",
     "output_type": "stream",
     "text": [
      "C:\\Users\\david\\anaconda3\\envs\\SDA\\Lib\\site-packages\\statsmodels\\tsa\\statespace\\sarimax.py:966: UserWarning: Non-stationary starting autoregressive parameters found. Using zeros as starting parameters.\n",
      "  warn('Non-stationary starting autoregressive parameters'\n",
      "C:\\Users\\david\\anaconda3\\envs\\SDA\\Lib\\site-packages\\statsmodels\\tsa\\statespace\\sarimax.py:978: UserWarning: Non-invertible starting MA parameters found. Using zeros as starting parameters.\n",
      "  warn('Non-invertible starting MA parameters found.'\n"
     ]
    },
    {
     "name": "stdout",
     "output_type": "stream",
     "text": [
      "KIAMTR, KIM, KMB, KMI, KO, KORELE, KPN, KR, KSS, "
     ]
    },
    {
     "name": "stderr",
     "output_type": "stream",
     "text": [
      "C:\\Users\\david\\anaconda3\\envs\\SDA\\Lib\\site-packages\\statsmodels\\tsa\\statespace\\sarimax.py:966: UserWarning: Non-stationary starting autoregressive parameters found. Using zeros as starting parameters.\n",
      "  warn('Non-stationary starting autoregressive parameters'\n",
      "C:\\Users\\david\\anaconda3\\envs\\SDA\\Lib\\site-packages\\statsmodels\\tsa\\statespace\\sarimax.py:978: UserWarning: Non-invertible starting MA parameters found. Using zeros as starting parameters.\n",
      "  warn('Non-invertible starting MA parameters found.'\n"
     ]
    },
    {
     "name": "stdout",
     "output_type": "stream",
     "text": [
      "L, LBBW, LDOIM, LEN, LEVI, LGEN, "
     ]
    },
    {
     "name": "stderr",
     "output_type": "stream",
     "text": [
      "C:\\Users\\david\\anaconda3\\envs\\SDA\\Lib\\site-packages\\statsmodels\\tsa\\statespace\\sarimax.py:966: UserWarning: Non-stationary starting autoregressive parameters found. Using zeros as starting parameters.\n",
      "  warn('Non-stationary starting autoregressive parameters'\n"
     ]
    },
    {
     "name": "stdout",
     "output_type": "stream",
     "text": [
      "LGFP, "
     ]
    },
    {
     "name": "stderr",
     "output_type": "stream",
     "text": [
      "C:\\Users\\david\\anaconda3\\envs\\SDA\\Lib\\site-packages\\statsmodels\\base\\model.py:607: ConvergenceWarning: Maximum Likelihood optimization failed to converge. Check mle_retvals\n",
      "  warnings.warn(\"Maximum Likelihood optimization failed to \"\n"
     ]
    },
    {
     "name": "stdout",
     "output_type": "stream",
     "text": [
      "LH, LHAGR, "
     ]
    },
    {
     "name": "stderr",
     "output_type": "stream",
     "text": [
      "C:\\Users\\david\\anaconda3\\envs\\SDA\\Lib\\site-packages\\statsmodels\\tsa\\statespace\\sarimax.py:966: UserWarning: Non-stationary starting autoregressive parameters found. Using zeros as starting parameters.\n",
      "  warn('Non-stationary starting autoregressive parameters'\n",
      "C:\\Users\\david\\anaconda3\\envs\\SDA\\Lib\\site-packages\\statsmodels\\tsa\\statespace\\sarimax.py:978: UserWarning: Non-invertible starting MA parameters found. Using zeros as starting parameters.\n",
      "  warn('Non-invertible starting MA parameters found.'\n",
      "C:\\Users\\david\\anaconda3\\envs\\SDA\\Lib\\site-packages\\statsmodels\\base\\model.py:607: ConvergenceWarning: Maximum Likelihood optimization failed to converge. Check mle_retvals\n",
      "  warnings.warn(\"Maximum Likelihood optimization failed to \"\n"
     ]
    },
    {
     "name": "stdout",
     "output_type": "stream",
     "text": [
      "LHNVX, "
     ]
    },
    {
     "name": "stderr",
     "output_type": "stream",
     "text": [
      "C:\\Users\\david\\anaconda3\\envs\\SDA\\Lib\\site-packages\\statsmodels\\base\\model.py:607: ConvergenceWarning: Maximum Likelihood optimization failed to converge. Check mle_retvals\n",
      "  warnings.warn(\"Maximum Likelihood optimization failed to \"\n"
     ]
    },
    {
     "name": "stdout",
     "output_type": "stream",
     "text": [
      "LIFP, LIFUNG, LMT, LNC, LOUDRE, "
     ]
    },
    {
     "name": "stderr",
     "output_type": "stream",
     "text": [
      "C:\\Users\\david\\anaconda3\\envs\\SDA\\Lib\\site-packages\\statsmodels\\tsa\\statespace\\sarimax.py:966: UserWarning: Non-stationary starting autoregressive parameters found. Using zeros as starting parameters.\n",
      "  warn('Non-stationary starting autoregressive parameters'\n",
      "C:\\Users\\david\\anaconda3\\envs\\SDA\\Lib\\site-packages\\statsmodels\\tsa\\statespace\\sarimax.py:978: UserWarning: Non-invertible starting MA parameters found. Using zeros as starting parameters.\n",
      "  warn('Non-invertible starting MA parameters found.'\n"
     ]
    },
    {
     "name": "stdout",
     "output_type": "stream",
     "text": [
      "LOW, "
     ]
    },
    {
     "name": "stderr",
     "output_type": "stream",
     "text": [
      "C:\\Users\\david\\anaconda3\\envs\\SDA\\Lib\\site-packages\\statsmodels\\tsa\\statespace\\sarimax.py:966: UserWarning: Non-stationary starting autoregressive parameters found. Using zeros as starting parameters.\n",
      "  warn('Non-stationary starting autoregressive parameters'\n",
      "C:\\Users\\david\\anaconda3\\envs\\SDA\\Lib\\site-packages\\statsmodels\\tsa\\statespace\\sarimax.py:978: UserWarning: Non-invertible starting MA parameters found. Using zeros as starting parameters.\n",
      "  warn('Non-invertible starting MA parameters found.'\n"
     ]
    },
    {
     "name": "stdout",
     "output_type": "stream",
     "text": [
      "LRFP, LUKOIL, "
     ]
    },
    {
     "name": "stderr",
     "output_type": "stream",
     "text": [
      "C:\\Users\\david\\anaconda3\\envs\\SDA\\Lib\\site-packages\\statsmodels\\base\\model.py:607: ConvergenceWarning: Maximum Likelihood optimization failed to converge. Check mle_retvals\n",
      "  warnings.warn(\"Maximum Likelihood optimization failed to \"\n"
     ]
    },
    {
     "name": "stdout",
     "output_type": "stream",
     "text": [
      "LUV, LXSGR, MAR, MARUB, MAS, MASQUH, MATSEL, MCD, MCFP, MCK, MDC, MDLZ, "
     ]
    },
    {
     "name": "stderr",
     "output_type": "stream",
     "text": [
      "C:\\Users\\david\\anaconda3\\envs\\SDA\\Lib\\site-packages\\statsmodels\\tsa\\statespace\\sarimax.py:966: UserWarning: Non-stationary starting autoregressive parameters found. Using zeros as starting parameters.\n",
      "  warn('Non-stationary starting autoregressive parameters'\n",
      "C:\\Users\\david\\anaconda3\\envs\\SDA\\Lib\\site-packages\\statsmodels\\tsa\\statespace\\sarimax.py:978: UserWarning: Non-invertible starting MA parameters found. Using zeros as starting parameters.\n",
      "  warn('Non-invertible starting MA parameters found.'\n"
     ]
    },
    {
     "name": "stdout",
     "output_type": "stream",
     "text": [
      "MET, METSO, MHK, MITCO, MLM, "
     ]
    },
    {
     "name": "stderr",
     "output_type": "stream",
     "text": [
      "C:\\Users\\david\\anaconda3\\envs\\SDA\\Lib\\site-packages\\statsmodels\\tsa\\statespace\\sarimax.py:966: UserWarning: Non-stationary starting autoregressive parameters found. Using zeros as starting parameters.\n",
      "  warn('Non-stationary starting autoregressive parameters'\n",
      "C:\\Users\\david\\anaconda3\\envs\\SDA\\Lib\\site-packages\\statsmodels\\tsa\\statespace\\sarimax.py:978: UserWarning: Non-invertible starting MA parameters found. Using zeros as starting parameters.\n",
      "  warn('Non-invertible starting MA parameters found.'\n"
     ]
    },
    {
     "name": "stdout",
     "output_type": "stream",
     "text": [
      "MMBFP, MMC, MMM, MMP, MO, MONTE, MOS, "
     ]
    },
    {
     "name": "stderr",
     "output_type": "stream",
     "text": [
      "C:\\Users\\david\\anaconda3\\envs\\SDA\\Lib\\site-packages\\statsmodels\\tsa\\statespace\\sarimax.py:966: UserWarning: Non-stationary starting autoregressive parameters found. Using zeros as starting parameters.\n",
      "  warn('Non-stationary starting autoregressive parameters'\n",
      "C:\\Users\\david\\anaconda3\\envs\\SDA\\Lib\\site-packages\\statsmodels\\tsa\\statespace\\sarimax.py:978: UserWarning: Non-invertible starting MA parameters found. Using zeros as starting parameters.\n",
      "  warn('Non-invertible starting MA parameters found.'\n"
     ]
    },
    {
     "name": "stdout",
     "output_type": "stream",
     "text": [
      "MQGAU, MRK, MRKGR, MRO, MS, "
     ]
    },
    {
     "name": "stderr",
     "output_type": "stream",
     "text": [
      "C:\\Users\\david\\anaconda3\\envs\\SDA\\Lib\\site-packages\\statsmodels\\tsa\\statespace\\sarimax.py:966: UserWarning: Non-stationary starting autoregressive parameters found. Using zeros as starting parameters.\n",
      "  warn('Non-stationary starting autoregressive parameters'\n",
      "C:\\Users\\david\\anaconda3\\envs\\SDA\\Lib\\site-packages\\statsmodels\\tsa\\statespace\\sarimax.py:978: UserWarning: Non-invertible starting MA parameters found. Using zeros as starting parameters.\n",
      "  warn('Non-invertible starting MA parameters found.'\n"
     ]
    },
    {
     "name": "stdout",
     "output_type": "stream",
     "text": [
      "MSFT, MSI, MTNA, MUBAUH, MUV2.DE, MWDP, NAB, NBL, NDASS, "
     ]
    },
    {
     "name": "stderr",
     "output_type": "stream",
     "text": [
      "C:\\Users\\david\\anaconda3\\envs\\SDA\\Lib\\site-packages\\statsmodels\\tsa\\statespace\\sarimax.py:966: UserWarning: Non-stationary starting autoregressive parameters found. Using zeros as starting parameters.\n",
      "  warn('Non-stationary starting autoregressive parameters'\n",
      "C:\\Users\\david\\anaconda3\\envs\\SDA\\Lib\\site-packages\\statsmodels\\tsa\\statespace\\sarimax.py:978: UserWarning: Non-invertible starting MA parameters found. Using zeros as starting parameters.\n",
      "  warn('Non-invertible starting MA parameters found.'\n"
     ]
    },
    {
     "name": "stdout",
     "output_type": "stream",
     "text": [
      "NDB, NEE, NEM, NESNVX, "
     ]
    },
    {
     "name": "stderr",
     "output_type": "stream",
     "text": [
      "C:\\Users\\david\\anaconda3\\envs\\SDA\\Lib\\site-packages\\statsmodels\\base\\model.py:607: ConvergenceWarning: Maximum Likelihood optimization failed to converge. Check mle_retvals\n",
      "  warnings.warn(\"Maximum Likelihood optimization failed to \"\n"
     ]
    },
    {
     "name": "stdout",
     "output_type": "stream",
     "text": [
      "NGGLN, NKE, NNGRNV, NOC, NOKIA, NOMURA, NOVBNC, "
     ]
    },
    {
     "name": "stderr",
     "output_type": "stream",
     "text": [
      "C:\\Users\\david\\anaconda3\\envs\\SDA\\Lib\\site-packages\\statsmodels\\tsa\\statespace\\sarimax.py:966: UserWarning: Non-stationary starting autoregressive parameters found. Using zeros as starting parameters.\n",
      "  warn('Non-stationary starting autoregressive parameters'\n",
      "C:\\Users\\david\\anaconda3\\envs\\SDA\\Lib\\site-packages\\statsmodels\\tsa\\statespace\\sarimax.py:978: UserWarning: Non-invertible starting MA parameters found. Using zeros as starting parameters.\n",
      "  warn('Non-invertible starting MA parameters found.'\n"
     ]
    },
    {
     "name": "stdout",
     "output_type": "stream",
     "text": [
      "NOVNVX, NRG, NRUC, NSANY, NSC, NTGYSM, NUE, NVFVES, NVR, NWG, NWIDE, OC, ODGR, OKE, OMC, ORAFP, ORCL, ORIX, ORSTED, PAA, PEAK, PEMEX, PEP, PETBRA, PETMK, PEUGOT, PFE, PG, PGR, PHIANA, PHM, PKG, PM, PNC, POHANG, PPG, "
     ]
    },
    {
     "name": "stderr",
     "output_type": "stream",
     "text": [
      "C:\\Users\\david\\anaconda3\\envs\\SDA\\Lib\\site-packages\\statsmodels\\tsa\\statespace\\sarimax.py:966: UserWarning: Non-stationary starting autoregressive parameters found. Using zeros as starting parameters.\n",
      "  warn('Non-stationary starting autoregressive parameters'\n",
      "C:\\Users\\david\\anaconda3\\envs\\SDA\\Lib\\site-packages\\statsmodels\\tsa\\statespace\\sarimax.py:978: UserWarning: Non-invertible starting MA parameters found. Using zeros as starting parameters.\n",
      "  warn('Non-invertible starting MA parameters found.'\n"
     ]
    },
    {
     "name": "stdout",
     "output_type": "stream",
     "text": [
      "PROXBB, PRU, PRUFIN, PSMGR, PUBFP, PXD, QBEAU, R, RABOBK, RBIAV, RBOSGR, RCICN, RDSALN, REESM, REG, RELLN, RENAUL, "
     ]
    },
    {
     "name": "stderr",
     "output_type": "stream",
     "text": [
      "C:\\Users\\david\\anaconda3\\envs\\SDA\\Lib\\site-packages\\statsmodels\\base\\model.py:607: ConvergenceWarning: Maximum Likelihood optimization failed to converge. Check mle_retvals\n",
      "  warnings.warn(\"Maximum Likelihood optimization failed to \"\n"
     ]
    },
    {
     "name": "stdout",
     "output_type": "stream",
     "text": [
      "REPSM, RIFP, RILIN, RL, "
     ]
    },
    {
     "name": "stderr",
     "output_type": "stream",
     "text": [
      "C:\\Users\\david\\anaconda3\\envs\\SDA\\Lib\\site-packages\\statsmodels\\tsa\\statespace\\sarimax.py:966: UserWarning: Non-stationary starting autoregressive parameters found. Using zeros as starting parameters.\n",
      "  warn('Non-stationary starting autoregressive parameters'\n",
      "C:\\Users\\david\\anaconda3\\envs\\SDA\\Lib\\site-packages\\statsmodels\\tsa\\statespace\\sarimax.py:978: UserWarning: Non-invertible starting MA parameters found. Using zeros as starting parameters.\n",
      "  warn('Non-invertible starting MA parameters found.'\n"
     ]
    },
    {
     "name": "stdout",
     "output_type": "stream",
     "text": [
      "ROSNRM, RSG, RTOLN, RTX, RWE, RXLFP, SABIC, SABSM, SAMBA, SANFP, SANSCF, SANTAN, SANUK, SANUSA, SAPSJ, SBERRU, SBIIN, SCANIA, SCBGER, SCBNOR, SCMNVX, SCOR, SDFGR, "
     ]
    },
    {
     "name": "stderr",
     "output_type": "stream",
     "text": [
      "C:\\Users\\david\\anaconda3\\envs\\SDA\\Lib\\site-packages\\statsmodels\\tsa\\statespace\\sarimax.py:966: UserWarning: Non-stationary starting autoregressive parameters found. Using zeros as starting parameters.\n",
      "  warn('Non-stationary starting autoregressive parameters'\n",
      "C:\\Users\\david\\anaconda3\\envs\\SDA\\Lib\\site-packages\\statsmodels\\tsa\\statespace\\sarimax.py:978: UserWarning: Non-invertible starting MA parameters found. Using zeros as starting parameters.\n",
      "  warn('Non-invertible starting MA parameters found.'\n"
     ]
    },
    {
     "name": "stdout",
     "output_type": "stream",
     "text": [
      "SEB, SEE, SESGFP, "
     ]
    },
    {
     "name": "stderr",
     "output_type": "stream",
     "text": [
      "C:\\Users\\david\\anaconda3\\envs\\SDA\\Lib\\site-packages\\statsmodels\\base\\model.py:607: ConvergenceWarning: Maximum Likelihood optimization failed to converge. Check mle_retvals\n",
      "  warnings.warn(\"Maximum Likelihood optimization failed to \"\n"
     ]
    },
    {
     "name": "stdout",
     "output_type": "stream",
     "text": [
      "SFD, SFRFP, SGOFP, "
     ]
    },
    {
     "name": "stderr",
     "output_type": "stream",
     "text": [
      "C:\\Users\\david\\anaconda3\\envs\\SDA\\Lib\\site-packages\\statsmodels\\tsa\\statespace\\sarimax.py:966: UserWarning: Non-stationary starting autoregressive parameters found. Using zeros as starting parameters.\n",
      "  warn('Non-stationary starting autoregressive parameters'\n",
      "C:\\Users\\david\\anaconda3\\envs\\SDA\\Lib\\site-packages\\statsmodels\\tsa\\statespace\\sarimax.py:978: UserWarning: Non-invertible starting MA parameters found. Using zeros as starting parameters.\n",
      "  warn('Non-invertible starting MA parameters found.'\n"
     ]
    },
    {
     "name": "stdout",
     "output_type": "stream",
     "text": [
      "SGTOPT, "
     ]
    },
    {
     "name": "stderr",
     "output_type": "stream",
     "text": [
      "C:\\Users\\david\\anaconda3\\envs\\SDA\\Lib\\site-packages\\statsmodels\\tsa\\statespace\\sarimax.py:966: UserWarning: Non-stationary starting autoregressive parameters found. Using zeros as starting parameters.\n",
      "  warn('Non-stationary starting autoregressive parameters'\n",
      "C:\\Users\\david\\anaconda3\\envs\\SDA\\Lib\\site-packages\\statsmodels\\tsa\\statespace\\sarimax.py:978: UserWarning: Non-invertible starting MA parameters found. Using zeros as starting parameters.\n",
      "  warn('Non-invertible starting MA parameters found.'\n"
     ]
    },
    {
     "name": "stdout",
     "output_type": "stream",
     "text": [
      "SHBASS, "
     ]
    },
    {
     "name": "stderr",
     "output_type": "stream",
     "text": [
      "C:\\Users\\david\\anaconda3\\envs\\SDA\\Lib\\site-packages\\statsmodels\\tsa\\statespace\\sarimax.py:966: UserWarning: Non-stationary starting autoregressive parameters found. Using zeros as starting parameters.\n",
      "  warn('Non-stationary starting autoregressive parameters'\n",
      "C:\\Users\\david\\anaconda3\\envs\\SDA\\Lib\\site-packages\\statsmodels\\tsa\\statespace\\sarimax.py:978: UserWarning: Non-invertible starting MA parameters found. Using zeros as starting parameters.\n",
      "  warn('Non-invertible starting MA parameters found.'\n"
     ]
    },
    {
     "name": "stdout",
     "output_type": "stream",
     "text": [
      "SHIMAO, SHNHAN, SHW, SIBNEF, "
     ]
    },
    {
     "name": "stderr",
     "output_type": "stream",
     "text": [
      "C:\\Users\\david\\anaconda3\\envs\\SDA\\Lib\\site-packages\\statsmodels\\base\\model.py:607: ConvergenceWarning: Maximum Likelihood optimization failed to converge. Check mle_retvals\n",
      "  warnings.warn(\"Maximum Likelihood optimization failed to \"\n"
     ]
    },
    {
     "name": "stdout",
     "output_type": "stream",
     "text": [
      "SIEGR, SJNKI, SKENER, SKM, SLB, SLG, SMINLN, SO, "
     ]
    },
    {
     "name": "stderr",
     "output_type": "stream",
     "text": [
      "C:\\Users\\david\\anaconda3\\envs\\SDA\\Lib\\site-packages\\statsmodels\\tsa\\statespace\\sarimax.py:966: UserWarning: Non-stationary starting autoregressive parameters found. Using zeros as starting parameters.\n",
      "  warn('Non-stationary starting autoregressive parameters'\n",
      "C:\\Users\\david\\anaconda3\\envs\\SDA\\Lib\\site-packages\\statsmodels\\tsa\\statespace\\sarimax.py:978: UserWarning: Non-invertible starting MA parameters found. Using zeros as starting parameters.\n",
      "  warn('Non-invertible starting MA parameters found.'\n"
     ]
    },
    {
     "name": "stdout",
     "output_type": "stream",
     "text": [
      "SOCGEN, SOFTBK, SOLBBB, "
     ]
    },
    {
     "name": "stderr",
     "output_type": "stream",
     "text": [
      "C:\\Users\\david\\anaconda3\\envs\\SDA\\Lib\\site-packages\\statsmodels\\base\\model.py:607: ConvergenceWarning: Maximum Likelihood optimization failed to converge. Check mle_retvals\n",
      "  warnings.warn(\"Maximum Likelihood optimization failed to \"\n"
     ]
    },
    {
     "name": "stdout",
     "output_type": "stream",
     "text": [
      "SPGI, SRE, "
     ]
    },
    {
     "name": "stderr",
     "output_type": "stream",
     "text": [
      "C:\\Users\\david\\anaconda3\\envs\\SDA\\Lib\\site-packages\\statsmodels\\base\\model.py:607: ConvergenceWarning: Maximum Likelihood optimization failed to converge. Check mle_retvals\n",
      "  warnings.warn(\"Maximum Likelihood optimization failed to \"\n"
     ]
    },
    {
     "name": "stdout",
     "output_type": "stream",
     "text": [
      "SSELN, STANLN, "
     ]
    },
    {
     "name": "stderr",
     "output_type": "stream",
     "text": [
      "C:\\Users\\david\\anaconda3\\envs\\SDA\\Lib\\site-packages\\statsmodels\\base\\model.py:607: ConvergenceWarning: Maximum Likelihood optimization failed to converge. Check mle_retvals\n",
      "  warnings.warn(\"Maximum Likelihood optimization failed to \"\n",
      "C:\\Users\\david\\anaconda3\\envs\\SDA\\Lib\\site-packages\\statsmodels\\tsa\\statespace\\sarimax.py:966: UserWarning: Non-stationary starting autoregressive parameters found. Using zeros as starting parameters.\n",
      "  warn('Non-stationary starting autoregressive parameters'\n",
      "C:\\Users\\david\\anaconda3\\envs\\SDA\\Lib\\site-packages\\statsmodels\\tsa\\statespace\\sarimax.py:978: UserWarning: Non-invertible starting MA parameters found. Using zeros as starting parameters.\n",
      "  warn('Non-invertible starting MA parameters found.'\n"
     ]
    },
    {
     "name": "stdout",
     "output_type": "stream",
     "text": [
      "STEDIN, STENA, STERV, STLA, STSP, STYRO, STZ, SUCN, SUFP, SUMI, SUMIFL, "
     ]
    },
    {
     "name": "stderr",
     "output_type": "stream",
     "text": [
      "C:\\Users\\david\\anaconda3\\envs\\SDA\\Lib\\site-packages\\statsmodels\\base\\model.py:607: ConvergenceWarning: Maximum Likelihood optimization failed to converge. Check mle_retvals\n",
      "  warnings.warn(\"Maximum Likelihood optimization failed to \"\n"
     ]
    },
    {
     "name": "stdout",
     "output_type": "stream",
     "text": [
      "SUNAU, SUNHUN, SWEDA, "
     ]
    },
    {
     "name": "stderr",
     "output_type": "stream",
     "text": [
      "C:\\Users\\david\\anaconda3\\envs\\SDA\\Lib\\site-packages\\statsmodels\\tsa\\statespace\\sarimax.py:966: UserWarning: Non-stationary starting autoregressive parameters found. Using zeros as starting parameters.\n",
      "  warn('Non-stationary starting autoregressive parameters'\n",
      "C:\\Users\\david\\anaconda3\\envs\\SDA\\Lib\\site-packages\\statsmodels\\tsa\\statespace\\sarimax.py:978: UserWarning: Non-invertible starting MA parameters found. Using zeros as starting parameters.\n",
      "  warn('Non-invertible starting MA parameters found.'\n"
     ]
    },
    {
     "name": "stdout",
     "output_type": "stream",
     "text": [
      "SWFP, SWIRE, SWK, SYNNVX, SYY, SZUGR, T, TAP, TCKBCN, TCN, TD, TDCDC, TELEFO, TELIAS, "
     ]
    },
    {
     "name": "stderr",
     "output_type": "stream",
     "text": [
      "C:\\Users\\david\\anaconda3\\envs\\SDA\\Lib\\site-packages\\statsmodels\\tsa\\statespace\\sarimax.py:966: UserWarning: Non-stationary starting autoregressive parameters found. Using zeros as starting parameters.\n",
      "  warn('Non-stationary starting autoregressive parameters'\n",
      "C:\\Users\\david\\anaconda3\\envs\\SDA\\Lib\\site-packages\\statsmodels\\tsa\\statespace\\sarimax.py:978: UserWarning: Non-invertible starting MA parameters found. Using zeros as starting parameters.\n",
      "  warn('Non-invertible starting MA parameters found.'\n"
     ]
    },
    {
     "name": "stdout",
     "output_type": "stream",
     "text": [
      "TELNO, TELVIS, "
     ]
    },
    {
     "name": "stderr",
     "output_type": "stream",
     "text": [
      "C:\\Users\\david\\anaconda3\\envs\\SDA\\Lib\\site-packages\\statsmodels\\tsa\\statespace\\sarimax.py:966: UserWarning: Non-stationary starting autoregressive parameters found. Using zeros as starting parameters.\n",
      "  warn('Non-stationary starting autoregressive parameters'\n",
      "C:\\Users\\david\\anaconda3\\envs\\SDA\\Lib\\site-packages\\statsmodels\\tsa\\statespace\\sarimax.py:978: UserWarning: Non-invertible starting MA parameters found. Using zeros as starting parameters.\n",
      "  warn('Non-invertible starting MA parameters found.'\n"
     ]
    },
    {
     "name": "stdout",
     "output_type": "stream",
     "text": [
      "TEVA, TGT, TITIM, TJX, TKAAV, TKAGR, TLSAU, "
     ]
    },
    {
     "name": "stderr",
     "output_type": "stream",
     "text": [
      "C:\\Users\\david\\anaconda3\\envs\\SDA\\Lib\\site-packages\\statsmodels\\tsa\\statespace\\sarimax.py:966: UserWarning: Non-stationary starting autoregressive parameters found. Using zeros as starting parameters.\n",
      "  warn('Non-stationary starting autoregressive parameters'\n",
      "C:\\Users\\david\\anaconda3\\envs\\SDA\\Lib\\site-packages\\statsmodels\\tsa\\statespace\\sarimax.py:978: UserWarning: Non-invertible starting MA parameters found. Using zeros as starting parameters.\n",
      "  warn('Non-invertible starting MA parameters found.'\n"
     ]
    },
    {
     "name": "stdout",
     "output_type": "stream",
     "text": [
      "TOTAL, "
     ]
    },
    {
     "name": "stderr",
     "output_type": "stream",
     "text": [
      "C:\\Users\\david\\anaconda3\\envs\\SDA\\Lib\\site-packages\\statsmodels\\base\\model.py:607: ConvergenceWarning: Maximum Likelihood optimization failed to converge. Check mle_retvals\n",
      "  warnings.warn(\"Maximum Likelihood optimization failed to \"\n"
     ]
    },
    {
     "name": "stdout",
     "output_type": "stream",
     "text": [
      "TOYOTA, TRICN, TRV, TSCOLN, TSN, TT, TTEFP, "
     ]
    },
    {
     "name": "stderr",
     "output_type": "stream",
     "text": [
      "C:\\Users\\david\\anaconda3\\envs\\SDA\\Lib\\site-packages\\statsmodels\\base\\model.py:607: ConvergenceWarning: Maximum Likelihood optimization failed to converge. Check mle_retvals\n",
      "  warnings.warn(\"Maximum Likelihood optimization failed to \"\n"
     ]
    },
    {
     "name": "stdout",
     "output_type": "stream",
     "text": [
      "TTMTIN, TXN, "
     ]
    },
    {
     "name": "stderr",
     "output_type": "stream",
     "text": [
      "C:\\Users\\david\\anaconda3\\envs\\SDA\\Lib\\site-packages\\statsmodels\\base\\model.py:607: ConvergenceWarning: Maximum Likelihood optimization failed to converge. Check mle_retvals\n",
      "  warnings.warn(\"Maximum Likelihood optimization failed to \"\n"
     ]
    },
    {
     "name": "stdout",
     "output_type": "stream",
     "text": [
      "TXT, UBIIM, UCGIM, UDR, UHS, ULFP, "
     ]
    },
    {
     "name": "stderr",
     "output_type": "stream",
     "text": [
      "C:\\Users\\david\\anaconda3\\envs\\SDA\\Lib\\site-packages\\statsmodels\\base\\model.py:607: ConvergenceWarning: Maximum Likelihood optimization failed to converge. Check mle_retvals\n",
      "  warnings.warn(\"Maximum Likelihood optimization failed to \"\n",
      "C:\\Users\\david\\anaconda3\\envs\\SDA\\Lib\\site-packages\\statsmodels\\tsa\\statespace\\sarimax.py:966: UserWarning: Non-stationary starting autoregressive parameters found. Using zeros as starting parameters.\n",
      "  warn('Non-stationary starting autoregressive parameters'\n",
      "C:\\Users\\david\\anaconda3\\envs\\SDA\\Lib\\site-packages\\statsmodels\\tsa\\statespace\\sarimax.py:978: UserWarning: Non-invertible starting MA parameters found. Using zeros as starting parameters.\n",
      "  warn('Non-invertible starting MA parameters found.'\n"
     ]
    },
    {
     "name": "stdout",
     "output_type": "stream",
     "text": [
      "UNBC, UNH, UNIIM, UNILAB, UNM, UNP, UPCB, "
     ]
    },
    {
     "name": "stderr",
     "output_type": "stream",
     "text": [
      "C:\\Users\\david\\anaconda3\\envs\\SDA\\Lib\\site-packages\\statsmodels\\tsa\\statespace\\sarimax.py:966: UserWarning: Non-stationary starting autoregressive parameters found. Using zeros as starting parameters.\n",
      "  warn('Non-stationary starting autoregressive parameters'\n",
      "C:\\Users\\david\\anaconda3\\envs\\SDA\\Lib\\site-packages\\statsmodels\\tsa\\statespace\\sarimax.py:978: UserWarning: Non-invertible starting MA parameters found. Using zeros as starting parameters.\n",
      "  warn('Non-invertible starting MA parameters found.'\n"
     ]
    },
    {
     "name": "stdout",
     "output_type": "stream",
     "text": [
      "UPMFH, UPS, URI, USB, UU, VALEBZ, VATFAL, VERAV, VFC, "
     ]
    },
    {
     "name": "stderr",
     "output_type": "stream",
     "text": [
      "C:\\Users\\david\\anaconda3\\envs\\SDA\\Lib\\site-packages\\statsmodels\\base\\model.py:607: ConvergenceWarning: Maximum Likelihood optimization failed to converge. Check mle_retvals\n",
      "  warnings.warn(\"Maximum Likelihood optimization failed to \"\n",
      "C:\\Users\\david\\anaconda3\\envs\\SDA\\Lib\\site-packages\\statsmodels\\tsa\\statespace\\sarimax.py:966: UserWarning: Non-stationary starting autoregressive parameters found. Using zeros as starting parameters.\n",
      "  warn('Non-stationary starting autoregressive parameters'\n",
      "C:\\Users\\david\\anaconda3\\envs\\SDA\\Lib\\site-packages\\statsmodels\\tsa\\statespace\\sarimax.py:978: UserWarning: Non-invertible starting MA parameters found. Using zeros as starting parameters.\n",
      "  warn('Non-invertible starting MA parameters found.'\n"
     ]
    },
    {
     "name": "stdout",
     "output_type": "stream",
     "text": [
      "VIAC, VIEFP, VIVFP, VLO, VLVY, VMC, VOD, VW, VZ, WEC, WELL, "
     ]
    },
    {
     "name": "stderr",
     "output_type": "stream",
     "text": [
      "C:\\Users\\david\\anaconda3\\envs\\SDA\\Lib\\site-packages\\statsmodels\\tsa\\statespace\\sarimax.py:966: UserWarning: Non-stationary starting autoregressive parameters found. Using zeros as starting parameters.\n",
      "  warn('Non-stationary starting autoregressive parameters'\n",
      "C:\\Users\\david\\anaconda3\\envs\\SDA\\Lib\\site-packages\\statsmodels\\tsa\\statespace\\sarimax.py:978: UserWarning: Non-invertible starting MA parameters found. Using zeros as starting parameters.\n",
      "  warn('Non-invertible starting MA parameters found.'\n"
     ]
    },
    {
     "name": "stdout",
     "output_type": "stream",
     "text": [
      "WESAU, "
     ]
    },
    {
     "name": "stderr",
     "output_type": "stream",
     "text": [
      "C:\\Users\\david\\anaconda3\\envs\\SDA\\Lib\\site-packages\\statsmodels\\tsa\\statespace\\sarimax.py:966: UserWarning: Non-stationary starting autoregressive parameters found. Using zeros as starting parameters.\n",
      "  warn('Non-stationary starting autoregressive parameters'\n",
      "C:\\Users\\david\\anaconda3\\envs\\SDA\\Lib\\site-packages\\statsmodels\\tsa\\statespace\\sarimax.py:978: UserWarning: Non-invertible starting MA parameters found. Using zeros as starting parameters.\n",
      "  warn('Non-invertible starting MA parameters found.'\n"
     ]
    },
    {
     "name": "stdout",
     "output_type": "stream",
     "text": [
      "WFC, WHR, WKLNA, WM, "
     ]
    },
    {
     "name": "stderr",
     "output_type": "stream",
     "text": [
      "C:\\Users\\david\\anaconda3\\envs\\SDA\\Lib\\site-packages\\statsmodels\\base\\model.py:607: ConvergenceWarning: Maximum Likelihood optimization failed to converge. Check mle_retvals\n",
      "  warnings.warn(\"Maximum Likelihood optimization failed to \"\n"
     ]
    },
    {
     "name": "stdout",
     "output_type": "stream",
     "text": [
      "WMB, WMT, "
     ]
    },
    {
     "name": "stderr",
     "output_type": "stream",
     "text": [
      "C:\\Users\\david\\anaconda3\\envs\\SDA\\Lib\\site-packages\\statsmodels\\tsa\\statespace\\sarimax.py:978: UserWarning: Non-invertible starting MA parameters found. Using zeros as starting parameters.\n",
      "  warn('Non-invertible starting MA parameters found.'\n"
     ]
    },
    {
     "name": "stdout",
     "output_type": "stream",
     "text": [
      "WOORIB, WPLAU, WSTP, WU, WY, XL, XOM, "
     ]
    }
   ],
   "source": [
    "from sklearn.metrics import mean_squared_error\n",
    "\n",
    "RMSE_dict = dict()\n",
    "for tick, DF in ticks_DF_dict.items():\n",
    "    print(tick, end=', ')\n",
    "    temp_frame = SimpleARIMA(DF, 2020, \"PX1\", order = order_dict[tick], plot=False)\n",
    "    rmse = np.sqrt(mean_squared_error(temp_frame['mean'], temp_frame['actual']))\n",
    "    RMSE_dict[tick] = rmse"
   ]
  },
  {
   "cell_type": "code",
   "execution_count": 61,
   "id": "244a95e4-e5be-4954-abd8-a365b73e3ae7",
   "metadata": {
    "scrolled": true
   },
   "outputs": [
    {
     "name": "stdout",
     "output_type": "stream",
     "text": [
      "A 56.95306782026479\n",
      "AALLN 38.92933569317075\n",
      "AAPL 3.7591701062301084\n",
      "ABC 1.750491960416859\n",
      "ABESM 29.30104821082763\n",
      "ABIBB 22.46899408410628\n",
      "ABT 3.0051165861298523\n",
      "ABXCN 2.2573747370580164\n",
      "ACAFP 10.355155445881836\n",
      "ACEIM 22.153949897334662\n",
      "ACFP 90.41121788848484\n",
      "ADENVX 4.6855867417504475\n",
      "ADM 2.4871575706629563\n",
      "ADNA 3.3621258416251565\n",
      "ADP 2.3883314939977494\n",
      "ADSGR 5.7538227085601825\n",
      "AEGON 17.9962704702531\n",
      "AES 37.51654526197404\n",
      "AET 3.577076509615585\n",
      "AFG 44.77116722052896\n",
      "AGSBB 2.3114146897990215\n",
      "AIFP 2.619323786475614\n",
      "AIG 10.811071166367936\n",
      "AIRFP 58.44433120660983\n",
      "AKZANA 6.728062915519199\n",
      "ALL 2.3609042811203604\n",
      "ALLRNV 11.608512011555321\n",
      "ALLY 69.52756485006651\n",
      "ALOFP 4.306469744830166\n",
      "ALVGR 6.927209082596513\n",
      "AMAT 4.465716997201654\n",
      "AMGN 3.0598627514911048\n",
      "AMT 8.886145018886392\n",
      "AMXLMM 47.67828308048819\n",
      "AN 31.147406238863745\n",
      "ANGSJ 80.80897037515848\n",
      "ANTM 4.859110045931883\n",
      "ANZ 8.683117782978377\n",
      "APD 0.9559875934382674\n",
      "ARW 4.288292852004465\n",
      "ASSABS 1.7653945034879992\n",
      "ASSGEN 26.503955897432622\n",
      "ATCOA 11.93295366073304\n",
      "ATLIM 158.54136910979796\n",
      "AUCHAN 19.724191830121327\n",
      "AVB 5.338494011490993\n",
      "AVLN 13.889118048596988\n",
      "AVT 4.683908585912356\n",
      "AVY 15.00153422672744\n",
      "AXASA 9.432001390788685\n",
      "AXP 5.373684511466775\n",
      "AZN 2.1092959243221463\n",
      "AZO 3.7142470052222807\n",
      "BA 245.72677205053228\n",
      "BAC 28.646440427469262\n",
      "BACRED 48.588854606836655\n",
      "BALN 8.24274352921386\n",
      "BAMACN 14.992930912084141\n",
      "BASGR 6.591340172911446\n",
      "BATSLN 12.473023269313341\n",
      "BAX 2.81110850523473\n",
      "BAYNGR 9.496199751878532\n",
      "BBDBCN 1846.647718858478\n",
      "BBVAR 14.542708699687122\n",
      "BBVASM 14.542708699687122\n",
      "BBY 24.331375529299873\n",
      "BCECN 8.294524101178933\n",
      "BCHINA 7.33810888565631\n",
      "BCJAF 18.518359441123618\n",
      "BCPPL 63.302079660004104\n",
      "BDX 7.439470016817379\n",
      "BERTEL 6.547261235666409\n",
      "BFCM 6.091084137237104\n",
      "BHI 49.554257015898145\n",
      "BK 7.367070362411137\n",
      "BKIASM 22.50095531268228\n",
      "BKIR 4.494790568591611\n",
      "BKTSM 29.796897705532682\n",
      "BLL 22.468087847780744\n",
      "BMW 21.692811269335305\n",
      "BMY 2.9318346234414436\n",
      "BNFP 2.789889149871386\n",
      "BNFPL 16.451570598615238\n",
      "BNKEA 11.7953608448475\n",
      "BNP 15.843748004256014\n",
      "BPLN 25.00159773331622\n",
      "BRK 2.199224153243961\n",
      "BSX 2.7233390073562007\n",
      "BWA 16.057236200405434\n",
      "BYLAN 6.466805209846195\n",
      "C 35.701026098109345\n",
      "CAFP 6.809281459637638\n",
      "CAG 4.6225127343123225\n",
      "CAH 8.612041135889697\n",
      "CAPFP 4.965939376736979\n",
      "CAR 1043.6631044364487\n",
      "CARGIL 3.016368303614353\n",
      "CAT 4.449351132279608\n",
      "CB 2.131974432738366\n",
      "CBAAU 9.938471705993585\n",
      "CCI 10.917506316819013\n",
      "CDBLFD 9.098327029414559\n",
      "CDEL 37.881283063291576\n",
      "CECGR 47.305159185091746\n",
      "CHMFRU 37.37027668414308\n",
      "CI 2.200113781187645\n",
      "CITNAT 5.6498813673960315\n",
      "CITOH 4.087625453579416\n",
      "CL 2.500427881264045\n",
      "CLX 2.1556134794417985\n",
      "CMACG 1030.3580503469886\n",
      "CMCSA 2.2854045527388434\n",
      "CMI 2.020014275233634\n",
      "CMZB 18.646692063736204\n",
      "CNALN 19.477274701030915\n",
      "CNHI 27.635100043882094\n",
      "CNOOC 3.79254216231205\n",
      "CNP 2.8611401486836843\n",
      "CNQCN 53.74140655073197\n",
      "CNRCN 1.4379089373477258\n",
      "CNUNZ 10.212911740267183\n",
      "COF 14.323227013642208\n",
      "COFP 445.1884390500999\n",
      "COMQAT 64.75532268394181\n",
      "CONGR 27.614987306007308\n",
      "COP 24.918739350100925\n",
      "COST 0.8626642724367491\n",
      "COXENT 3.142928366874876\n",
      "CPB 2.5585276344426435\n",
      "CPGLN 9.586611988772802\n",
      "CPT 10.626076588829484\n",
      "CS 24.562941827061938\n",
      "CSCO 1.6927505453930218\n",
      "CSX 3.5611820343422447\n",
      "CTVA 3.6861290107111557\n",
      "CVS 5.368101982577305\n",
      "CVX 10.793964852225885\n",
      "CXGD 29.990610583923104\n",
      "D 3.9399943905572963\n",
      "DAIGR 25.669322686993667\n",
      "DAIWA 5.030757528835865\n",
      "DAL 542.7588164701813\n",
      "DANBNK 6.842439955257447\n",
      "DB 41.882442618721875\n",
      "DBOERS 9.918258070160189\n",
      "DE 4.133904425425882\n",
      "DEPFA 30.679582770013234\n",
      "DEVOBA 12.865827358332906\n",
      "DGELN 3.7612543837492365\n",
      "DGFP 6.501287790921983\n",
      "DGX 2.6572181181385957\n",
      "DHI 10.769842276896203\n",
      "DHR 26.264842152278568\n",
      "DOV 4.295121725315225\n",
      "DOW 18.443313772481552\n",
      "DPWDU 104.56810020225537\n",
      "DPWGR 4.2269212266085825\n",
      "DRI 35.1955635797827\n",
      "DSM 2.0935871980228553\n",
      "DT 3.4132573546072225\n",
      "DVN 102.55307850045804\n",
      "DXC 12.531225715809601\n",
      "DZBK 9.925866032737307\n",
      "EBIUH 125.99007339814997\n",
      "ED 1.989758955017696\n",
      "EDF 5.3296656906731465\n",
      "EDPPL 2.9948055097423887\n",
      "EIBKOR 6.079103845183239\n",
      "EMN 7.888419007619488\n",
      "ENBCN 51.19846810827961\n",
      "ENBW 2.1424439534543627\n",
      "ENELIM 6.506887851796322\n",
      "ENFP 5.482456813638138\n",
      "ENGALL 6.691221690819026\n",
      "ENGIFP 5.522505822553201\n",
      "ENIIM 21.09860338565565\n",
      "EOANGR 2.6490983019865055\n",
      "EOG 3.2901944315961775\n",
      "EQNR 9.416322744223113\n",
      "ERICB 6.9585517293773025\n",
      "ERSTBK 16.51317480186936\n",
      "ETEGA 119.74162538156276\n",
      "ETN 2.546381638323279\n",
      "ETR 2.959961320747256\n",
      "EVKGR 11.388648280373522\n",
      "EWE 12.689306178325133\n",
      "EXPE 105.52752686583374\n",
      "F 426.6524898797989\n",
      "FABUH 34.78658681416242\n",
      "FCAIM 176.2067502735139\n",
      "FDX 5.9453477305667795\n",
      "FFHCN 4.237307837270015\n",
      "FREGR 9.196326610866997\n",
      "FRFP 89.95942541323821\n",
      "FRT 23.83568699131193\n",
      "FTI 118.62145889900633\n",
      "FUMVFH 7.731225421558248\n",
      "GALPPL 24.21013859527696\n",
      "GAZPRU 65.97830438335396\n",
      "GD 4.429583814667648\n",
      "GE 78.52638910329098\n",
      "GFCFP 21.58005649478629\n",
      "GIS 2.0358935513517116\n",
      "GLW 6.393831046473455\n",
      "GM 130.58914182427526\n",
      "GMGAU 8.695383800783716\n",
      "GMT 11.568965969408323\n",
      "GP 2.529696869460533\n",
      "GS 35.82597199689842\n",
      "GSK 2.687911924951729\n",
      "GT 152.33113988904407\n",
      "HAL 70.9693275471746\n",
      "HAS 4.311070667539981\n",
      "HCOB 16.46457502897255\n",
      "HD 2.7663166961575976\n",
      "HEIANA 3.37361549767059\n",
      "HEIGR 21.040604657259582\n",
      "HENKEL 2.4409836340688202\n",
      "HES 111.01552134356011\n",
      "HESLAN 13.591099389731896\n",
      "HIG 3.4954820506052835\n",
      "HMSOLN 224.073349092709\n",
      "HNDA 3.856762523643195\n",
      "HOFP 6.886856386046024\n",
      "HON 2.7230118094988254\n",
      "HOTGR 13.521397631963032\n",
      "HPQ 3.1562659174238936\n",
      "HSBC 15.686199499660313\n",
      "HSECN 5.876318064640072\n",
      "HSY 4.3339655163432695\n",
      "HTOGA 13.518511118745376\n",
      "HUM 3.671903580619161\n",
      "HYNMTR 4.307108924628452\n",
      "HYSAN 8.11531835499657\n",
      "HYUELE 19.11402213626213\n",
      "IAGLN 378.8258848886443\n",
      "IBESM 5.124446907994901\n",
      "IBM 2.339694794796478\n",
      "ICICI 24.396357877629168\n",
      "IMBLN 6.606941453890949\n",
      "INDKOR 3.581147274134203\n",
      "INEGRP 99.85145300230141\n",
      "INTC 1.7821293808185277\n",
      "INTNED 12.597640568472007\n",
      "INTU 6.6473445023896955\n",
      "INVSA 2.315631586202451\n",
      "IP 4.480316432056977\n",
      "IPG 4.2768502248447255\n",
      "ISPIM 44.22155647441689\n",
      "ISRELE 45.51949916086365\n",
      "ISSDC 9.477088465585847\n",
      "ITVLN 55.21056693191161\n",
      "ITW 2.6033408972958565\n",
      "JAPTOB 2.8943438880633305\n",
      "JCI 4.065039442560541\n",
      "JNJ 2.4423768322924895\n",
      "JNPR 18.551365894119698\n",
      "JPM 26.400344466262407\n",
      "JWN 234.74162348515569\n",
      "K 7.819771414800927\n",
      "KANSEL 1.3150540664585315\n",
      "KBCBB 5.36652474674364\n",
      "KERFP 3.3414470951133084\n",
      "KIAMTR 4.374232454747682\n",
      "KIM 17.559579216070127\n",
      "KMB 2.1020776774300503\n",
      "KMI 20.19921861247715\n",
      "KO 1.7378161315780245\n",
      "KORELE 5.88993137891117\n",
      "KPN 7.205523307065499\n",
      "KR 2.619089405494446\n",
      "KSS 168.46629571895588\n",
      "L 5.765275286436573\n",
      "LBBW 4.990349711202684\n",
      "LDOIM 40.45918022799553\n",
      "LEN 41.88062115817135\n",
      "LEVI 7.0491488993550835\n",
      "LGEN 11.63074158037881\n",
      "LGFP 13.038539478377892\n",
      "LH 8.874827713403153\n",
      "LHAGR 376.29724290715046\n",
      "LHNVX 13.038539478377892\n",
      "LIFP 64.50269777844449\n",
      "LIFUNG 102.02825010884885\n",
      "LMT 2.542305041397095\n",
      "LNC 7.64689714714403\n",
      "LOUDRE 347.488015593263\n",
      "LOW 4.066133808772849\n",
      "LRFP 2.535710536424601\n",
      "LUKOIL 63.3255975273218\n",
      "LUV 98.51824881586882\n",
      "LXSGR 11.234862799031067\n",
      "MAR 101.68829828783248\n",
      "MARUB 8.406596734005165\n",
      "MAS 12.752895327572782\n",
      "MASQUH 111.83790219388594\n",
      "MATSEL 4.292731606201358\n",
      "MCD 4.091859729860834\n",
      "MCFP 4.379126379382428\n",
      "MCK 5.08731077661986\n",
      "MDC 36.614343214580394\n",
      "MDLZ 2.4282332501274526\n",
      "MET 7.741925465097417\n",
      "METSO 13.648442826617682\n",
      "MHK 21.860654896398803\n",
      "MITCO 3.5058475775612776\n",
      "MLM 6.524713724714948\n",
      "MMBFP 66.58622700114786\n",
      "MMC 2.2860940976094284\n",
      "MMM 3.847950024781495\n",
      "MMP 49.61047598494242\n",
      "MO 3.954461988334777\n",
      "MONTE 94.52010406295875\n",
      "MOS 8.980245744846652\n",
      "MQGAU 8.073748199111005\n",
      "MRK 2.15286471664726\n",
      "MRKGR 2.5829595799642093\n",
      "MRO 75.52977784268334\n",
      "MS 32.63942738433164\n",
      "MSFT 1.9326696810978488\n",
      "MSI 2.638323430081476\n",
      "MTNA 153.03831305236795\n",
      "MUBAUH 33.98608760864706\n",
      "MUV2.DE 6.151023089719887\n",
      "MWDP 15.84309055404718\n",
      "NAB 5.0403044980738025\n",
      "NBL 65.95857605795618\n",
      "NDASS 4.956965473846744\n",
      "NDB 26.46849512114534\n",
      "NEE 2.920120971384419\n",
      "NEM 2.8458909161248678\n",
      "NESNVX 2.5685298923881197\n",
      "NGGLN 1.514525080097479\n",
      "NKE 9.264953127998236\n",
      "NNGRNV 7.078485613066138\n",
      "NOC 2.4048786301002103\n",
      "NOKIA 11.334787605052258\n",
      "NOMURA 5.018340152019793\n",
      "NOVBNC 77.97231038075763\n",
      "NOVNVX 1.4901912145916605\n",
      "NRG 34.80580971460589\n",
      "NRUC 3.2963991697485935\n",
      "NSANY 105.2307082553894\n",
      "NSC 3.0261907958738288\n",
      "NTGYSM 5.9887258530075425\n",
      "NUE 2.4407585731713333\n",
      "NVFVES 735.1455058480145\n",
      "NVR 17.14228718229056\n",
      "NWG 19.71456410056742\n",
      "NWIDE 3.9275497777679234\n",
      "OC 27.218534939996893\n",
      "ODGR 19.607343662662803\n",
      "OKE 50.986507743174506\n",
      "OMC 5.052893610788553\n",
      "ORAFP 4.020750751340515\n",
      "ORCL 5.885853462611564\n",
      "ORIX 3.201516541565267\n",
      "ORSTED 4.2826476384492\n",
      "PAA 94.38021321019426\n",
      "PEAK 4.4028734101972775\n",
      "PEMEX 441.88664633611836\n",
      "PEP 0.9814376015654895\n",
      "PETBRA 177.6339280991291\n",
      "PETMK 14.163622274817353\n",
      "PEUGOT 49.86337097220539\n",
      "PFE 2.406837286685504\n",
      "PG 2.3803187675602904\n",
      "PGR 7.062971295149505\n",
      "PHIANA 1.6962118366362915\n",
      "PHM 37.97064974968942\n",
      "PKG 5.128722972315132\n",
      "PM 1.51985026900782\n",
      "PNC 4.771577284797241\n",
      "POHANG 4.391389660591138\n",
      "PPG 2.8606520322240336\n",
      "PROXBB 8.210133418500646\n",
      "PRU 7.0450437284004135\n",
      "PRUFIN 7.0450437284004135\n",
      "PSMGR 4.742539154337411\n",
      "PUBFP 22.668196844969565\n",
      "PXD 38.53841905511663\n",
      "QBEAU 4.211324549350458\n",
      "R 25.30698026556037\n",
      "RABOBK 5.906184199446057\n",
      "RBIAV 16.53260768083714\n",
      "RBOSGR 0.690320380301434\n",
      "RCICN 3.4616837364417097\n",
      "RDSALN 16.073741516203082\n",
      "REESM 18.6437747244664\n",
      "REG 19.385467076172457\n",
      "RELLN 2.098169828067394\n",
      "RENAUL 94.74846227100292\n",
      "REPSM 25.971149993590373\n",
      "RIFP 3.553454930649931\n",
      "RILIN 22.677619403067457\n",
      "RL 2.5100910331274378\n",
      "ROSNRM 46.18618186634057\n",
      "RSG 4.910420806014057\n",
      "RTOLN 4.911262578385096\n",
      "RTX 1.5464001265258427\n",
      "RWE 3.1653320830088574\n",
      "RXLFP 25.509419628315865\n",
      "SABIC 49.51386906080267\n",
      "SABSM 41.48588821665536\n",
      "SAMBA 51.129647490817725\n",
      "SANFP 3.2325355800520796\n",
      "SANSCF 15.28034244147869\n",
      "SANTAN 15.28034244147869\n",
      "SANUK 15.28034244147869\n",
      "SANUSA 15.28034244147869\n",
      "SAPSJ 75.44766111765317\n",
      "SBERRU 40.00918044559129\n",
      "SBIIN 21.267424153185278\n",
      "SCANIA 31.598026932767677\n",
      "SCBGER 15.28034244147869\n",
      "SCBNOR 15.28034244147869\n",
      "SCMNVX 7.9329457431532875\n",
      "SCOR 5.848602170931378\n",
      "SDFGR 168.46629571895588\n",
      "SEB 7.482933344577191\n",
      "SEE 31.608696361089514\n",
      "SESGFP 15.188942623397155\n",
      "SFD 9.699010484519128\n",
      "SFRFP 28.23606647465048\n",
      "SGOFP 13.070840185618904\n",
      "SGTOPT 4.663480222975988\n",
      "SHBASS 4.939616397012315\n",
      "SHIMAO 154.54288256610886\n",
      "SHNHAN 2.7296525454021143\n",
      "SHW 8.675246379083122\n",
      "SIBNEF 79.11272731282645\n",
      "SIEGR 4.156679184802156\n",
      "SJNKI 3.092929306800591\n",
      "SKENER 38.518489158513255\n",
      "SKM 2.6424210424553247\n",
      "SLB 15.447424164733448\n",
      "SLG 42.6208882570825\n",
      "SMINLN 6.1465683941994085\n",
      "SO 2.4090427333599607\n",
      "SOCGEN 13.20809220930469\n",
      "SOFTBK 110.63573169264103\n",
      "SOLBBB 8.841757249928953\n",
      "SPGI 8.308295728249774\n",
      "SRE 3.116308258757416\n",
      "SSELN 5.981442322006959\n",
      "STANLN 18.86465140344291\n",
      "STEDIN 5.975791454819144\n",
      "STENA 457.3319316585056\n",
      "STERV 12.156605731413283\n",
      "STLA 49.86337097220539\n",
      "STSP 4.053239077659718\n",
      "STYRO 99.85145300230141\n",
      "STZ 43.761637397815754\n",
      "SUCN 22.72047425064518\n",
      "SUFP 6.619230331979741\n",
      "SUMI 3.7180704440010914\n",
      "SUMIFL 4.287315866272664\n",
      "SUNAU 11.134876323289602\n",
      "SUNHUN 7.090244830311985\n",
      "SWEDA 4.250360712868829\n",
      "SWFP 9.026071073616631\n",
      "SWIRE 7.474530990719175\n",
      "SWK 6.62006842014235\n",
      "SYNNVX 38.69959919710004\n",
      "SYY 8.495767913306032\n",
      "SZUGR 17.56295067445683\n",
      "T 58.351322368389454\n",
      "TAP 3.263417013587175\n",
      "TCKBCN 39.46854543781313\n",
      "TCN 3.1337511943900602\n",
      "TD 6.910097769421172\n",
      "TDCDC 21.46008436401742\n",
      "TELEFO 19.607343662662803\n",
      "TELIAS 2.66440712398941\n",
      "TELNO 3.505705255874872\n",
      "TELVIS 56.07098277995909\n",
      "TEVA 95.40330556065106\n",
      "TGT 2.2755226105760387\n",
      "TITIM 76.38291314676053\n",
      "TJX 2.4966341924961037\n",
      "TKAAV 2.0239664471303924\n",
      "TKAGR 93.60408304141116\n",
      "TLSAU 4.428390349379564\n",
      "TOTAL 14.390395296599348\n",
      "TOYOTA 3.006813829008949\n",
      "TRICN 5.8301680996460385\n",
      "TRV 3.7165407025697688\n",
      "TSCOLN 5.062069754919118\n",
      "TSN 4.800622336334989\n",
      "TT 3.0430016635838233\n",
      "TTEFP 14.390395296599348\n",
      "TTMTIN 653.9950447865868\n",
      "TXN 7.500784046687927\n",
      "TXT 14.787596327898001\n",
      "UBIIM 48.71935040895443\n",
      "UCGIM 45.92158211409452\n",
      "UDR 218.09267508267337\n",
      "UHS 12.549773572623925\n",
      "ULFP 65.41988166011096\n",
      "UNBC 5.396328716199977\n",
      "UNH 2.8267683652985807\n",
      "UNIIM 41.2517013557706\n",
      "UNILAB 63.96709690605167\n",
      "UNM 3.8856258645500596\n",
      "UNP 2.7486596439526845\n",
      "UPCB 38.57337864822817\n",
      "UPMFH 6.466055659166753\n",
      "UPS 4.944569242425175\n",
      "URI 36.32021042397434\n",
      "USB 5.618302747328526\n",
      "UU 4.555938904019518\n",
      "VALEBZ 89.95942541323821\n",
      "VATFAL 2.7174893566650424\n",
      "VERAV 5.615000815322176\n",
      "VFC 5.214713120442939\n",
      "VIAC 21.45894171811549\n",
      "VIEFP 4.882760039651882\n",
      "VIVFP 6.684723359894605\n",
      "VLO 19.892606733766527\n",
      "VLVY 10.549414504350407\n",
      "VMC 2.5400255955480406\n",
      "VOD 8.940170553778538\n",
      "VW 34.319672841885335\n",
      "VZ 24.80332823335835\n",
      "WEC 13.067151123480658\n",
      "WELL 12.006959198857443\n",
      "WESAU 5.1646806293782275\n",
      "WFC 35.12917685936506\n",
      "WHR 9.046020196480136\n",
      "WKLNA 4.106117966341378\n",
      "WM 1.2365891764331516\n",
      "WMB 26.992466321234506\n",
      "WMT 1.8752055149364297\n",
      "WOORIB 3.017153242277343\n",
      "WPLAU 15.09744439524351\n",
      "WSTP 5.464829094375952\n",
      "WU 7.451829605235917\n",
      "WY 4.738407261762569\n",
      "XL 2.1960932871517946\n",
      "XOM 6.405876181718865\n"
     ]
    }
   ],
   "source": [
    "for tick, order in RMSE_dict.items():\n",
    "    print(tick, order)"
   ]
  },
  {
   "cell_type": "code",
   "execution_count": 96,
   "id": "8fba6da1-1031-4f0f-afc3-ea26782ce874",
   "metadata": {},
   "outputs": [
    {
     "name": "stdout",
     "output_type": "stream",
     "text": [
      "('BBDBCN', 1846.647718858478)\n"
     ]
    }
   ],
   "source": []
  },
  {
   "cell_type": "code",
   "execution_count": 95,
   "id": "9392789f-5442-4536-ae0f-a8136cab118e",
   "metadata": {},
   "outputs": [
    {
     "data": {
      "text/plain": [
       "{'whiskers': [<matplotlib.lines.Line2D at 0x2408e941730>,\n",
       "  <matplotlib.lines.Line2D at 0x2408e9411c0>],\n",
       " 'caps': [<matplotlib.lines.Line2D at 0x2408e941820>,\n",
       "  <matplotlib.lines.Line2D at 0x2408e941ac0>],\n",
       " 'boxes': [<matplotlib.lines.Line2D at 0x2408e940d40>],\n",
       " 'medians': [<matplotlib.lines.Line2D at 0x2408e941850>],\n",
       " 'fliers': [<matplotlib.lines.Line2D at 0x2408e941940>],\n",
       " 'means': []}"
      ]
     },
     "execution_count": 95,
     "metadata": {},
     "output_type": "execute_result"
    },
    {
     "data": {
      "image/png": "[encoded data removed]",
      "text/plain": [
       "<Figure size 640x480 with 1 Axes>"
      ]
     },
     "metadata": {},
     "output_type": "display_data"
    }
   ],
   "source": [
    "plt.boxplot(RMSE_dict.values())"
   ]
  },
  {
   "cell_type": "code",
   "execution_count": 98,
   "id": "5c695ce8-139c-46b2-bd60-655def29497f",
   "metadata": {},
   "outputs": [
    {
     "name": "stdout",
     "output_type": "stream",
     "text": [
      "('BBDBCN', 1846.647718858478)\n"
     ]
    },
    {
     "data": {
      "image/png": "[encoded data removed]",
      "text/plain": [
       "<Figure size 1200x500 with 1 Axes>"
      ]
     },
     "metadata": {},
     "output_type": "display_data"
    },
    {
     "data": {
      "text/html": [
       "<div>\n",
       "<style scoped>\n",
       "    .dataframe tbody tr th:only-of-type {\n",
       "        vertical-align: middle;\n",
       "    }\n",
       "\n",
       "    .dataframe tbody tr th {\n",
       "        vertical-align: top;\n",
       "    }\n",
       "\n",
       "    .dataframe thead th {\n",
       "        text-align: right;\n",
       "    }\n",
       "</style>\n",
       "<table border=\"1\" class=\"dataframe\">\n",
       "  <thead>\n",
       "    <tr style=\"text-align: right;\">\n",
       "      <th>PX1</th>\n",
       "      <th>mean</th>\n",
       "      <th>mean_se</th>\n",
       "      <th>mean_ci_lower</th>\n",
       "      <th>mean_ci_upper</th>\n",
       "      <th>actual</th>\n",
       "    </tr>\n",
       "  </thead>\n",
       "  <tbody>\n",
       "    <tr>\n",
       "      <th>2020-01-01</th>\n",
       "      <td>202.115791</td>\n",
       "      <td>19.966075</td>\n",
       "      <td>162.983003</td>\n",
       "      <td>241.248580</td>\n",
       "      <td>203.0812</td>\n",
       "    </tr>\n",
       "    <tr>\n",
       "      <th>2020-01-02</th>\n",
       "      <td>202.115791</td>\n",
       "      <td>26.572665</td>\n",
       "      <td>150.034325</td>\n",
       "      <td>254.197258</td>\n",
       "      <td>205.0051</td>\n",
       "    </tr>\n",
       "    <tr>\n",
       "      <th>2020-01-03</th>\n",
       "      <td>202.115791</td>\n",
       "      <td>31.836597</td>\n",
       "      <td>139.717209</td>\n",
       "      <td>264.514374</td>\n",
       "      <td>207.0976</td>\n",
       "    </tr>\n",
       "    <tr>\n",
       "      <th>2020-01-06</th>\n",
       "      <td>202.115791</td>\n",
       "      <td>36.345993</td>\n",
       "      <td>130.878953</td>\n",
       "      <td>273.352630</td>\n",
       "      <td>211.7276</td>\n",
       "    </tr>\n",
       "    <tr>\n",
       "      <th>2020-01-07</th>\n",
       "      <td>202.115791</td>\n",
       "      <td>40.354598</td>\n",
       "      <td>123.022232</td>\n",
       "      <td>281.209351</td>\n",
       "      <td>199.4693</td>\n",
       "    </tr>\n",
       "    <tr>\n",
       "      <th>...</th>\n",
       "      <td>...</td>\n",
       "      <td>...</td>\n",
       "      <td>...</td>\n",
       "      <td>...</td>\n",
       "      <td>...</td>\n",
       "    </tr>\n",
       "    <tr>\n",
       "      <th>2020-12-25</th>\n",
       "      <td>202.115791</td>\n",
       "      <td>281.809280</td>\n",
       "      <td>-350.220248</td>\n",
       "      <td>754.451831</td>\n",
       "      <td>522.9635</td>\n",
       "    </tr>\n",
       "    <tr>\n",
       "      <th>2020-12-28</th>\n",
       "      <td>202.115791</td>\n",
       "      <td>282.354268</td>\n",
       "      <td>-351.288405</td>\n",
       "      <td>755.519988</td>\n",
       "      <td>531.0087</td>\n",
       "    </tr>\n",
       "    <tr>\n",
       "      <th>2020-12-29</th>\n",
       "      <td>202.115791</td>\n",
       "      <td>282.898206</td>\n",
       "      <td>-352.354504</td>\n",
       "      <td>756.586087</td>\n",
       "      <td>503.3038</td>\n",
       "    </tr>\n",
       "    <tr>\n",
       "      <th>2020-12-30</th>\n",
       "      <td>202.115791</td>\n",
       "      <td>283.441100</td>\n",
       "      <td>-353.418557</td>\n",
       "      <td>757.650140</td>\n",
       "      <td>509.7409</td>\n",
       "    </tr>\n",
       "    <tr>\n",
       "      <th>2020-12-31</th>\n",
       "      <td>202.115791</td>\n",
       "      <td>283.982957</td>\n",
       "      <td>-354.480576</td>\n",
       "      <td>758.712159</td>\n",
       "      <td>461.9937</td>\n",
       "    </tr>\n",
       "  </tbody>\n",
       "</table>\n",
       "<p>262 rows × 5 columns</p>\n",
       "</div>"
      ],
      "text/plain": [
       "PX1               mean     mean_se  mean_ci_lower  mean_ci_upper    actual\n",
       "2020-01-01  202.115791   19.966075     162.983003     241.248580  203.0812\n",
       "2020-01-02  202.115791   26.572665     150.034325     254.197258  205.0051\n",
       "2020-01-03  202.115791   31.836597     139.717209     264.514374  207.0976\n",
       "2020-01-06  202.115791   36.345993     130.878953     273.352630  211.7276\n",
       "2020-01-07  202.115791   40.354598     123.022232     281.209351  199.4693\n",
       "...                ...         ...            ...            ...       ...\n",
       "2020-12-25  202.115791  281.809280    -350.220248     754.451831  522.9635\n",
       "2020-12-28  202.115791  282.354268    -351.288405     755.519988  531.0087\n",
       "2020-12-29  202.115791  282.898206    -352.354504     756.586087  503.3038\n",
       "2020-12-30  202.115791  283.441100    -353.418557     757.650140  509.7409\n",
       "2020-12-31  202.115791  283.982957    -354.480576     758.712159  461.9937\n",
       "\n",
       "[262 rows x 5 columns]"
      ]
     },
     "execution_count": 98,
     "metadata": {},
     "output_type": "execute_result"
    }
   ],
   "source": [
    "print(max(RMSE_dict.items(), key=lambda x: x[1]))\n",
    "SimpleARIMA(ticks_DF_dict['BBDBCN'], 2020, \"PX1\", order = order_dict['F'], plot=True)"
   ]
  },
  {
   "cell_type": "markdown",
   "id": "c1b722cb-067e-483f-8f1d-abebebe932d6",
   "metadata": {},
   "source": [
    "### getting fitted parameters to and from a .csv file"
   ]
  },
  {
   "cell_type": "code",
   "execution_count": 74,
   "id": "51759604-1c68-466d-8c3e-90751ed13ffb",
   "metadata": {},
   "outputs": [],
   "source": [
    "#pd.DataFrame.from_dict(data=order_dict, columns=['p', 'd', 'q'], orient='index').to_csv('fitted_params_ARIMA.csv', header=True)"
   ]
  },
  {
   "cell_type": "code",
   "execution_count": 87,
   "id": "ed578626-829f-4378-a6aa-e34eba1b8804",
   "metadata": {
    "scrolled": true
   },
   "outputs": [
    {
     "name": "stdout",
     "output_type": "stream",
     "text": [
      "A (2, 1, 2)\n",
      "AALLN (1, 1, 2)\n",
      "AAPL (1, 1, 1)\n",
      "ABC (3, 1, 2)\n",
      "ABESM (2, 1, 3)\n",
      "ABIBB (0, 1, 0)\n",
      "ABT (1, 1, 1)\n",
      "ABXCN (1, 1, 2)\n",
      "ACAFP (3, 1, 3)\n",
      "ACEIM (2, 1, 1)\n",
      "ACFP (0, 1, 0)\n",
      "ADENVX (1, 1, 2)\n",
      "ADM (0, 1, 1)\n",
      "ADNA (0, 1, 0)\n",
      "ADP (1, 1, 1)\n",
      "ADSGR (3, 1, 3)\n",
      "AEGON (2, 1, 3)\n",
      "AES (3, 1, 3)\n",
      "AET (2, 1, 2)\n",
      "AFG (0, 1, 2)\n",
      "AGSBB (1, 1, 3)\n",
      "AIFP (0, 1, 0)\n",
      "AIG (3, 1, 2)\n",
      "AIRFP (1, 1, 2)\n",
      "AKZANA (3, 1, 2)\n",
      "ALL (2, 1, 1)\n",
      "ALLRNV (2, 1, 2)\n",
      "ALLY (2, 1, 1)\n",
      "ALOFP (2, 1, 2)\n",
      "ALVGR (0, 1, 0)\n",
      "AMAT (0, 1, 1)\n",
      "AMGN (1, 1, 1)\n",
      "AMT (0, 1, 0)\n",
      "AMXLMM (1, 1, 1)\n",
      "AN (1, 1, 1)\n",
      "ANGSJ (2, 1, 3)\n",
      "ANTM (1, 1, 2)\n",
      "ANZ (3, 1, 3)\n",
      "APD (0, 1, 1)\n",
      "ARW (1, 1, 2)\n",
      "ASSABS (1, 1, 0)\n",
      "ASSGEN (0, 1, 0)\n",
      "ATCOA (0, 1, 1)\n",
      "ATLIM (3, 1, 3)\n",
      "AUCHAN (3, 1, 3)\n",
      "AVB (0, 1, 0)\n",
      "AVLN (0, 1, 0)\n",
      "AVT (3, 1, 3)\n",
      "AVY (1, 1, 2)\n",
      "AXASA (0, 1, 0)\n",
      "AXP (3, 1, 3)\n",
      "AZN (2, 1, 0)\n",
      "AZO (1, 1, 2)\n",
      "BA (1, 1, 2)\n",
      "BAC (1, 1, 2)\n",
      "BACRED (2, 1, 3)\n",
      "BALN (0, 1, 0)\n",
      "BAMACN (3, 1, 3)\n",
      "BASGR (0, 1, 3)\n",
      "BATSLN (0, 1, 0)\n",
      "BAX (2, 1, 2)\n",
      "BAYNGR (1, 1, 0)\n",
      "BBDBCN (1, 1, 2)\n",
      "BBVAR (3, 1, 3)\n",
      "BBVASM (3, 1, 3)\n",
      "BBY (3, 1, 3)\n",
      "BCECN (0, 1, 0)\n",
      "BCHINA (0, 1, 0)\n",
      "BCJAF (2, 1, 1)\n",
      "BCPPL (3, 1, 2)\n",
      "BDX (2, 1, 2)\n",
      "BERTEL (1, 1, 0)\n",
      "BFCM (1, 1, 1)\n",
      "BHI (3, 1, 3)\n",
      "BK (3, 1, 3)\n",
      "BKIASM (1, 1, 1)\n",
      "BKIR (2, 1, 1)\n",
      "BKTSM (1, 1, 1)\n",
      "BLL (1, 1, 3)\n",
      "BMW (2, 1, 2)\n",
      "BMY (1, 1, 1)\n",
      "BNFP (2, 1, 0)\n",
      "BNFPL (0, 1, 0)\n",
      "BNKEA (1, 1, 0)\n",
      "BNP (0, 1, 0)\n",
      "BPLN (3, 1, 3)\n",
      "BRK (3, 1, 0)\n",
      "BSX (1, 1, 1)\n",
      "BWA (0, 1, 0)\n",
      "BYLAN (2, 1, 2)\n",
      "C (3, 1, 3)\n",
      "CAFP (0, 1, 0)\n",
      "CAG (1, 1, 2)\n",
      "CAH (3, 1, 3)\n",
      "CAPFP (1, 1, 2)\n",
      "CAR (1, 1, 1)\n",
      "CARGIL (2, 1, 2)\n",
      "CAT (2, 1, 1)\n",
      "CB (1, 1, 1)\n",
      "CBAAU (3, 1, 3)\n",
      "CCI (1, 1, 2)\n",
      "CDBLFD (2, 1, 3)\n",
      "CDEL (1, 1, 0)\n",
      "CECGR (0, 1, 0)\n",
      "CHMFRU (3, 1, 3)\n",
      "CI (2, 1, 2)\n",
      "CITNAT (0, 1, 0)\n",
      "CITOH (3, 1, 3)\n",
      "CL (1, 1, 1)\n",
      "CLX (1, 1, 2)\n",
      "CMACG (1, 1, 0)\n",
      "CMCSA (0, 1, 3)\n",
      "CMI (0, 1, 1)\n",
      "CMZB (2, 1, 2)\n",
      "CNALN (1, 1, 0)\n",
      "CNHI (1, 1, 0)\n",
      "CNOOC (1, 1, 2)\n",
      "CNP (1, 1, 0)\n",
      "CNQCN (2, 1, 2)\n",
      "CNRCN (1, 1, 2)\n",
      "CNUNZ (0, 1, 1)\n",
      "COF (3, 1, 3)\n",
      "COFP (2, 1, 2)\n",
      "COMQAT (1, 1, 1)\n",
      "CONGR (2, 1, 2)\n",
      "COP (1, 1, 1)\n",
      "COST (0, 1, 1)\n",
      "COXENT (0, 1, 1)\n",
      "CPB (1, 1, 2)\n",
      "CPGLN (0, 1, 0)\n",
      "CPT (2, 1, 2)\n",
      "CS (2, 1, 2)\n",
      "CSCO (2, 1, 1)\n",
      "CSX (2, 1, 2)\n",
      "CTVA (2, 1, 1)\n",
      "CVS (2, 1, 2)\n",
      "CVX (1, 1, 1)\n",
      "CXGD (0, 1, 1)\n",
      "D (1, 1, 2)\n",
      "DAIGR (0, 1, 0)\n",
      "DAIWA (0, 1, 1)\n",
      "DAL (3, 1, 3)\n",
      "DANBNK (3, 1, 2)\n",
      "DB (3, 1, 0)\n",
      "DBOERS (0, 1, 0)\n",
      "DE (1, 1, 1)\n",
      "DEPFA (3, 1, 2)\n",
      "DEVOBA (0, 1, 0)\n",
      "DGELN (1, 1, 0)\n",
      "DGFP (2, 1, 2)\n",
      "DGX (1, 1, 1)\n",
      "DHI (2, 1, 1)\n",
      "DHR (3, 2, 0)\n",
      "DOV (0, 1, 1)\n",
      "DOW (1, 1, 1)\n",
      "DPWDU (2, 1, 3)\n",
      "DPWGR (0, 1, 0)\n",
      "DRI (3, 1, 3)\n",
      "DSM (0, 1, 0)\n",
      "DT (1, 1, 1)\n",
      "DVN (3, 1, 2)\n",
      "DXC (0, 1, 1)\n",
      "DZBK (0, 1, 1)\n",
      "EBIUH (0, 1, 0)\n",
      "ED (1, 1, 2)\n",
      "EDF (3, 1, 3)\n",
      "EDPPL (2, 1, 3)\n",
      "EIBKOR (2, 1, 2)\n",
      "EMN (1, 1, 1)\n",
      "ENBCN (2, 1, 1)\n",
      "ENBW (2, 1, 2)\n",
      "ENELIM (3, 1, 3)\n",
      "ENFP (0, 1, 2)\n",
      "ENGALL (0, 1, 0)\n",
      "ENGIFP (2, 1, 3)\n",
      "ENIIM (0, 1, 3)\n",
      "EOANGR (0, 1, 0)\n",
      "EOG (2, 1, 3)\n",
      "EQNR (2, 1, 3)\n",
      "ERICB (0, 1, 0)\n",
      "ERSTBK (1, 1, 1)\n",
      "ETEGA (2, 1, 3)\n",
      "ETN (3, 1, 2)\n",
      "ETR (0, 1, 1)\n",
      "EVKGR (0, 1, 1)\n",
      "EWE (0, 1, 2)\n",
      "EXPE (1, 1, 1)\n",
      "F (0, 1, 1)\n",
      "FABUH (1, 1, 0)\n",
      "FCAIM (2, 1, 3)\n",
      "FDX (1, 1, 1)\n",
      "FFHCN (1, 1, 0)\n",
      "FREGR (0, 1, 0)\n",
      "FRFP (1, 1, 1)\n",
      "FRT (2, 1, 2)\n",
      "FTI (3, 1, 3)\n",
      "FUMVFH (3, 1, 0)\n",
      "GALPPL (0, 1, 0)\n",
      "GAZPRU (3, 2, 0)\n",
      "GD (1, 1, 2)\n",
      "GE (1, 1, 0)\n",
      "GFCFP (0, 1, 0)\n",
      "GIS (0, 1, 1)\n",
      "GLW (0, 1, 1)\n",
      "GM (3, 1, 2)\n",
      "GMGAU (2, 1, 2)\n",
      "GMT (3, 1, 3)\n",
      "GP (2, 1, 0)\n",
      "GS (1, 1, 2)\n",
      "GSK (0, 1, 0)\n",
      "GT (0, 1, 1)\n",
      "HAL (1, 1, 2)\n",
      "HAS (1, 1, 1)\n",
      "HCOB (1, 1, 0)\n",
      "HD (0, 1, 2)\n",
      "HEIANA (0, 1, 2)\n",
      "HEIGR (3, 1, 3)\n",
      "HENKEL (2, 1, 3)\n",
      "HES (3, 1, 3)\n",
      "HESLAN (1, 1, 3)\n",
      "HIG (0, 1, 2)\n",
      "HMSOLN (0, 1, 0)\n",
      "HNDA (0, 1, 0)\n",
      "HOFP (0, 1, 0)\n",
      "HON (3, 1, 2)\n",
      "HOTGR (2, 1, 2)\n",
      "HPQ (1, 1, 2)\n",
      "HSBC (2, 1, 3)\n",
      "HSECN (2, 1, 2)\n",
      "HSY (1, 1, 1)\n",
      "HTOGA (2, 1, 3)\n",
      "HUM (3, 1, 3)\n",
      "HYNMTR (3, 1, 3)\n",
      "HYSAN (2, 1, 1)\n",
      "HYUELE (1, 1, 1)\n",
      "IAGLN (2, 1, 2)\n",
      "IBESM (2, 1, 2)\n",
      "IBM (2, 1, 1)\n",
      "ICICI (0, 1, 0)\n",
      "IMBLN (2, 1, 2)\n",
      "INDKOR (2, 1, 2)\n",
      "INEGRP (1, 1, 3)\n",
      "INTC (1, 1, 1)\n",
      "INTNED (0, 1, 2)\n",
      "INTU (3, 1, 0)\n",
      "INVSA (0, 1, 1)\n",
      "IP (2, 1, 1)\n",
      "IPG (0, 1, 1)\n",
      "ISPIM (2, 1, 3)\n",
      "ISRELE (1, 1, 1)\n",
      "ISSDC (2, 1, 2)\n",
      "ITVLN (3, 1, 2)\n",
      "ITW (3, 1, 3)\n",
      "JAPTOB (2, 1, 3)\n",
      "JCI (0, 1, 1)\n",
      "JNJ (2, 1, 2)\n",
      "JNPR (1, 1, 2)\n",
      "JPM (1, 1, 2)\n",
      "JWN (2, 1, 3)\n",
      "K (3, 1, 2)\n",
      "KANSEL (2, 1, 3)\n",
      "KBCBB (3, 1, 1)\n",
      "KERFP (1, 1, 1)\n",
      "KIAMTR (0, 1, 0)\n",
      "KIM (2, 1, 2)\n",
      "KMB (1, 1, 2)\n",
      "KMI (1, 1, 1)\n",
      "KO (0, 1, 1)\n",
      "KORELE (0, 1, 0)\n",
      "KPN (0, 1, 0)\n",
      "KR (0, 1, 1)\n",
      "KSS (2, 1, 3)\n",
      "L (0, 1, 1)\n",
      "LBBW (3, 1, 2)\n",
      "LDOIM (2, 1, 3)\n",
      "LEN (2, 1, 1)\n",
      "LEVI (1, 1, 2)\n",
      "LGEN (1, 1, 2)\n",
      "LGFP (3, 1, 3)\n",
      "LH (1, 1, 1)\n",
      "LHAGR (3, 1, 2)\n",
      "LHNVX (3, 1, 3)\n",
      "LIFP (3, 1, 1)\n",
      "LIFUNG (1, 1, 1)\n",
      "LMT (1, 1, 2)\n",
      "LNC (0, 1, 2)\n",
      "LOUDRE (2, 1, 2)\n",
      "LOW (2, 1, 1)\n",
      "LRFP (3, 1, 3)\n",
      "LUKOIL (3, 1, 3)\n",
      "LUV (3, 1, 2)\n",
      "LXSGR (1, 1, 2)\n",
      "MAR (1, 1, 2)\n",
      "MARUB (0, 1, 1)\n",
      "MAS (2, 1, 2)\n",
      "MASQUH (0, 1, 0)\n",
      "MATSEL (2, 1, 2)\n",
      "MCD (1, 1, 3)\n",
      "MCFP (0, 1, 0)\n",
      "MCK (0, 1, 2)\n",
      "MDC (3, 1, 3)\n",
      "MDLZ (2, 1, 1)\n",
      "MET (2, 1, 2)\n",
      "METSO (3, 1, 3)\n",
      "MHK (1, 1, 3)\n",
      "MITCO (2, 1, 1)\n",
      "MLM (2, 1, 1)\n",
      "MMBFP (3, 1, 0)\n",
      "MMC (2, 1, 3)\n",
      "MMM (2, 1, 2)\n",
      "MMP (1, 1, 1)\n",
      "MO (1, 1, 0)\n",
      "MONTE (3, 1, 1)\n",
      "MOS (3, 1, 3)\n",
      "MQGAU (1, 1, 0)\n",
      "MRK (1, 1, 2)\n",
      "MRKGR (1, 1, 1)\n",
      "MRO (3, 1, 3)\n",
      "MS (3, 1, 3)\n",
      "MSFT (1, 1, 2)\n",
      "MSI (1, 1, 2)\n",
      "MTNA (3, 1, 2)\n",
      "MUBAUH (0, 1, 0)\n",
      "MUV2.DE (0, 1, 0)\n",
      "MWDP (3, 1, 3)\n",
      "NAB (0, 1, 1)\n",
      "NBL (0, 1, 2)\n",
      "NDASS (3, 1, 2)\n",
      "NDB (1, 1, 0)\n",
      "NEE (0, 1, 0)\n",
      "NEM (2, 1, 2)\n",
      "NESNVX (2, 1, 3)\n",
      "NGGLN (0, 1, 0)\n",
      "NKE (1, 1, 1)\n",
      "NNGRNV (2, 1, 3)\n",
      "NOC (1, 1, 2)\n",
      "NOKIA (1, 1, 2)\n",
      "NOMURA (0, 1, 0)\n",
      "NOVBNC (2, 1, 2)\n",
      "NOVNVX (2, 1, 0)\n",
      "NRG (1, 1, 2)\n",
      "NRUC (3, 1, 3)\n",
      "NSANY (0, 1, 0)\n",
      "NSC (3, 1, 3)\n",
      "NTGYSM (0, 1, 0)\n",
      "NUE (2, 1, 3)\n",
      "NVFVES (0, 1, 0)\n",
      "NVR (1, 1, 0)\n",
      "NWG (0, 1, 0)\n",
      "NWIDE (2, 1, 2)\n",
      "OC (1, 1, 1)\n",
      "ODGR (2, 1, 2)\n",
      "OKE (0, 1, 2)\n",
      "OMC (0, 1, 3)\n",
      "ORAFP (2, 1, 0)\n",
      "ORCL (0, 1, 1)\n",
      "ORIX (0, 1, 0)\n",
      "ORSTED (0, 1, 0)\n",
      "PAA (3, 1, 2)\n",
      "PEAK (3, 1, 0)\n",
      "PEMEX (0, 1, 0)\n",
      "PEP (2, 1, 1)\n",
      "PETBRA (0, 1, 0)\n",
      "PETMK (0, 1, 0)\n",
      "PEUGOT (1, 1, 1)\n",
      "PFE (1, 1, 1)\n",
      "PG (2, 1, 1)\n",
      "PGR (1, 1, 1)\n",
      "PHIANA (2, 1, 2)\n",
      "PHM (2, 1, 3)\n",
      "PKG (2, 1, 3)\n",
      "PM (0, 1, 1)\n",
      "PNC (1, 1, 1)\n",
      "POHANG (1, 1, 1)\n",
      "PPG (1, 1, 1)\n",
      "PROXBB (0, 1, 2)\n",
      "PRU (1, 1, 1)\n",
      "PRUFIN (1, 1, 1)\n",
      "PSMGR (1, 1, 1)\n",
      "PUBFP (2, 1, 2)\n",
      "PXD (0, 1, 3)\n",
      "QBEAU (0, 1, 0)\n",
      "R (1, 1, 2)\n",
      "RABOBK (0, 1, 0)\n",
      "RBIAV (3, 1, 3)\n",
      "RBOSGR (1, 1, 1)\n",
      "RCICN (0, 1, 0)\n",
      "RDSALN (3, 1, 3)\n",
      "REESM (0, 1, 2)\n",
      "REG (1, 1, 0)\n",
      "RELLN (0, 1, 3)\n",
      "RENAUL (3, 1, 3)\n",
      "REPSM (2, 1, 1)\n",
      "RIFP (0, 1, 0)\n",
      "RILIN (0, 1, 0)\n",
      "RL (1, 1, 1)\n",
      "ROSNRM (3, 2, 0)\n",
      "RSG (3, 1, 1)\n",
      "RTOLN (3, 1, 1)\n",
      "RTX (3, 1, 2)\n",
      "RWE (0, 1, 0)\n",
      "RXLFP (0, 1, 1)\n",
      "SABIC (3, 1, 2)\n",
      "SABSM (3, 1, 3)\n",
      "SAMBA (1, 1, 1)\n",
      "SANFP (2, 1, 2)\n",
      "SANSCF (0, 1, 0)\n",
      "SANTAN (0, 1, 0)\n",
      "SANUK (0, 1, 0)\n",
      "SANUSA (0, 1, 0)\n",
      "SAPSJ (0, 1, 0)\n",
      "SBERRU (2, 1, 3)\n",
      "SBIIN (0, 1, 0)\n",
      "SCANIA (3, 1, 3)\n",
      "SCBGER (0, 1, 0)\n",
      "SCBNOR (0, 1, 0)\n",
      "SCMNVX (1, 1, 1)\n",
      "SCOR (2, 1, 1)\n",
      "SDFGR (2, 1, 3)\n",
      "SEB (1, 1, 1)\n",
      "SEE (1, 1, 2)\n",
      "SESGFP (3, 1, 3)\n",
      "SFD (1, 1, 2)\n",
      "SFRFP (1, 1, 2)\n",
      "SGOFP (1, 1, 1)\n",
      "SGTOPT (3, 1, 3)\n",
      "SHBASS (2, 1, 2)\n",
      "SHIMAO (1, 1, 2)\n",
      "SHNHAN (1, 1, 1)\n",
      "SHW (1, 1, 1)\n",
      "SIBNEF (3, 1, 3)\n",
      "SIEGR (2, 1, 2)\n",
      "SJNKI (1, 1, 0)\n",
      "SKENER (3, 1, 2)\n",
      "SKM (0, 1, 0)\n",
      "SLB (0, 1, 0)\n",
      "SLG (2, 1, 2)\n",
      "SMINLN (1, 1, 2)\n",
      "SO (3, 1, 2)\n",
      "SOCGEN (1, 1, 1)\n",
      "SOFTBK (1, 0, 2)\n",
      "SOLBBB (3, 1, 3)\n",
      "SPGI (0, 1, 0)\n",
      "SRE (3, 1, 3)\n",
      "SSELN (1, 1, 1)\n",
      "STANLN (3, 1, 3)\n",
      "STEDIN (2, 1, 1)\n",
      "STENA (1, 1, 2)\n",
      "STERV (2, 1, 2)\n",
      "STLA (1, 1, 1)\n",
      "STSP (1, 1, 2)\n",
      "STYRO (1, 1, 3)\n",
      "STZ (3, 1, 0)\n",
      "SUCN (1, 1, 1)\n",
      "SUFP (2, 1, 3)\n",
      "SUMI (3, 1, 3)\n",
      "SUMIFL (3, 1, 3)\n",
      "SUNAU (2, 1, 0)\n",
      "SUNHUN (3, 1, 3)\n",
      "SWEDA (3, 1, 2)\n",
      "SWFP (0, 1, 2)\n",
      "SWIRE (0, 1, 0)\n",
      "SWK (1, 1, 1)\n",
      "SYNNVX (0, 1, 1)\n",
      "SYY (1, 1, 0)\n",
      "SZUGR (0, 1, 3)\n",
      "T (0, 1, 2)\n",
      "TAP (2, 1, 2)\n",
      "TCKBCN (2, 1, 3)\n",
      "TCN (0, 1, 2)\n",
      "TD (1, 1, 2)\n",
      "TDCDC (2, 1, 2)\n",
      "TELEFO (2, 1, 2)\n",
      "TELIAS (1, 1, 1)\n",
      "TELNO (0, 1, 0)\n",
      "TELVIS (2, 1, 1)\n",
      "TEVA (0, 1, 3)\n",
      "TGT (0, 1, 1)\n",
      "TITIM (0, 1, 1)\n",
      "TJX (1, 1, 2)\n",
      "TKAAV (3, 1, 2)\n",
      "TKAGR (1, 1, 3)\n",
      "TLSAU (3, 1, 3)\n",
      "TOTAL (3, 1, 3)\n",
      "TOYOTA (1, 1, 2)\n",
      "TRICN (1, 1, 0)\n",
      "TRV (2, 1, 1)\n",
      "TSCOLN (1, 1, 0)\n",
      "TSN (3, 1, 3)\n",
      "TT (2, 1, 1)\n",
      "TTEFP (3, 1, 3)\n",
      "TTMTIN (3, 1, 3)\n",
      "TXN (3, 1, 3)\n",
      "TXT (1, 1, 2)\n",
      "UBIIM (3, 1, 3)\n",
      "UCGIM (3, 1, 2)\n",
      "UDR (2, 1, 0)\n",
      "UHS (0, 1, 2)\n",
      "ULFP (3, 1, 3)\n",
      "UNBC (2, 1, 2)\n",
      "UNH (2, 1, 1)\n",
      "UNIIM (3, 1, 2)\n",
      "UNILAB (0, 1, 0)\n",
      "UNM (2, 1, 2)\n",
      "UNP (2, 1, 2)\n",
      "UPCB (2, 1, 3)\n",
      "UPMFH (0, 1, 3)\n",
      "UPS (1, 1, 2)\n",
      "URI (3, 1, 3)\n",
      "USB (3, 1, 3)\n",
      "UU (0, 1, 2)\n",
      "VALEBZ (1, 1, 1)\n",
      "VATFAL (0, 1, 0)\n",
      "VERAV (0, 1, 0)\n",
      "VFC (2, 1, 3)\n",
      "VIAC (2, 1, 1)\n",
      "VIEFP (1, 1, 2)\n",
      "VIVFP (0, 1, 0)\n",
      "VLO (1, 1, 0)\n",
      "VLVY (2, 1, 2)\n",
      "VMC (2, 1, 2)\n",
      "VOD (0, 1, 0)\n",
      "VW (3, 1, 2)\n",
      "VZ (0, 1, 3)\n",
      "WEC (2, 1, 1)\n",
      "WELL (2, 1, 1)\n",
      "WESAU (1, 1, 1)\n",
      "WFC (1, 1, 2)\n",
      "WHR (3, 1, 2)\n",
      "WKLNA (0, 1, 0)\n",
      "WM (3, 1, 3)\n",
      "WMB (3, 1, 0)\n",
      "WMT (2, 1, 1)\n",
      "WOORIB (1, 1, 1)\n",
      "WPLAU (2, 1, 2)\n",
      "WSTP (3, 1, 3)\n",
      "WU (1, 1, 3)\n",
      "WY (2, 1, 1)\n",
      "XL (0, 1, 2)\n",
      "XOM (2, 0, 0)\n"
     ]
    }
   ],
   "source": [
    "orderDF = pd.read_csv('fitted_params_ARIMA.csv', index_col=0)\n",
    "order_dict = {orderDF.iloc[i].name: (orderDF.iloc[i]['p'], orderDF.iloc[i]['d'], orderDF.iloc[i]['q']) for i in range(len(orderDF))}\n",
    "for tick, order in order_dict.items():\n",
    "    print(tick, order)"
   ]
  },
  {
   "cell_type": "markdown",
   "id": "c69a0312-874f-438a-82ad-6118f46a4a7f",
   "metadata": {},
   "source": [
    "## Appendix: Just some testing"
   ]
  },
  {
   "cell_type": "code",
   "execution_count": null,
   "id": "fdb3ac13-da5a-4195-a6c2-5c5c2cd6ab41",
   "metadata": {},
   "outputs": [],
   "source": []
  }
 ],
 "metadata": {
  "kernelspec": {
   "display_name": "Python 3 (ipykernel)",
   "language": "python",
   "name": "python3"
  },
  "language_info": {
   "codemirror_mode": {
    "name": "ipython",
    "version": 3
   },
   "file_extension": ".py",
   "mimetype": "text/x-python",
   "name": "python",
   "nbconvert_exporter": "python",
   "pygments_lexer": "ipython3",
   "version": "3.12.7"
  }
 },
 "nbformat": 4,
 "nbformat_minor": 5
}
