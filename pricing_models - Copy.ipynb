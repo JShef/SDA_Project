{
 "cells": [
  {
   "cell_type": "markdown",
   "metadata": {},
   "source": [
    "### import packages"
   ]
  },
  {
   "cell_type": "code",
   "execution_count": 1,
   "metadata": {},
   "outputs": [],
   "source": [
    "import os\n",
    "import numpy as np\n",
    "import pandas as pd\n",
    "#from numba import jit\n",
    "from scipy.stats import norm\n",
    "import yfinance as yf\n",
    "import pandas_datareader.data as web\n",
    "#from rateslib import dt\n",
    "import matplotlib.pyplot as plt\n",
    "%matplotlib inline"
   ]
  },
  {
   "cell_type": "code",
   "execution_count": 2,
   "metadata": {},
   "outputs": [],
   "source": [
    "file_dir = os.getcwd()\n",
    "data_dir = os.path.join(file_dir, 'datasets')"
   ]
  },
  {
   "cell_type": "markdown",
   "metadata": {},
   "source": [
    "### Pricing Models to be considered:\n",
    "\n",
    "##### 1. Binomial Trees\n",
    "\n",
    "##### 2. Black-Scholes Model\n",
    "\n",
    "##### 3. Heston?\n",
    "\n",
    "##### 4. Monte Carlo (I have the code)"
   ]
  },
  {
   "cell_type": "code",
   "execution_count": 3,
   "metadata": {},
   "outputs": [],
   "source": [
    "# use jit to improve compile speed\n",
    "# @jit(nopython=True)  #thi an error if the function cannot be compiled.\n",
    "\n",
    "def blackscholes(asset_0, debt, T, r, sigma_asset):\n",
    "    \"\"\"\n",
    "    Price of a European call in the Black-Scholes model - where equity_0 = call price, asset_0 = underlying price, debt = strike price.\n",
    "    \"\"\"\n",
    "    d1 = (np.log(asset_0)-np.log(debt)+(r+sigma_asset**2/2)*T)/(sigma_asset*np.sqrt(T))\n",
    "    d2 = d1-sigma_asset*np.sqrt(T)\n",
    "\n",
    "    return asset_0 * norm.cdf(d1) - np.exp(-r*T) * debt * norm.cdf(d2)"
   ]
  },
  {
   "cell_type": "code",
   "execution_count": 4,
   "metadata": {},
   "outputs": [],
   "source": [
    "def BS_implied_spread(asset_0, debt, T, r, sigma_asset):\n",
    "    \n",
    "    leverage = (debt * np.exp(-r * T)) / asset_0 \n",
    "    d1 = (np.log(asset_0) - np.log(debt) + (r + sigma_asset**2 / 2) * T) / (sigma_asset * np.sqrt(T))\n",
    "    d2 = d1 - sigma_asset * np.sqrt(T)\n",
    "\n",
    "    implied_spread = -np.log((norm.cdf(d2) + (norm.cdf(-d1) / leverage)) / T)\n",
    "    return implied_spread"
   ]
  },
  {
   "cell_type": "code",
   "execution_count": 5,
   "metadata": {},
   "outputs": [],
   "source": [
    "cds_csv_path = os.path.join(data_dir, 'cds.csv')\n",
    "cds_data = pd.read_csv(cds_csv_path, index_col='Date')"
   ]
  },
  {
   "cell_type": "code",
   "execution_count": 6,
   "metadata": {},
   "outputs": [
    {
     "data": {
      "text/html": [
       "<div>\n",
       "<style scoped>\n",
       "    .dataframe tbody tr th:only-of-type {\n",
       "        vertical-align: middle;\n",
       "    }\n",
       "\n",
       "    .dataframe tbody tr th {\n",
       "        vertical-align: top;\n",
       "    }\n",
       "\n",
       "    .dataframe thead th {\n",
       "        text-align: right;\n",
       "    }\n",
       "</style>\n",
       "<table border=\"1\" class=\"dataframe\">\n",
       "  <thead>\n",
       "    <tr style=\"text-align: right;\">\n",
       "      <th></th>\n",
       "      <th>Ticker</th>\n",
       "      <th>Company</th>\n",
       "      <th>PX1</th>\n",
       "      <th>PX2</th>\n",
       "      <th>PX3</th>\n",
       "      <th>PX4</th>\n",
       "      <th>PX5</th>\n",
       "      <th>PX6</th>\n",
       "      <th>PX7</th>\n",
       "      <th>PX8</th>\n",
       "      <th>PX9</th>\n",
       "      <th>PX10</th>\n",
       "    </tr>\n",
       "    <tr>\n",
       "      <th>Date</th>\n",
       "      <th></th>\n",
       "      <th></th>\n",
       "      <th></th>\n",
       "      <th></th>\n",
       "      <th></th>\n",
       "      <th></th>\n",
       "      <th></th>\n",
       "      <th></th>\n",
       "      <th></th>\n",
       "      <th></th>\n",
       "      <th></th>\n",
       "      <th></th>\n",
       "    </tr>\n",
       "  </thead>\n",
       "  <tbody>\n",
       "    <tr>\n",
       "      <th>2015-01-01</th>\n",
       "      <td>A</td>\n",
       "      <td>Agilent Technologies Inc</td>\n",
       "      <td>14.850</td>\n",
       "      <td>25.05</td>\n",
       "      <td>39.055</td>\n",
       "      <td>73.715</td>\n",
       "      <td>86.30</td>\n",
       "      <td>111.305</td>\n",
       "      <td>125.905</td>\n",
       "      <td>144.300</td>\n",
       "      <td>158.600</td>\n",
       "      <td>168.195</td>\n",
       "    </tr>\n",
       "    <tr>\n",
       "      <th>2015-01-02</th>\n",
       "      <td>A</td>\n",
       "      <td>Agilent Technologies Inc</td>\n",
       "      <td>14.855</td>\n",
       "      <td>25.15</td>\n",
       "      <td>39.160</td>\n",
       "      <td>73.600</td>\n",
       "      <td>86.40</td>\n",
       "      <td>111.510</td>\n",
       "      <td>126.100</td>\n",
       "      <td>144.375</td>\n",
       "      <td>158.775</td>\n",
       "      <td>168.375</td>\n",
       "    </tr>\n",
       "    <tr>\n",
       "      <th>2015-01-05</th>\n",
       "      <td>A</td>\n",
       "      <td>Agilent Technologies Inc</td>\n",
       "      <td>13.455</td>\n",
       "      <td>24.96</td>\n",
       "      <td>39.310</td>\n",
       "      <td>70.200</td>\n",
       "      <td>88.26</td>\n",
       "      <td>111.970</td>\n",
       "      <td>125.060</td>\n",
       "      <td>143.165</td>\n",
       "      <td>157.385</td>\n",
       "      <td>166.825</td>\n",
       "    </tr>\n",
       "    <tr>\n",
       "      <th>2015-01-06</th>\n",
       "      <td>A</td>\n",
       "      <td>Agilent Technologies Inc</td>\n",
       "      <td>15.535</td>\n",
       "      <td>24.88</td>\n",
       "      <td>39.300</td>\n",
       "      <td>72.680</td>\n",
       "      <td>91.10</td>\n",
       "      <td>116.610</td>\n",
       "      <td>130.890</td>\n",
       "      <td>150.365</td>\n",
       "      <td>165.655</td>\n",
       "      <td>175.885</td>\n",
       "    </tr>\n",
       "    <tr>\n",
       "      <th>2015-01-07</th>\n",
       "      <td>A</td>\n",
       "      <td>Agilent Technologies Inc</td>\n",
       "      <td>15.215</td>\n",
       "      <td>25.50</td>\n",
       "      <td>40.270</td>\n",
       "      <td>73.880</td>\n",
       "      <td>92.50</td>\n",
       "      <td>117.780</td>\n",
       "      <td>131.940</td>\n",
       "      <td>151.145</td>\n",
       "      <td>166.215</td>\n",
       "      <td>176.295</td>\n",
       "    </tr>\n",
       "  </tbody>\n",
       "</table>\n",
       "</div>"
      ],
      "text/plain": [
       "           Ticker                   Company     PX1    PX2     PX3     PX4  \\\n",
       "Date                                                                         \n",
       "2015-01-01      A  Agilent Technologies Inc  14.850  25.05  39.055  73.715   \n",
       "2015-01-02      A  Agilent Technologies Inc  14.855  25.15  39.160  73.600   \n",
       "2015-01-05      A  Agilent Technologies Inc  13.455  24.96  39.310  70.200   \n",
       "2015-01-06      A  Agilent Technologies Inc  15.535  24.88  39.300  72.680   \n",
       "2015-01-07      A  Agilent Technologies Inc  15.215  25.50  40.270  73.880   \n",
       "\n",
       "              PX5      PX6      PX7      PX8      PX9     PX10  \n",
       "Date                                                            \n",
       "2015-01-01  86.30  111.305  125.905  144.300  158.600  168.195  \n",
       "2015-01-02  86.40  111.510  126.100  144.375  158.775  168.375  \n",
       "2015-01-05  88.26  111.970  125.060  143.165  157.385  166.825  \n",
       "2015-01-06  91.10  116.610  130.890  150.365  165.655  175.885  \n",
       "2015-01-07  92.50  117.780  131.940  151.145  166.215  176.295  "
      ]
     },
     "execution_count": 6,
     "metadata": {},
     "output_type": "execute_result"
    }
   ],
   "source": [
    "cds_data.head()"
   ]
  },
  {
   "cell_type": "code",
   "execution_count": 7,
   "metadata": {},
   "outputs": [
    {
     "name": "stderr",
     "output_type": "stream",
     "text": [
      "[*********************100%***********************]  1 of 1 completed\n"
     ]
    }
   ],
   "source": [
    "cds_apple = cds_data[cds_data['Ticker'] == 'AAPL']\n",
    "equity_apple = yf.download('AAPL', start='2015-01-01', end='2021-09-11')['Adj Close']"
   ]
  },
  {
   "cell_type": "code",
   "execution_count": 8,
   "metadata": {},
   "outputs": [
    {
     "ename": "ValueError",
     "evalue": "Index apdedateq invalid",
     "output_type": "error",
     "traceback": [
      "\u001b[1;31m---------------------------------------------------------------------------\u001b[0m",
      "\u001b[1;31mValueError\u001b[0m                                Traceback (most recent call last)",
      "Cell \u001b[1;32mIn[8], line 2\u001b[0m\n\u001b[0;32m      1\u001b[0m csv_path_apple \u001b[38;5;241m=\u001b[39m os\u001b[38;5;241m.\u001b[39mpath\u001b[38;5;241m.\u001b[39mjoin(data_dir, \u001b[38;5;124m'\u001b[39m\u001b[38;5;124maapl_data.csv\u001b[39m\u001b[38;5;124m'\u001b[39m)\n\u001b[1;32m----> 2\u001b[0m apple_data \u001b[38;5;241m=\u001b[39m \u001b[43mpd\u001b[49m\u001b[38;5;241;43m.\u001b[39;49m\u001b[43mread_csv\u001b[49m\u001b[43m(\u001b[49m\u001b[43mcsv_path_apple\u001b[49m\u001b[43m,\u001b[49m\u001b[43m \u001b[49m\u001b[43mindex_col\u001b[49m\u001b[38;5;241;43m=\u001b[39;49m\u001b[38;5;124;43m'\u001b[39;49m\u001b[38;5;124;43mapdedateq\u001b[39;49m\u001b[38;5;124;43m'\u001b[39;49m\u001b[43m)\u001b[49m\n",
      "File \u001b[1;32m~\\anaconda3\\envs\\SDA\\Lib\\site-packages\\pandas\\io\\parsers\\readers.py:1026\u001b[0m, in \u001b[0;36mread_csv\u001b[1;34m(filepath_or_buffer, sep, delimiter, header, names, index_col, usecols, dtype, engine, converters, true_values, false_values, skipinitialspace, skiprows, skipfooter, nrows, na_values, keep_default_na, na_filter, verbose, skip_blank_lines, parse_dates, infer_datetime_format, keep_date_col, date_parser, date_format, dayfirst, cache_dates, iterator, chunksize, compression, thousands, decimal, lineterminator, quotechar, quoting, doublequote, escapechar, comment, encoding, encoding_errors, dialect, on_bad_lines, delim_whitespace, low_memory, memory_map, float_precision, storage_options, dtype_backend)\u001b[0m\n\u001b[0;32m   1013\u001b[0m kwds_defaults \u001b[38;5;241m=\u001b[39m _refine_defaults_read(\n\u001b[0;32m   1014\u001b[0m     dialect,\n\u001b[0;32m   1015\u001b[0m     delimiter,\n\u001b[1;32m   (...)\u001b[0m\n\u001b[0;32m   1022\u001b[0m     dtype_backend\u001b[38;5;241m=\u001b[39mdtype_backend,\n\u001b[0;32m   1023\u001b[0m )\n\u001b[0;32m   1024\u001b[0m kwds\u001b[38;5;241m.\u001b[39mupdate(kwds_defaults)\n\u001b[1;32m-> 1026\u001b[0m \u001b[38;5;28;01mreturn\u001b[39;00m \u001b[43m_read\u001b[49m\u001b[43m(\u001b[49m\u001b[43mfilepath_or_buffer\u001b[49m\u001b[43m,\u001b[49m\u001b[43m \u001b[49m\u001b[43mkwds\u001b[49m\u001b[43m)\u001b[49m\n",
      "File \u001b[1;32m~\\anaconda3\\envs\\SDA\\Lib\\site-packages\\pandas\\io\\parsers\\readers.py:626\u001b[0m, in \u001b[0;36m_read\u001b[1;34m(filepath_or_buffer, kwds)\u001b[0m\n\u001b[0;32m    623\u001b[0m     \u001b[38;5;28;01mreturn\u001b[39;00m parser\n\u001b[0;32m    625\u001b[0m \u001b[38;5;28;01mwith\u001b[39;00m parser:\n\u001b[1;32m--> 626\u001b[0m     \u001b[38;5;28;01mreturn\u001b[39;00m \u001b[43mparser\u001b[49m\u001b[38;5;241;43m.\u001b[39;49m\u001b[43mread\u001b[49m\u001b[43m(\u001b[49m\u001b[43mnrows\u001b[49m\u001b[43m)\u001b[49m\n",
      "File \u001b[1;32m~\\anaconda3\\envs\\SDA\\Lib\\site-packages\\pandas\\io\\parsers\\readers.py:1923\u001b[0m, in \u001b[0;36mTextFileReader.read\u001b[1;34m(self, nrows)\u001b[0m\n\u001b[0;32m   1916\u001b[0m nrows \u001b[38;5;241m=\u001b[39m validate_integer(\u001b[38;5;124m\"\u001b[39m\u001b[38;5;124mnrows\u001b[39m\u001b[38;5;124m\"\u001b[39m, nrows)\n\u001b[0;32m   1917\u001b[0m \u001b[38;5;28;01mtry\u001b[39;00m:\n\u001b[0;32m   1918\u001b[0m     \u001b[38;5;66;03m# error: \"ParserBase\" has no attribute \"read\"\u001b[39;00m\n\u001b[0;32m   1919\u001b[0m     (\n\u001b[0;32m   1920\u001b[0m         index,\n\u001b[0;32m   1921\u001b[0m         columns,\n\u001b[0;32m   1922\u001b[0m         col_dict,\n\u001b[1;32m-> 1923\u001b[0m     ) \u001b[38;5;241m=\u001b[39m \u001b[38;5;28;43mself\u001b[39;49m\u001b[38;5;241;43m.\u001b[39;49m\u001b[43m_engine\u001b[49m\u001b[38;5;241;43m.\u001b[39;49m\u001b[43mread\u001b[49m\u001b[43m(\u001b[49m\u001b[43m  \u001b[49m\u001b[38;5;66;43;03m# type: ignore[attr-defined]\u001b[39;49;00m\n\u001b[0;32m   1924\u001b[0m \u001b[43m        \u001b[49m\u001b[43mnrows\u001b[49m\n\u001b[0;32m   1925\u001b[0m \u001b[43m    \u001b[49m\u001b[43m)\u001b[49m\n\u001b[0;32m   1926\u001b[0m \u001b[38;5;28;01mexcept\u001b[39;00m \u001b[38;5;167;01mException\u001b[39;00m:\n\u001b[0;32m   1927\u001b[0m     \u001b[38;5;28mself\u001b[39m\u001b[38;5;241m.\u001b[39mclose()\n",
      "File \u001b[1;32m~\\anaconda3\\envs\\SDA\\Lib\\site-packages\\pandas\\io\\parsers\\c_parser_wrapper.py:333\u001b[0m, in \u001b[0;36mCParserWrapper.read\u001b[1;34m(self, nrows)\u001b[0m\n\u001b[0;32m    330\u001b[0m     data \u001b[38;5;241m=\u001b[39m {k: v \u001b[38;5;28;01mfor\u001b[39;00m k, (i, v) \u001b[38;5;129;01min\u001b[39;00m \u001b[38;5;28mzip\u001b[39m(names, data_tups)}\n\u001b[0;32m    332\u001b[0m     names, date_data \u001b[38;5;241m=\u001b[39m \u001b[38;5;28mself\u001b[39m\u001b[38;5;241m.\u001b[39m_do_date_conversions(names, data)\n\u001b[1;32m--> 333\u001b[0m     index, column_names \u001b[38;5;241m=\u001b[39m \u001b[38;5;28;43mself\u001b[39;49m\u001b[38;5;241;43m.\u001b[39;49m\u001b[43m_make_index\u001b[49m\u001b[43m(\u001b[49m\u001b[43mdate_data\u001b[49m\u001b[43m,\u001b[49m\u001b[43m \u001b[49m\u001b[43malldata\u001b[49m\u001b[43m,\u001b[49m\u001b[43m \u001b[49m\u001b[43mnames\u001b[49m\u001b[43m)\u001b[49m\n\u001b[0;32m    335\u001b[0m \u001b[38;5;28;01mreturn\u001b[39;00m index, column_names, date_data\n",
      "File \u001b[1;32m~\\anaconda3\\envs\\SDA\\Lib\\site-packages\\pandas\\io\\parsers\\base_parser.py:371\u001b[0m, in \u001b[0;36mParserBase._make_index\u001b[1;34m(self, data, alldata, columns, indexnamerow)\u001b[0m\n\u001b[0;32m    368\u001b[0m     index \u001b[38;5;241m=\u001b[39m \u001b[38;5;28;01mNone\u001b[39;00m\n\u001b[0;32m    370\u001b[0m \u001b[38;5;28;01melif\u001b[39;00m \u001b[38;5;129;01mnot\u001b[39;00m \u001b[38;5;28mself\u001b[39m\u001b[38;5;241m.\u001b[39m_has_complex_date_col:\n\u001b[1;32m--> 371\u001b[0m     simple_index \u001b[38;5;241m=\u001b[39m \u001b[38;5;28;43mself\u001b[39;49m\u001b[38;5;241;43m.\u001b[39;49m\u001b[43m_get_simple_index\u001b[49m\u001b[43m(\u001b[49m\u001b[43malldata\u001b[49m\u001b[43m,\u001b[49m\u001b[43m \u001b[49m\u001b[43mcolumns\u001b[49m\u001b[43m)\u001b[49m\n\u001b[0;32m    372\u001b[0m     index \u001b[38;5;241m=\u001b[39m \u001b[38;5;28mself\u001b[39m\u001b[38;5;241m.\u001b[39m_agg_index(simple_index)\n\u001b[0;32m    373\u001b[0m \u001b[38;5;28;01melif\u001b[39;00m \u001b[38;5;28mself\u001b[39m\u001b[38;5;241m.\u001b[39m_has_complex_date_col:\n",
      "File \u001b[1;32m~\\anaconda3\\envs\\SDA\\Lib\\site-packages\\pandas\\io\\parsers\\base_parser.py:403\u001b[0m, in \u001b[0;36mParserBase._get_simple_index\u001b[1;34m(self, data, columns)\u001b[0m\n\u001b[0;32m    401\u001b[0m index \u001b[38;5;241m=\u001b[39m []\n\u001b[0;32m    402\u001b[0m \u001b[38;5;28;01mfor\u001b[39;00m idx \u001b[38;5;129;01min\u001b[39;00m \u001b[38;5;28mself\u001b[39m\u001b[38;5;241m.\u001b[39mindex_col:\n\u001b[1;32m--> 403\u001b[0m     i \u001b[38;5;241m=\u001b[39m \u001b[43mix\u001b[49m\u001b[43m(\u001b[49m\u001b[43midx\u001b[49m\u001b[43m)\u001b[49m\n\u001b[0;32m    404\u001b[0m     to_remove\u001b[38;5;241m.\u001b[39mappend(i)\n\u001b[0;32m    405\u001b[0m     index\u001b[38;5;241m.\u001b[39mappend(data[i])\n",
      "File \u001b[1;32m~\\anaconda3\\envs\\SDA\\Lib\\site-packages\\pandas\\io\\parsers\\base_parser.py:398\u001b[0m, in \u001b[0;36mParserBase._get_simple_index.<locals>.ix\u001b[1;34m(col)\u001b[0m\n\u001b[0;32m    396\u001b[0m \u001b[38;5;28;01mif\u001b[39;00m \u001b[38;5;129;01mnot\u001b[39;00m \u001b[38;5;28misinstance\u001b[39m(col, \u001b[38;5;28mstr\u001b[39m):\n\u001b[0;32m    397\u001b[0m     \u001b[38;5;28;01mreturn\u001b[39;00m col\n\u001b[1;32m--> 398\u001b[0m \u001b[38;5;28;01mraise\u001b[39;00m \u001b[38;5;167;01mValueError\u001b[39;00m(\u001b[38;5;124mf\u001b[39m\u001b[38;5;124m\"\u001b[39m\u001b[38;5;124mIndex \u001b[39m\u001b[38;5;132;01m{\u001b[39;00mcol\u001b[38;5;132;01m}\u001b[39;00m\u001b[38;5;124m invalid\u001b[39m\u001b[38;5;124m\"\u001b[39m)\n",
      "\u001b[1;31mValueError\u001b[0m: Index apdedateq invalid"
     ]
    }
   ],
   "source": [
    "csv_path_apple = os.path.join(data_dir, 'aapl_data.csv')\n",
    "apple_data = pd.read_csv(csv_path_apple, index_col='apdedateq')"
   ]
  },
  {
   "cell_type": "code",
   "execution_count": 9,
   "metadata": {},
   "outputs": [
    {
     "ename": "NameError",
     "evalue": "name 'apple_data' is not defined",
     "output_type": "error",
     "traceback": [
      "\u001b[1;31m---------------------------------------------------------------------------\u001b[0m",
      "\u001b[1;31mNameError\u001b[0m                                 Traceback (most recent call last)",
      "Cell \u001b[1;32mIn[9], line 1\u001b[0m\n\u001b[1;32m----> 1\u001b[0m apple_data\u001b[38;5;241m.\u001b[39mindex \u001b[38;5;241m=\u001b[39m pd\u001b[38;5;241m.\u001b[39mto_datetime(\u001b[43mapple_data\u001b[49m\u001b[38;5;241m.\u001b[39mindex)\n\u001b[0;32m      2\u001b[0m cds_apple\u001b[38;5;241m.\u001b[39mindex \u001b[38;5;241m=\u001b[39m pd\u001b[38;5;241m.\u001b[39mto_datetime(cds_apple\u001b[38;5;241m.\u001b[39mindex)\n",
      "\u001b[1;31mNameError\u001b[0m: name 'apple_data' is not defined"
     ]
    }
   ],
   "source": [
    "apple_data.index = pd.to_datetime(apple_data.index)\n",
    "cds_apple.index = pd.to_datetime(cds_apple.index)"
   ]
  },
  {
   "cell_type": "code",
   "execution_count": 10,
   "metadata": {},
   "outputs": [
    {
     "ename": "NameError",
     "evalue": "name 'apple_data' is not defined",
     "output_type": "error",
     "traceback": [
      "\u001b[1;31m---------------------------------------------------------------------------\u001b[0m",
      "\u001b[1;31mNameError\u001b[0m                                 Traceback (most recent call last)",
      "Cell \u001b[1;32mIn[10], line 1\u001b[0m\n\u001b[1;32m----> 1\u001b[0m apple_data[\u001b[38;5;124m'\u001b[39m\u001b[38;5;124masset_val\u001b[39m\u001b[38;5;124m'\u001b[39m] \u001b[38;5;241m=\u001b[39m \u001b[43mapple_data\u001b[49m[\u001b[38;5;124m'\u001b[39m\u001b[38;5;124matq\u001b[39m\u001b[38;5;124m'\u001b[39m]\n\u001b[0;32m      2\u001b[0m apple_data[\u001b[38;5;124m'\u001b[39m\u001b[38;5;124mdebt_val\u001b[39m\u001b[38;5;124m'\u001b[39m] \u001b[38;5;241m=\u001b[39m apple_data[\u001b[38;5;124m'\u001b[39m\u001b[38;5;124mltq\u001b[39m\u001b[38;5;124m'\u001b[39m]\n",
      "\u001b[1;31mNameError\u001b[0m: name 'apple_data' is not defined"
     ]
    }
   ],
   "source": [
    "apple_data['asset_val'] = apple_data['atq']\n",
    "apple_data['debt_val'] = apple_data['ltq']"
   ]
  },
  {
   "cell_type": "code",
   "execution_count": 11,
   "metadata": {},
   "outputs": [],
   "source": [
    "risk_free_rate = web.DataReader('TB3MS', 'fred', start='2015-01-01', end='2021-09-11')"
   ]
  },
  {
   "cell_type": "code",
   "execution_count": 12,
   "metadata": {},
   "outputs": [
    {
     "ename": "NameError",
     "evalue": "name 'apple_data' is not defined",
     "output_type": "error",
     "traceback": [
      "\u001b[1;31m---------------------------------------------------------------------------\u001b[0m",
      "\u001b[1;31mNameError\u001b[0m                                 Traceback (most recent call last)",
      "Cell \u001b[1;32mIn[12], line 1\u001b[0m\n\u001b[1;32m----> 1\u001b[0m apple_data[\u001b[38;5;124m'\u001b[39m\u001b[38;5;124masset_returns\u001b[39m\u001b[38;5;124m'\u001b[39m] \u001b[38;5;241m=\u001b[39m (np\u001b[38;5;241m.\u001b[39mlog(\u001b[43mapple_data\u001b[49m[\u001b[38;5;124m'\u001b[39m\u001b[38;5;124masset_val\u001b[39m\u001b[38;5;124m'\u001b[39m] \u001b[38;5;241m/\u001b[39m apple_data[\u001b[38;5;124m'\u001b[39m\u001b[38;5;124masset_val\u001b[39m\u001b[38;5;124m'\u001b[39m]\u001b[38;5;241m.\u001b[39mshift(\u001b[38;5;241m1\u001b[39m)))\u001b[38;5;241m*\u001b[39m\u001b[38;5;241m4\u001b[39m\n\u001b[0;32m      2\u001b[0m asset_vol_naive \u001b[38;5;241m=\u001b[39m np\u001b[38;5;241m.\u001b[39mstd(apple_data[\u001b[38;5;124m'\u001b[39m\u001b[38;5;124masset_returns\u001b[39m\u001b[38;5;124m'\u001b[39m])\u001b[38;5;241m*\u001b[39mnp\u001b[38;5;241m.\u001b[39msqrt(\u001b[38;5;241m4\u001b[39m) \u001b[38;5;66;03m# multiply sqrt(4) because asset values reported quarterly\u001b[39;00m\n",
      "\u001b[1;31mNameError\u001b[0m: name 'apple_data' is not defined"
     ]
    }
   ],
   "source": [
    "apple_data['asset_returns'] = (np.log(apple_data['asset_val'] / apple_data['asset_val'].shift(1)))*4\n",
    "asset_vol_naive = np.std(apple_data['asset_returns'])*np.sqrt(4) # multiply sqrt(4) because asset values reported quarterly"
   ]
  },
  {
   "cell_type": "code",
   "execution_count": 13,
   "metadata": {},
   "outputs": [
    {
     "ename": "NameError",
     "evalue": "name 'apple_data' is not defined",
     "output_type": "error",
     "traceback": [
      "\u001b[1;31m---------------------------------------------------------------------------\u001b[0m",
      "\u001b[1;31mNameError\u001b[0m                                 Traceback (most recent call last)",
      "Cell \u001b[1;32mIn[13], line 1\u001b[0m\n\u001b[1;32m----> 1\u001b[0m testspread \u001b[38;5;241m=\u001b[39m BS_implied_spread(asset_0 \u001b[38;5;241m=\u001b[39m (\u001b[43mapple_data\u001b[49m[\u001b[38;5;124m'\u001b[39m\u001b[38;5;124masset_val\u001b[39m\u001b[38;5;124m'\u001b[39m]\u001b[38;5;241m.\u001b[39miloc[\u001b[38;5;241m0\u001b[39m] \u001b[38;5;241m/\u001b[39m apple_data[\u001b[38;5;124m'\u001b[39m\u001b[38;5;124mcshoq\u001b[39m\u001b[38;5;124m'\u001b[39m]\u001b[38;5;241m.\u001b[39miloc[\u001b[38;5;241m0\u001b[39m]), \n\u001b[0;32m      2\u001b[0m                                             debt\u001b[38;5;241m=\u001b[39m(apple_data[\u001b[38;5;124m'\u001b[39m\u001b[38;5;124mdebt_val\u001b[39m\u001b[38;5;124m'\u001b[39m]\u001b[38;5;241m.\u001b[39miloc[\u001b[38;5;241m0\u001b[39m] \u001b[38;5;241m/\u001b[39m apple_data[\u001b[38;5;124m'\u001b[39m\u001b[38;5;124mcshoq\u001b[39m\u001b[38;5;124m'\u001b[39m]\u001b[38;5;241m.\u001b[39miloc[\u001b[38;5;241m0\u001b[39m]), \n\u001b[0;32m      3\u001b[0m                                             T\u001b[38;5;241m=\u001b[39m\u001b[38;5;241m1\u001b[39m, r\u001b[38;5;241m=\u001b[39mrisk_free_rate\u001b[38;5;241m.\u001b[39miloc[\u001b[38;5;241m0\u001b[39m]\u001b[38;5;241m.\u001b[39mitem(), sigma_asset\u001b[38;5;241m=\u001b[39masset_vol_naive)\n",
      "\u001b[1;31mNameError\u001b[0m: name 'apple_data' is not defined"
     ]
    }
   ],
   "source": [
    "testspread = BS_implied_spread(asset_0 = (apple_data['asset_val'].iloc[0] / apple_data['cshoq'].iloc[0]), \n",
    "                                            debt=(apple_data['debt_val'].iloc[0] / apple_data['cshoq'].iloc[0]), \n",
    "                                            T=1, r=risk_free_rate.iloc[0].item(), sigma_asset=asset_vol_naive)"
   ]
  },
  {
   "cell_type": "code",
   "execution_count": 14,
   "metadata": {},
   "outputs": [
    {
     "ename": "NameError",
     "evalue": "name 'apple_data' is not defined",
     "output_type": "error",
     "traceback": [
      "\u001b[1;31m---------------------------------------------------------------------------\u001b[0m",
      "\u001b[1;31mNameError\u001b[0m                                 Traceback (most recent call last)",
      "Cell \u001b[1;32mIn[14], line 1\u001b[0m\n\u001b[1;32m----> 1\u001b[0m blackscholes(asset_0\u001b[38;5;241m=\u001b[39m(\u001b[43mapple_data\u001b[49m[\u001b[38;5;124m'\u001b[39m\u001b[38;5;124masset_val\u001b[39m\u001b[38;5;124m'\u001b[39m]\u001b[38;5;241m.\u001b[39miloc[\u001b[38;5;241m0\u001b[39m] \u001b[38;5;241m/\u001b[39m apple_data[\u001b[38;5;124m'\u001b[39m\u001b[38;5;124mcshoq\u001b[39m\u001b[38;5;124m'\u001b[39m]\u001b[38;5;241m.\u001b[39miloc[\u001b[38;5;241m0\u001b[39m]), debt\u001b[38;5;241m=\u001b[39m(apple_data[\u001b[38;5;124m'\u001b[39m\u001b[38;5;124mdebt_val\u001b[39m\u001b[38;5;124m'\u001b[39m]\u001b[38;5;241m.\u001b[39miloc[\u001b[38;5;241m0\u001b[39m] \u001b[38;5;241m/\u001b[39m apple_data[\u001b[38;5;124m'\u001b[39m\u001b[38;5;124mcshoq\u001b[39m\u001b[38;5;124m'\u001b[39m]\u001b[38;5;241m.\u001b[39miloc[\u001b[38;5;241m0\u001b[39m]), T\u001b[38;5;241m=\u001b[39m\u001b[38;5;241m1\u001b[39m, r\u001b[38;5;241m=\u001b[39mrisk_free_rate\u001b[38;5;241m.\u001b[39miloc[\u001b[38;5;241m0\u001b[39m], sigma_asset\u001b[38;5;241m=\u001b[39masset_vol_naive)\n",
      "\u001b[1;31mNameError\u001b[0m: name 'apple_data' is not defined"
     ]
    }
   ],
   "source": [
    "blackscholes(asset_0=(apple_data['asset_val'].iloc[0] / apple_data['cshoq'].iloc[0]), debt=(apple_data['debt_val'].iloc[0] / apple_data['cshoq'].iloc[0]), T=1, r=risk_free_rate.iloc[0], sigma_asset=asset_vol_naive)"
   ]
  },
  {
   "cell_type": "code",
   "execution_count": null,
   "metadata": {},
   "outputs": [],
   "source": [
    "apple_data['risk_free'] = risk_free_rate"
   ]
  },
  {
   "cell_type": "code",
   "execution_count": null,
   "metadata": {},
   "outputs": [],
   "source": [
    "risk_free_rate_reindexed = risk_free_rate.reindex(apple_data.index, method='bfill') # backfill bcs you cant look forward w/ fin data"
   ]
  },
  {
   "cell_type": "code",
   "execution_count": null,
   "metadata": {},
   "outputs": [],
   "source": [
    "apple_spreads_1y = []\n",
    "for index, row in apple_data.iterrows():\n",
    "    assetval = row['asset_val'] / row['cshoq']\n",
    "    debtval = row['debt_val'] / row['cshoq']\n",
    "    T_1y = 1\n",
    "    sigma = asset_vol_naive\n",
    "    rf = risk_free_rate_reindexed.loc[index].item()\n",
    "\n",
    "    # try:\n",
    "    #     rf = risk_free_rate.loc[index]\n",
    "    # except KeyError:\n",
    "    #     rf = risk_free_rate_reindexed.iloc[risk_free_rate.index.get_loc(index, method='nearest')]\n",
    "\n",
    "    implied_spread_1y = BS_implied_spread(asset_0=assetval, debt=debtval, T=T_1y, r=rf, sigma_asset=sigma)\n",
    "    apple_spreads_1y.append(implied_spread_1y)"
   ]
  },
  {
   "cell_type": "code",
   "execution_count": null,
   "metadata": {},
   "outputs": [],
   "source": [
    "type(cds_apple.index)"
   ]
  },
  {
   "cell_type": "code",
   "execution_count": null,
   "metadata": {},
   "outputs": [],
   "source": [
    "new_spreads_apple = [] \n",
    "for i in range(len(apple_spreads_1y)):\n",
    "    new_spreads_apple.append(apple_spreads_1y[i]*100)"
   ]
  },
  {
   "cell_type": "code",
   "execution_count": null,
   "metadata": {},
   "outputs": [],
   "source": [
    "plt.plot(apple_data.index, new_spreads_apple)\n",
    "plt.plot(cds_apple.index, cds_apple['PX1'])"
   ]
  },
  {
   "cell_type": "code",
   "execution_count": null,
   "metadata": {},
   "outputs": [],
   "source": [
    "tickers = cds_data['Ticker'].unique()\n",
    "tickers = tickers.tolist()"
   ]
  },
  {
   "cell_type": "code",
   "execution_count": null,
   "metadata": {},
   "outputs": [],
   "source": [
    "company_names = cds_data['Company'].unique()\n",
    "company_names = company_names.tolist()"
   ]
  },
  {
   "cell_type": "code",
   "execution_count": null,
   "metadata": {},
   "outputs": [],
   "source": [
    "csv_path_apple = os.path.join(data_dir, 'aapl_data.csv')\n",
    "apple_data = pd.read_csv(csv_path_apple, index_col='apdedateq')"
   ]
  },
  {
   "cell_type": "code",
   "execution_count": null,
   "metadata": {},
   "outputs": [],
   "source": [
    "\n",
    "file_path_comps = os.path.join(data_dir, 'company_list.txt')\n",
    "with open(file_path_comps, 'w') as file:\n",
    "    for company in company_names:\n",
    "        file.write(f\"{company}\\n\")"
   ]
  },
  {
   "cell_type": "code",
   "execution_count": null,
   "metadata": {},
   "outputs": [],
   "source": [
    "cds_data"
   ]
  },
  {
   "cell_type": "code",
   "execution_count": null,
   "metadata": {
    "scrolled": true
   },
   "outputs": [],
   "source": [
    "tickers"
   ]
  },
  {
   "cell_type": "markdown",
   "metadata": {},
   "source": [
    "# "
   ]
  },
  {
   "cell_type": "code",
   "execution_count": null,
   "metadata": {
    "scrolled": true
   },
   "outputs": [],
   "source": [
    "company_stock_data = {}\n",
    "\n",
    "for ticker in tickers:\n",
    "    series = yf.download(ticker, start = '2015-01-01', end='2021-09-11')['Adj Close']\n",
    "    company_stock_data[ticker] = series"
   ]
  },
  {
   "cell_type": "code",
   "execution_count": null,
   "metadata": {},
   "outputs": [],
   "source": [
    "company_stock_data_df = pd.DataFrame(company_stock_data)"
   ]
  },
  {
   "cell_type": "code",
   "execution_count": null,
   "metadata": {},
   "outputs": [],
   "source": [
    "len(company_stock_data_df['AAPL'])"
   ]
  },
  {
   "cell_type": "code",
   "execution_count": null,
   "metadata": {},
   "outputs": [],
   "source": [
    "for company in company_stock_data_df:\n",
    "    if len(company_stock_data_df[company].dropna()) < 0.6 * len(company_stock_data_df[company]):\n",
    "        company_stock_data_df = company_stock_data_df.drop(company, axis=1)"
   ]
  },
  {
   "cell_type": "code",
   "execution_count": null,
   "metadata": {},
   "outputs": [],
   "source": [
    "company_stock_data_df = company_stock_data_df[:-43] # all NA values at the end"
   ]
  },
  {
   "cell_type": "code",
   "execution_count": null,
   "metadata": {},
   "outputs": [],
   "source": [
    "final_ticker_list = company_stock_data_df.columns.tolist()"
   ]
  },
  {
   "cell_type": "code",
   "execution_count": null,
   "metadata": {},
   "outputs": [],
   "source": [
    "len(final_ticker_list)"
   ]
  },
  {
   "cell_type": "code",
   "execution_count": null,
   "metadata": {},
   "outputs": [],
   "source": [
    "file_path_tickers = os.path.join(data_dir, 'tickers.txt')\n",
    "with open(file_path_tickers, 'w') as file:\n",
    "    for ticker in final_ticker_list:\n",
    "        file.write(f\"{ticker}\\n\")"
   ]
  },
  {
   "cell_type": "code",
   "execution_count": null,
   "metadata": {},
   "outputs": [],
   "source": []
  },
  {
   "cell_type": "code",
   "execution_count": null,
   "metadata": {},
   "outputs": [],
   "source": [
    "csv_file_path_stocks = os.path.join(data_dir, 'company_stock_data.csv')\n",
    "company_stock_data_df.to_csv(csv_file_path_stocks)"
   ]
  },
  {
   "cell_type": "code",
   "execution_count": null,
   "metadata": {},
   "outputs": [],
   "source": [
    "nasdaq_historical = yf.download('^IXIC', start='1990-01-01', end='2024-01-01')\n",
    "nasdaq_historical['log_returns'] = np.log(nasdaq_historical['Adj Close'] / nasdaq_historical['Adj Close'].shift(1))\n",
    "nasdaq_historical.head()"
   ]
  },
  {
   "cell_type": "code",
   "execution_count": null,
   "metadata": {},
   "outputs": [],
   "source": [
    "# calc the daily volatility of returns and use as a super naive volatility estimate\n",
    "daily_vol = np.std(nasdaq_historical['log_returns'].dropna())\n",
    "annualized_vol_naive = daily_vol * np.sqrt(252)\n",
    "\n",
    "nasdaq_prices = nasdaq_historical['Adj Close']"
   ]
  },
  {
   "cell_type": "code",
   "execution_count": null,
   "metadata": {},
   "outputs": [],
   "source": [
    "plt.plot(nasdaq_prices.index, nasdaq_prices)\n",
    "plt.title(\"Historical Prices of NASDAQ\")\n",
    "plt.axvline(pd.Timestamp('1997-01-01'), color='red', linestyle='--', label='1996-01-02')\n",
    "plt.axvline(pd.Timestamp('2002-01-02'), color='red', linestyle='--', label='2002-01-02')\n",
    "plt.xlabel(\"Time\")\n",
    "plt.ylabel((\"Daily Price (Adjusted Closing)\"))"
   ]
  },
  {
   "cell_type": "code",
   "execution_count": null,
   "metadata": {},
   "outputs": [],
   "source": [
    "nasdaq_bubble = nasdaq_prices.loc['1997-01-01':'2003-01-01']\n",
    "nasdaq_bubble_full = pd.DataFrame(nasdaq_bubble)\n",
    "\n",
    "# just used generic values to show\n",
    "nasdaq_bubble_full['K'] = nasdaq_bubble_full['Adj Close']\n",
    "nasdaq_bubble_full['T'] = 1\n",
    "nasdaq_bubble_full['Rf'] = 0.05 \n",
    "nasdaq_bubble_full['sigma'] = annualized_vol_naive"
   ]
  },
  {
   "cell_type": "code",
   "execution_count": null,
   "metadata": {},
   "outputs": [],
   "source": [
    "bs_call_prices = []\n",
    "for index, row in nasdaq_bubble_full.iterrows():\n",
    "    S0 = row['Adj Close']\n",
    "    K = row['K']\n",
    "    T = row['T']\n",
    "    r = row['Rf']\n",
    "    sigma = row['sigma']\n",
    "\n",
    "    bs_price = blackscholes(S0, K, T, r, sigma)\n",
    "    bs_call_prices.append(bs_price)"
   ]
  },
  {
   "cell_type": "code",
   "execution_count": null,
   "metadata": {},
   "outputs": [],
   "source": [
    "plt.plot(nasdaq_bubble_full.index, bs_call_prices, color='r', label='call price')\n",
    "plt.plot(nasdaq_bubble_full['Adj Close'], color='b', label='index price')\n",
    "plt.legend()"
   ]
  },
  {
   "cell_type": "code",
   "execution_count": null,
   "metadata": {},
   "outputs": [],
   "source": [
    "plt.plot(nasdaq_bubble_full.index, bs_call_prices)"
   ]
  }
 ],
 "metadata": {
  "kernelspec": {
   "display_name": "Python 3 (ipykernel)",
   "language": "python",
   "name": "python3"
  },
  "language_info": {
   "codemirror_mode": {
    "name": "ipython",
    "version": 3
   },
   "file_extension": ".py",
   "mimetype": "text/x-python",
   "name": "python",
   "nbconvert_exporter": "python",
   "pygments_lexer": "ipython3",
   "version": "3.12.7"
  }
 },
 "nbformat": 4,
 "nbformat_minor": 4
}
