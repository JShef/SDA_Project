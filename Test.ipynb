{
 "cells": [
  {
   "cell_type": "code",
   "execution_count": 27,
   "id": "6efa8906-cd49-4af1-9254-e4d4566c4c6d",
   "metadata": {},
   "outputs": [],
   "source": [
    "import numpy as np\n",
    "import pandas as pd\n",
    "from scipy import stats\n",
    "import yfinance as yf\n",
    "import matplotlib.pyplot as plt\n",
    "%matplotlib inline"
   ]
  },
  {
   "cell_type": "code",
   "execution_count": 2,
   "id": "61cd5a54-d38e-466d-a22e-721595b0b254",
   "metadata": {},
   "outputs": [
    {
     "name": "stderr",
     "output_type": "stream",
     "text": [
      "[*********************100%***********************]  1 of 1 completed\n"
     ]
    }
   ],
   "source": [
    "nasdaq_historical = yf.download('^NDX', start='1990-01-01', end='2024-01-01')"
   ]
  },
  {
   "cell_type": "code",
   "execution_count": 3,
   "id": "2bddd166-4cc3-403e-a00a-c604243d1c05",
   "metadata": {},
   "outputs": [],
   "source": [
    "MCD = yf.Ticker(\"MCD\")"
   ]
  },
  {
   "cell_type": "code",
   "execution_count": 4,
   "id": "75e950df-b9fd-4d98-a601-b5f06eb123cc",
   "metadata": {},
   "outputs": [],
   "source": [
    "csd_df = pd.read_csv(\"datasets/cds.csv\", index_col='Date', parse_dates=True)"
   ]
  },
  {
   "cell_type": "code",
   "execution_count": 5,
   "id": "34b4b4f8-8f0e-41e6-b876-d33b7c5d88d4",
   "metadata": {},
   "outputs": [
    {
     "name": "stdout",
     "output_type": "stream",
     "text": [
      "['Agilent Technologies Inc' 'Anglo American PLC' 'Apple Inc' 'ABB Ltd'\n",
      " 'AbbVie Inc' 'AmerisourceBergen Corp' 'Abertis Infraestructuras SA'\n",
      " 'Anheuser Busch InBev SA NV' 'Abbott Laboratories' 'Barrick Gold Corp'\n",
      " 'Credit Agricole' 'ACEA SpA' 'Accor SA' 'Adecco Group AG'\n",
      " 'ADLER Real Estate AG' 'Archer-Daniels-Midland Co'\n",
      " 'Koninklijke Ahold Delhaize NV' 'Automatic Data Processing Inc'\n",
      " 'adidas AG' 'Aegon NV' 'The AES Corporation' 'Aetna Inc'\n",
      " 'American Financial Group Inc' 'African Export-Import Bank'\n",
      " 'Avangrid Inc' 'Agricultural Bank of China Ltd' 'Ageas' 'Air Liquide SA'\n",
      " 'American International Group Inc' 'Airbus SE' 'Akzo Nobel NV'\n",
      " 'Allstate Corp' 'Alliander NV' 'Ally Financial Inc' 'Alstom SA'\n",
      " 'Alpha Bank AE' 'Allianz SE' 'Applied Materials Inc' 'Amgen Inc'\n",
      " 'Ameriprise Financial Inc' 'American Tower Corp'\n",
      " 'America Movil SAB de CV' 'Amazon.com Inc' 'AutoNation Inc'\n",
      " 'AngloGold Ashanti' 'Anthem Inc' 'Australia   New Zealand Banking'\n",
      " 'Air Products   Chemicals Inc' 'FCC Aqualia SA' 'Saudi Arabian Oil Co'\n",
      " 'Arrow Electronics Inc' 'Asahi Group Holdings Ltd' 'ASML Holding NV'\n",
      " 'Assa Abloy AB' 'Assicurazioni Generali SpA' 'Atlas Copco AB'\n",
      " 'Atlantia SpA' 'Auchan' 'AvalonBay Communities Inc' 'Aviva PLC'\n",
      " 'Avnet Inc' 'Avery Dennison Corp' 'AXA SA' 'American Express'\n",
      " 'AstraZeneca PLC' 'AutoZone Inc' 'The Boeing Co'\n",
      " 'Alibaba Group Holding Limited' 'Bank of America Corp' 'Barclays PLC'\n",
      " 'Mediobanca - Banca di Credito Finanziario SpA' 'BAE SYSTEMS PLC'\n",
      " 'Brookfield' 'BASF SE' 'British American Tobacco PLC'\n",
      " 'Baxter International Inc' 'Bayer AG' 'Bombardier Inc' 'BBVA'\n",
      " 'Banco Bilbao Vizcaya Argentaria SA' 'Best Buy Co Inc' 'Bell Canada'\n",
      " 'Bank of China' 'Kingdom of Spain' 'Bocom Leasing Management'\n",
      " 'Banco Comercial Portugues SA' 'Becton Dickinson' 'Bertelsmann'\n",
      " 'Bevco Lux Sarl' 'Credit Mutuel' 'Baker Hughes Holdings' 'Baidu Inc'\n",
      " 'The Bank of New York Mellon Corporation' 'Bankia SA'\n",
      " 'Bank of Ireland Group Plc' 'Bankinter SA' 'Ball Corp' 'Bank of Montreal'\n",
      " 'Bayerische Motoren Werke AG' 'Bristol Myers Squibb Co' 'Danone SA'\n",
      " 'Portuguese Republic' 'Bank of East Asia Ltd' 'BNP Paribas SA'\n",
      " 'Bank of Nova Scotia The' 'Burlington Northern Santa Fe LLC'\n",
      " 'BOC Aviation Ltd' 'Bank of Communications'\n",
      " 'Bank of Communications Co Ltd' 'BP PLC' 'Berkshire Hathaway Inc'\n",
      " 'Boston Scientific Corp' 'BorgWarner Inc' 'Bayerische Landesbank'\n",
      " 'Citigroup Inc' 'Carrefour SA' 'Conagra Brands Inc' 'Cardinal Health Inc'\n",
      " 'Criteria Caixa SAU' 'Capgemini SE' 'Avis Budget' 'Cargill Inc'\n",
      " 'Caterpillar Inc' 'Chubb Ltd' 'Commonwealth Bank of Australia'\n",
      " 'Caisse Nationale de Reassurance Mutuelle Agricole Groupama'\n",
      " 'China Construction Bank Corp' 'Crown Castle International Corp'\n",
      " 'China Development Bank' 'Corp Nacional del Cobre de Chile' 'CECONOMY AG'\n",
      " 'Severstal OAO' 'The Chugoku Electric Power Co Inc' 'Cigna Corp'\n",
      " 'CITIC Ltd' 'Kookmin Bank' 'ITOCHU Corp' 'Central Japan Railway Co'\n",
      " 'Colgate-Palmolive Co' 'Cellnex Telecom SA' 'Clorox Co'\n",
      " 'Canadian Imperial Bank of Commerce' 'CMA CGM SA' 'Comcast Corp'\n",
      " 'Cummins Inc' 'Commerzbank AG' 'CNA Financial Corp' 'Centrica PLC'\n",
      " 'CNH Industrial NV' 'CNOOC' 'CenterPoint Energy Inc'\n",
      " 'Canadian Natural Resources Ltd' 'Canadian National Railway Co'\n",
      " 'Chorus Ltd' 'Capital One Financial Corp' 'Casino Guichard Perrachon SA'\n",
      " 'Commercial Bank PSQC' 'Continental AG' 'ConocoPhillips'\n",
      " 'Costco Wholesale Corp' 'Covivio' 'COX Communications Inc'\n",
      " 'Campbell Soup Co' 'Compass Group Plc' 'CPI Property Group SA'\n",
      " 'CAMDEN PROPERTY TRUST' 'Credit Suisse Group AG' 'Cisco Systems Inc'\n",
      " 'Constellium NV' 'CSX Corp' 'EI du Pont de Nemours & Co'\n",
      " 'CVS Health Corp' 'Chevron Corp' 'Caixa Geral de Depositos SA'\n",
      " 'Dominion Energy' 'Daimler AG' 'Daiwa Securities Group Inc'\n",
      " 'Delta Air Lines Inc' 'Danske Bank' 'Deutsche Bank AG' 'Deutsche Bahn'\n",
      " 'Deutsche Boerse AG' 'Deere   Co' 'DEPFA Bank' 'de Volksbank NV'\n",
      " 'Diageo PLC' 'Vinci SA' 'Quest Diagnostics Inc' 'DR Horton Inc'\n",
      " 'Danaher Corp' 'DNB Bank ASA' 'Dover Corp' 'Dow Chemical Co The'\n",
      " 'DP World Ltd' 'Deutsche Post AG' 'Darden Restaurants Inc'\n",
      " 'Koninklijke DSM NV' 'Deutsche Telekom AG' 'DTE Energy Co' 'DEVON'\n",
      " 'DXC Technology Co' 'DZ Bank AG' 'Emirates NBD PJSC'\n",
      " 'Consolidated Edison Inc' 'Electricite de France SA'\n",
      " 'EDP   Energias de Portugal SA' 'Export Import Bank of Korea'\n",
      " 'East Japan Railway Co' 'Eastman Chemical Co' 'Emerson Electric Co'\n",
      " 'Enbridge Inc' 'EnBW Energie Baden Wuerttemberg AG' 'Enel SpA'\n",
      " 'Bouygues SA' 'GIE ENGIE' 'Engie SA' 'Eni SpA' 'E.ON SE' 'Faurecia SA'\n",
      " 'EOG Resources Inc' 'Equinix Inc' 'Equinor ASA'\n",
      " 'Telefonaktiebolaget LM Ericsson' 'Erste Group Bank AG' 'Esselunga SpA'\n",
      " 'Energy Transfer LP' 'National Bank of Greece SA' 'Eaton' 'Entergy'\n",
      " 'Eurobank SA' 'Europcar' 'Evonik' 'EWE AG' 'Expedia Group Inc'\n",
      " 'easyJet Plc' 'Ford Motor Co' 'First Abu Dhabi Bank PJSC'\n",
      " 'Fiat Chrysler Automobiles NV' 'Fonterra' 'FedEx Corp' 'Fairfax'\n",
      " 'Fidelity National Information Services Inc' 'Fiserv Inc'\n",
      " 'Flextronics International Ltd' 'Fresenius Medical Care AG '\n",
      " 'Fresenius SE   Co KGaA' 'Valeo SA' 'Federal Realty Investment Trust'\n",
      " 'TechnipFMC PLC' 'Fortum Oyj' 'Galp Energia SGPS SA' 'Gazprom'\n",
      " 'General Dynamics Corp' 'General Electric Co' 'Gecina SA'\n",
      " 'Gilead Sciences Inc' 'General Mills Inc' 'Corning Inc'\n",
      " 'General Motors Co' 'Goodman Group' 'GATX Corporation'\n",
      " 'GEORGIA-PACIFIC CORP' 'Grifols SA' 'Goldman Sachs Group Inc The'\n",
      " 'GlaxoSmithKline PLC' 'Goodyear' 'Halliburton Co' 'Hasbro Inc'\n",
      " 'Hamburg Commercial Bank AG' 'Home Depot Inc The' 'Heineken NV'\n",
      " 'HeidelbergCement AG' 'Henkel AG   Co KGaA' 'Hess Corporation'\n",
      " 'Landesbank Hessen-Thueringen Girozentrale'\n",
      " 'Hartford Financial Services Group Inc' 'Hammerson Plc'\n",
      " 'Honda Motor Co Ltd' 'Thales SA' 'Honeywell International Inc'\n",
      " 'HOCHTIEF Aktiengesellschaft' 'Hapag-Lloyd AG' 'HP Inc' 'H&R Block Inc'\n",
      " 'HSBC Holdings PLC' 'Husky Energy' 'The Hershey Co'\n",
      " 'Hellenic Telecommunications' 'Humana Inc' 'Huntsman International LLC'\n",
      " 'Hyundai' 'Hysan Ltd' 'SK Hynix Inc'\n",
      " 'International Consolidated Airlines Group SA' 'Iberdrola SA'\n",
      " 'International Business Machines Corp'\n",
      " 'Industrial & Commercial Bank of China Ltd/'\n",
      " 'Industrial & Commercial Bank of China Ltd' 'ICICI Bank Ltd'\n",
      " 'PT Indonesia Asahan Aluminium Persero'\n",
      " 'International Game Technology Plc' 'innogy' 'Imperial Brands PLC'\n",
      " 'Industrial Bank of Korea' 'INEOS' 'Intel Corp' 'ING Groep NV'\n",
      " 'Intrum AB' 'Intuit Inc' 'Investor AB' 'International Paper Co'\n",
      " 'Interpublic Group of Cos' 'Intesa Sanpaolo SpA'\n",
      " 'Israel Electric Corp Ltd' 'ISS Global A/S' 'ITV Plc'\n",
      " 'Illinois Tool Works Inc' 'Japan Tobacco'\n",
      " 'Johnson Controls International plc' 'Jefferies' 'Johnson   Johnson'\n",
      " 'Juniper Networks Inc' 'JPMorgan Chase   Co' 'Nordstrom Inc' 'Kellogg Co'\n",
      " 'The Kansai Electric Power Company Inc' 'KBC Group NV' 'Kering'\n",
      " 'Kia Motors Corp' 'Kimco Realty Corp' 'Kimberly Clark Corp'\n",
      " 'Kinder Morgan Inc DE' 'Coca Cola Co The' 'Korea Electric Power Corp'\n",
      " 'Korea National Oil Corp' 'Koninklijke KPN NV' 'The Kroger Co'\n",
      " \"Kohl's Corp\" 'Loews Corp' 'Landesbank Baden' 'Leonardo SpA'\n",
      " 'Lennar Corp' 'Levi Strauss & Co' 'Legal & General Group Plc'\n",
      " 'LAFARGE SA' 'Laboratory Corp of America Holdings'\n",
      " 'Deutsche Lufthansa AG' 'LafargeHolcim Ltd' 'Klepierre SA'\n",
      " 'Li & Fung Limited' 'Lloyds Banking Group PLC' 'Eli Lilly & Co'\n",
      " 'Lockheed Martin Corp' 'Lincoln National Corp'\n",
      " 'Longfor Properties Co Ltd' 'Louis Dreyfus Co BV' \"Lowe's Cos Inc\"\n",
      " 'Loxam SAS' 'Legrand SA' 'Lukoil' 'Southwest Airlines Co' 'LANXESS AG'\n",
      " 'Marriott International Inc' 'Marubeni Corp' 'Masco Corp'\n",
      " 'Mashreqbank psc' 'Panasonic Corporation' \"McDonald's Corp\"\n",
      " 'LVMH Moet Hennessy Louis Vuitton SE' 'McKesson Corp' 'MDC Holdings Inc'\n",
      " 'Mondelez International Inc' 'MEITUAN' 'MetLife Inc' 'Metso Oyj' 'Mohawk'\n",
      " 'Mitsubishi Corp' 'Mitsui Fudosan Co Ltd' 'Mizuho'\n",
      " 'Martin Marietta Materials Inc' 'Lagardere SCA'\n",
      " 'Marsh & McLennan Cos Inc' '3M Co' 'Magellan Midstream Partners LP'\n",
      " 'Altria Group Inc' 'Banca Monte dei Paschi di Siena SpA' 'Monsanto'\n",
      " 'Marathon Petroleum Corp' 'MPLX LP' 'Macquarie Group Ltd'\n",
      " 'Merck   Co Inc' 'Merck KGaA' 'Marathon Oil Corp' 'Morgan Stanley'\n",
      " 'Microsoft Corp' 'Motorola Solutions Inc'\n",
      " 'Mitsui Sumitomo Insurance Co Ltd' 'ArcelorMittal SA'\n",
      " 'Mamoura Diversified Global Holding'\n",
      " 'Mitsubishi UFJ Lease & Finance Co Ltd' 'Munich Re' 'Wendel SA'\n",
      " 'National Australia Bank Ltd' 'Noble Energy' 'Newcrest' 'Nordea Bank Abp'\n",
      " 'Norddeutsche Landesbank Girozentrale' 'NextEra Energy Inc'\n",
      " 'Newmont Mining Corp' 'Nestle SA' 'Netflix Inc' 'National Grid PLC'\n",
      " 'Nisource' 'NIKE Inc' 'NN Group NV' 'Northrop Grumman Corp' 'Nokia OYJ'\n",
      " 'Nomura Holdings Inc' 'Novo Banco SA' 'Novartis AG' 'NRG Energy Inc'\n",
      " 'National Rural Utilities Cooperative Finance Corp' 'Nissan Motor Co Ltd'\n",
      " 'Norfolk Southern Corp' 'Naturgy Energy Group SA' 'Nutrien Ltd'\n",
      " 'Nippon Telegraph & Telephone Corp' 'Nucor Corp' 'Novafives S.A.S.'\n",
      " 'NVR Inc' 'Royal Bank of Scotland Group PLC'\n",
      " 'Nationwide Building Society' 'Owens Corning'\n",
      " 'Oversea-Chinese Banking Corp Ltd' 'Telefonica' 'OI European Group BV'\n",
      " 'ONEOK Inc' 'Omnicom' 'OP Corporate Bank' 'Orange SA' 'Orano SA'\n",
      " 'Oracle Corp' 'Origin Energy Ltd' 'Joy Treasure Assets Holding Inc'\n",
      " 'ORIX Corp' 'Orsted A S' 'Plains All American Pipeline LP'\n",
      " 'Pacific Gas & Electric Co' 'Healthpeak Properties Inc'\n",
      " 'Petroleos Mexicanos' 'PepsiCo Inc' 'Pertamina Persero'\n",
      " 'Petroleo Brasileiro SA' 'PETRONAS' 'Peugeot SA' 'Pfizer Inc'\n",
      " 'Procter   Gamble Co The' 'Perusahaan Perseroan (Persero) PT'\n",
      " 'The Progressive Corporation' 'Koninklijke Philips NV' 'PulteGroup Inc'\n",
      " 'Packaging Corp of America' 'Perusahaan Listrik Negara PT'\n",
      " 'Philip Morris International Inc' 'PNC Financial Services' 'POSCO'\n",
      " 'PPF Telecom Group BV' 'PPG Industries Inc' 'Proximus SA' 'Prudential'\n",
      " 'Prudential PLC' 'ProSiebenSat.1 Media SE' 'Publicis Groupe SA'\n",
      " 'Pioneer Natural Resources Co' 'QBE Insurance Group Ltd'\n",
      " 'Ryder System Inc' 'Rabobank' 'Rakuten Group Inc'\n",
      " 'Raiffeisen Bank International AG' 'Reckitt Benckiser' 'Robert Bosch'\n",
      " 'Rogers Communications Inc' 'Royal Dutch Shell PLC'\n",
      " 'Red Electrica Corp SA' 'Regency Centers LP' 'RELX PLC' 'Renault SA'\n",
      " 'Repsol SA' 'Pernod Ricard SA' 'Reliance Industries Ltd'\n",
      " 'Ralph Lauren Corp' 'Rosneft Oi' 'Republic Services Inc'\n",
      " 'Rentokil Initial PLC' 'Raytheon Technologies Corp' 'RWE AG' 'Rexel SA'\n",
      " 'Royal Bank of Canada' 'SABIC' 'Banco de Sabadell SA' 'Samba Financial'\n",
      " 'Sanofi' 'Santander Consumer Finance' 'Banco Santander SA'\n",
      " 'Santander UK Plc' 'Santander Holdings USA' 'SAP SE'\n",
      " 'Sappi Papier Holding GmbH' 'Nidda Healthcare Holding GmbH' 'Sberbank'\n",
      " 'State Bank of India' 'Scania AB' 'Santander Consumer Bank AG'\n",
      " 'Santander Consumer Bank AS' 'The Charles Schwab Corp' 'Swisscom AG'\n",
      " 'SCOR SE' 'K+S AG' 'Skandinaviska Enskilda Banken AB' 'Sealed Air Corp'\n",
      " 'SES SA' 'Smithfield Foods Inc' 'Altice France SA' 'Cie de Saint Gobain'\n",
      " 'SGSP Australia Assets' 'Optus' 'Schaeffler AG'\n",
      " 'Svenska Handelsbanken AB' 'Shimao Group Holdings Ltd'\n",
      " 'Shinhan Bank Co Ltd' 'Sherwin-Williams Co/The' 'Gazprom Neft'\n",
      " 'Siemens AG' 'Sino-Ocean' 'Sinopec' 'China Petrochemical Corp'\n",
      " 'Sompo Japan Insurance Inc' 'SK Innovation Co Ltd' 'SK Telecom Co Ltd'\n",
      " 'Schlumberger' 'SL Green Realty' 'Smiths Group PLC' 'Southern Co The'\n",
      " 'Societe Generale SA' 'SoftBank Group Corp' 'Solvay SA' 'S&P Global Inc'\n",
      " 'Sabine Pass Liquefaction' 'Sempra Energy' 'SSE PLC'\n",
      " 'Standard Chartered PLC' 'Stedin' 'Stena AB' 'Stora Enso Oyj'\n",
      " 'Stellantis NV' 'Santos Ltd' 'SingTel Group' 'INEOS Ltd'\n",
      " 'Constellation Brands Inc' 'Suncor Energy Inc' 'Schneider Electric SE'\n",
      " 'Sumitomo Corp' 'Sumitomo Mitsui' 'Suncorp-Metway Ltd'\n",
      " 'Sun Hung Kai Properties' 'Swedbank AB' 'Sodexo SA' 'Swire Pacific'\n",
      " 'Stanley Black & Decker' 'Syngenta AG' 'Sysco Corp' 'Suedzucker'\n",
      " 'AT T Inc' 'Takeda Pharmaceutical Co Ltd' 'Talanx AG'\n",
      " 'Molson Coors Brewing Co' 'Teck Resources Ltd' 'TELUS Corp'\n",
      " 'Toronto-Dominion Bank' 'TDC A/S' 'Telefonica SA' 'Telia Co AB'\n",
      " 'Telenor ASA' 'Grupo Televisa SA' 'Republic of Singapore'\n",
      " 'Tencent Holdings Ltd' 'Teva Pharmaceutical Industries Ltd' 'Target Corp'\n",
      " 'Telecom Italia SpA' 'TJX Cos Inc' 'Telekom Austria AG' 'thyssenkrupp AG'\n",
      " 'Telstra Corp Ltd' 'Telenet' 'TOTAL SA' 'Toyota Motor Corp'\n",
      " 'Toyota Tsusho Corp' 'Thomson Reuters Corp' 'Travelers Cos Inc'\n",
      " 'Tesco PLC' 'Tyson Foods Inc' 'Ingersoll-Rand' 'TotalEnergies'\n",
      " 'Jaguar Land Rover Automotive Plc' 'Teollisuuden Voima Oyj'\n",
      " 'Texas Instruments Inc' 'Textron Inc' 'Unione di Banche Italiane SpA'\n",
      " 'UBS Group AG' 'UniCredit SpA' 'UDR Inc' 'Universal Health Services Inc'\n",
      " 'Unibail Rodamco Westfield' 'Unilever' 'MUFG Bank'\n",
      " 'UnitedHealth Group Inc' 'Unipol Gruppo SpA' 'Unilabs Subholding AB'\n",
      " 'Unum Group' 'Union Pacific Corp' 'UPC Holding BV' 'UPM-Kymmene Oyj'\n",
      " 'United Parcel Service Inc' 'United Rentals North America Inc'\n",
      " 'US Bancorp' 'United Utilities Water Ltd' 'Vale SA' 'Vattenfall AB'\n",
      " 'Verbund AG' 'VF Corp' 'Viacom' 'Veolia Environnement SA' 'Vivendi SA'\n",
      " 'Valero Energy Corp' 'Volvo AB' 'Vulcan Materials Co'\n",
      " 'Virgin Money UK Plc' 'Vanke Real Estate' 'Vodafone Group PLC'\n",
      " 'Volvo Car AB' 'Volkswagen AG' 'Verizon Communications Inc'\n",
      " 'Walgreens Boots Alliance Inc' 'Wisconsin Energy Corp' 'Welltower Inc'\n",
      " 'Wesfarmers Ltd' 'Wells Fargo   Co' 'Whirlpool Corp' 'Wienerberger AG'\n",
      " 'Wolters Kluwer NV' 'Waste Management Inc' 'Williams Cos Inc'\n",
      " 'Wal-Mart Stores Inc' 'Woori Bank Co Ltd' 'Woodside'\n",
      " 'Westpac Banking Corp' 'Western Union Co The' 'Weyerhaeuser Co'\n",
      " 'XLIT Ltd' 'Exxon Mobil Corp' 'Ziggo']\n"
     ]
    }
   ],
   "source": [
    "print(pd.unique(csd_df['Company']))"
   ]
  },
  {
   "cell_type": "code",
   "execution_count": 44,
   "id": "d55207de-a44f-4a9a-be11-af1bf89ba4a4",
   "metadata": {},
   "outputs": [
    {
     "name": "stderr",
     "output_type": "stream",
     "text": [
      "[*********************100%***********************]  1 of 1 completed\n"
     ]
    }
   ],
   "source": [
    "mcdonalds = csd_df[csd_df['Company'] == \"McDonald's Corp\"]\n",
    "mcdonalds_historical = yf.download('MCD', start=mcdonalds.index.min().strftime('%Y-%m-%d'), end=mcdonalds.index.max().strftime('%Y-%m-%d'))\n",
    "mcdonalds = pd.merge(mcdonalds, mcdonalds_historical.droplevel(1, axis=1), left_index=True, right_index=True)\n",
    "mcdonalds['log_returns'] = np.log(mcdonalds['Adj Close'] / mcdonalds['Adj Close'].shift(1))"
   ]
  },
  {
   "cell_type": "code",
   "execution_count": 41,
   "id": "e8fe2e45-2f2c-4845-aaa6-628acb1ea854",
   "metadata": {},
   "outputs": [
    {
     "data": {
      "text/plain": [
       "[<matplotlib.lines.Line2D at 0x16e169e9a90>]"
      ]
     },
     "execution_count": 41,
     "metadata": {},
     "output_type": "execute_result"
    },
    {
     "data": {
      "image/png": "[encoded data removed]",
      "text/plain": [
       "<Figure size 640x480 with 1 Axes>"
      ]
     },
     "metadata": {},
     "output_type": "display_data"
    }
   ],
   "source": [
    "plt.plot(mcdonalds['PX1'])\n",
    "plt.plot(mcdonalds['Adj Close'])"
   ]
  },
  {
   "cell_type": "code",
   "execution_count": 43,
   "id": "72937724-169e-4d16-8a8f-0abed0c6c103",
   "metadata": {},
   "outputs": [],
   "source": [
    "def blackscholes(S0, K, T, r, sigma):\n",
    "    \"\"\"\n",
    "    Price of a European call in the Black-Scholes model.\n",
    "    \"\"\"\n",
    "    d1 = (np.log(S0)-np.log(K)+(r+sigma**2/2)*T)/(sigma*np.sqrt(T))\n",
    "    d2 = d1-sigma*np.sqrt(T)\n",
    "    return S0*norm.cdf(d1)-np.exp(-r*T)*K*norm.cdf(d2)"
   ]
  },
  {
   "cell_type": "code",
   "execution_count": 45,
   "id": "531c7ac5-2ff3-4584-b29a-48455748db28",
   "metadata": {},
   "outputs": [],
   "source": [
    "# calc the daily volatility of returns and use as a super naive volatility estimate\n",
    "daily_vol = np.std(mcdonalds['log_returns'].dropna())\n",
    "annualized_vol_naive = daily_vol * np.sqrt(252)"
   ]
  },
  {
   "cell_type": "code",
   "execution_count": 46,
   "id": "8bafce09-1fc2-4475-bb2d-22b232417e39",
   "metadata": {},
   "outputs": [],
   "source": [
    "mcdonalds_bubble = mcdonalds['Adj Close']\n",
    "mcdonalds_bubble_full = pd.DataFrame(mcdonalds_bubble)\n",
    "\n",
    "# just used generic values to show\n",
    "mcdonalds_bubble_full['K'] = mcdonalds_bubble_full['Adj Close']\n",
    "mcdonalds_bubble_full['T'] = 1\n",
    "mcdonalds_bubble_full['Rf'] = 0.05 \n",
    "mcdonalds_bubble_full['sigma'] = annualized_vol_naive"
   ]
  },
  {
   "cell_type": "code",
   "execution_count": 47,
   "id": "6da69ea9-6e75-46b4-8d79-623876b30362",
   "metadata": {},
   "outputs": [],
   "source": [
    "bs_call_prices = []\n",
    "for index, row in mcdonalds_bubble_full.iterrows():\n",
    "    S0 = row['Adj Close']\n",
    "    K = row['K']\n",
    "    T = row['T']\n",
    "    r = row['Rf']\n",
    "    sigma = row['sigma']\n",
    "\n",
    "    bs_price = blackscholes(S0, K, T, r, sigma)\n",
    "    bs_call_prices.append(bs_price)"
   ]
  },
  {
   "cell_type": "code",
   "execution_count": 48,
   "id": "78561373-3e3d-4fcc-9933-d2e0501d70b1",
   "metadata": {},
   "outputs": [
    {
     "data": {
      "text/plain": [
       "<matplotlib.legend.Legend at 0x16e21537050>"
      ]
     },
     "execution_count": 48,
     "metadata": {},
     "output_type": "execute_result"
    },
    {
     "data": {
      "image/png": "[encoded data removed]",
      "text/plain": [
       "<Figure size 640x480 with 1 Axes>"
      ]
     },
     "metadata": {},
     "output_type": "display_data"
    }
   ],
   "source": [
    "plt.plot(mcdonalds_bubble_full.index, bs_call_prices, color='r', label='call price')\n",
    "plt.plot(mcdonalds_bubble_full['Adj Close'], color='b', label='index price')\n",
    "plt.legend()"
   ]
  },
  {
   "cell_type": "code",
   "execution_count": 51,
   "id": "86adc51b-591f-452c-a6f8-e142ac80db1c",
   "metadata": {},
   "outputs": [
    {
     "data": {
      "text/plain": [
       "PearsonRResult(statistic=0.9999999999999989, pvalue=0.0)"
      ]
     },
     "execution_count": 51,
     "metadata": {},
     "output_type": "execute_result"
    }
   ],
   "source": [
    "stats.pearsonr(bs_call_prices, mcdonalds_bubble_full['Adj Close'])"
   ]
  },
  {
   "cell_type": "code",
   "execution_count": 52,
   "id": "75ad1481-bc9c-4c92-9f9a-cd9e73ba9299",
   "metadata": {},
   "outputs": [
    {
     "data": {
      "text/html": [
       "<div>\n",
       "<style scoped>\n",
       "    .dataframe tbody tr th:only-of-type {\n",
       "        vertical-align: middle;\n",
       "    }\n",
       "\n",
       "    .dataframe tbody tr th {\n",
       "        vertical-align: top;\n",
       "    }\n",
       "\n",
       "    .dataframe thead th {\n",
       "        text-align: right;\n",
       "    }\n",
       "</style>\n",
       "<table border=\"1\" class=\"dataframe\">\n",
       "  <thead>\n",
       "    <tr style=\"text-align: right;\">\n",
       "      <th></th>\n",
       "      <th>Adj Close</th>\n",
       "      <th>K</th>\n",
       "      <th>T</th>\n",
       "      <th>Rf</th>\n",
       "      <th>sigma</th>\n",
       "    </tr>\n",
       "    <tr>\n",
       "      <th>Date</th>\n",
       "      <th></th>\n",
       "      <th></th>\n",
       "      <th></th>\n",
       "      <th></th>\n",
       "      <th></th>\n",
       "    </tr>\n",
       "  </thead>\n",
       "  <tbody>\n",
       "    <tr>\n",
       "      <th>2015-01-02</th>\n",
       "      <td>72.753845</td>\n",
       "      <td>72.753845</td>\n",
       "      <td>1</td>\n",
       "      <td>0.05</td>\n",
       "      <td>0.218209</td>\n",
       "    </tr>\n",
       "    <tr>\n",
       "      <th>2015-01-05</th>\n",
       "      <td>71.950348</td>\n",
       "      <td>71.950348</td>\n",
       "      <td>1</td>\n",
       "      <td>0.05</td>\n",
       "      <td>0.218209</td>\n",
       "    </tr>\n",
       "    <tr>\n",
       "      <th>2015-01-06</th>\n",
       "      <td>72.082954</td>\n",
       "      <td>72.082954</td>\n",
       "      <td>1</td>\n",
       "      <td>0.05</td>\n",
       "      <td>0.218209</td>\n",
       "    </tr>\n",
       "    <tr>\n",
       "      <th>2015-01-07</th>\n",
       "      <td>73.338959</td>\n",
       "      <td>73.338959</td>\n",
       "      <td>1</td>\n",
       "      <td>0.05</td>\n",
       "      <td>0.218209</td>\n",
       "    </tr>\n",
       "    <tr>\n",
       "      <th>2015-01-08</th>\n",
       "      <td>73.611992</td>\n",
       "      <td>73.611992</td>\n",
       "      <td>1</td>\n",
       "      <td>0.05</td>\n",
       "      <td>0.218209</td>\n",
       "    </tr>\n",
       "    <tr>\n",
       "      <th>...</th>\n",
       "      <td>...</td>\n",
       "      <td>...</td>\n",
       "      <td>...</td>\n",
       "      <td>...</td>\n",
       "      <td>...</td>\n",
       "    </tr>\n",
       "    <tr>\n",
       "      <th>2021-09-02</th>\n",
       "      <td>224.098297</td>\n",
       "      <td>224.098297</td>\n",
       "      <td>1</td>\n",
       "      <td>0.05</td>\n",
       "      <td>0.218209</td>\n",
       "    </tr>\n",
       "    <tr>\n",
       "      <th>2021-09-03</th>\n",
       "      <td>223.117340</td>\n",
       "      <td>223.117340</td>\n",
       "      <td>1</td>\n",
       "      <td>0.05</td>\n",
       "      <td>0.218209</td>\n",
       "    </tr>\n",
       "    <tr>\n",
       "      <th>2021-09-07</th>\n",
       "      <td>220.660263</td>\n",
       "      <td>220.660263</td>\n",
       "      <td>1</td>\n",
       "      <td>0.05</td>\n",
       "      <td>0.218209</td>\n",
       "    </tr>\n",
       "    <tr>\n",
       "      <th>2021-09-08</th>\n",
       "      <td>222.930481</td>\n",
       "      <td>222.930481</td>\n",
       "      <td>1</td>\n",
       "      <td>0.05</td>\n",
       "      <td>0.218209</td>\n",
       "    </tr>\n",
       "    <tr>\n",
       "      <th>2021-09-09</th>\n",
       "      <td>222.921127</td>\n",
       "      <td>222.921127</td>\n",
       "      <td>1</td>\n",
       "      <td>0.05</td>\n",
       "      <td>0.218209</td>\n",
       "    </tr>\n",
       "  </tbody>\n",
       "</table>\n",
       "<p>1684 rows × 5 columns</p>\n",
       "</div>"
      ],
      "text/plain": [
       "             Adj Close           K  T    Rf     sigma\n",
       "Date                                                 \n",
       "2015-01-02   72.753845   72.753845  1  0.05  0.218209\n",
       "2015-01-05   71.950348   71.950348  1  0.05  0.218209\n",
       "2015-01-06   72.082954   72.082954  1  0.05  0.218209\n",
       "2015-01-07   73.338959   73.338959  1  0.05  0.218209\n",
       "2015-01-08   73.611992   73.611992  1  0.05  0.218209\n",
       "...                ...         ... ..   ...       ...\n",
       "2021-09-02  224.098297  224.098297  1  0.05  0.218209\n",
       "2021-09-03  223.117340  223.117340  1  0.05  0.218209\n",
       "2021-09-07  220.660263  220.660263  1  0.05  0.218209\n",
       "2021-09-08  222.930481  222.930481  1  0.05  0.218209\n",
       "2021-09-09  222.921127  222.921127  1  0.05  0.218209\n",
       "\n",
       "[1684 rows x 5 columns]"
      ]
     },
     "execution_count": 52,
     "metadata": {},
     "output_type": "execute_result"
    }
   ],
   "source": [
    "mcdonalds_bubble_full"
   ]
  },
  {
   "cell_type": "code",
   "execution_count": null,
   "id": "1baf54ca-f7a8-46d8-b8eb-7793e70c22bb",
   "metadata": {},
   "outputs": [],
   "source": []
  }
 ],
 "metadata": {
  "kernelspec": {
   "display_name": "Python 3 (ipykernel)",
   "language": "python",
   "name": "python3"
  },
  "language_info": {
   "codemirror_mode": {
    "name": "ipython",
    "version": 3
   },
   "file_extension": ".py",
   "mimetype": "text/x-python",
   "name": "python",
   "nbconvert_exporter": "python",
   "pygments_lexer": "ipython3",
   "version": "3.12.7"
  }
 },
 "nbformat": 4,
 "nbformat_minor": 5
}
